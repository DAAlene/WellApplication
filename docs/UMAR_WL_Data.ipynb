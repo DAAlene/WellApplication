{
 "cells": [
  {
   "cell_type": "markdown",
   "metadata": {},
   "source": [
    "This notebook provides Python scripts to import, compile, modify, graph, and export Solinst transducer data. "
   ]
  },
  {
   "cell_type": "code",
   "execution_count": null,
   "metadata": {
    "collapsed": false
   },
   "outputs": [],
   "source": [
    "%matplotlib inline\n",
    "import pandas as pd\n",
    "import numpy as np\n",
    "import os\n",
    "import sys\n",
    "import platform\n",
    "import glob\n",
    "import re\n",
    "import xmltodict\n",
    "import matplotlib\n",
    "import matplotlib.pyplot as plt\n",
    "import matplotlib.dates as dates\n",
    "import matplotlib.ticker as tick\n",
    "from matplotlib.backends.backend_pdf import PdfPages\n",
    "import statsmodels.tsa.tsatools as tools\n",
    "from pandas.stats.api import ols\n",
    "from datetime import datetime\n",
    "from pylab import rcParams\n",
    "rcParams['figure.figsize'] = 15, 10"
   ]
  },
  {
   "cell_type": "code",
   "execution_count": null,
   "metadata": {
    "collapsed": false
   },
   "outputs": [],
   "source": [
    "print(\"Operating System \" + platform.system() + \" \" + platform.release())\n",
    "print(\"Python Version \" + str(sys.version))\n",
    "print(\"Pandas Version \" + str(pd.__version__))\n",
    "print(\"Numpy Version \" + str(np.__version__))\n",
    "print(\"Matplotlib Version \" + str(matplotlib.__version__))"
   ]
  },
  {
   "cell_type": "code",
   "execution_count": null,
   "metadata": {
    "collapsed": true
   },
   "outputs": [],
   "source": [
    "#rootname = '/media/p/Transcend/PROJECTS/UMAR/Phase_II/Data/RAW/'\n",
    "rootname = 'E:/PROJECTS/UMAR/Data/RAW/'"
   ]
  },
  {
   "cell_type": "markdown",
   "metadata": {},
   "source": [
    "## Scat"
   ]
  },
  {
   "cell_type": "code",
   "execution_count": null,
   "metadata": {
    "collapsed": false
   },
   "outputs": [],
   "source": [
    "def Scat(data,bp,wl):\n",
    "    data['dwl'] = data[wl].diff()\n",
    "    data['dbp'] = data[bp].diff()\n",
    "\n",
    "    regression = ols(y=data['dwl'], x=data['dbp'])\n",
    "    m = regression.beta.x\n",
    "    b = regression.beta.intercept\n",
    "    r = regression.r2\n",
    "    #r = (regression.beta.r)**2\n",
    "    plt.scatter(y=data['dwl'], x=data['dbp'])\n",
    "\n",
    "    y_reg = [data['dbp'][i]*m+b for i in range(len(data['dbp']))]\n",
    "\n",
    "    plt.plot(data['dbp'],y_reg, \n",
    "             label='Regression: Y = {m:.4f}X + {b:.5}\\nr^2 = {r:.4f}\\n BE = {be:.2f} '.format(m=m,b=b,r=r,be=m))\n",
    "    plt.legend()\n",
    "    plt.xlabel('Sum of Barometric Pressure Changes (ft)')\n",
    "    plt.ylabel('Sum of Water-Level Changes (ft)')"
   ]
  },
  {
   "cell_type": "markdown",
   "metadata": {},
   "source": [
    "## clarks"
   ]
  },
  {
   "cell_type": "code",
   "execution_count": null,
   "metadata": {
    "collapsed": false
   },
   "outputs": [],
   "source": [
    "# clark's method\n",
    "def clarks(data,bp,wl):\n",
    "    '''\n",
    "    clarks method\n",
    "    Input dataframe (data) with barometric pressure (bp) and water level (wl) data\n",
    "    Returns slope, intercept, and r squared value'''\n",
    "    data['dwl'] = data[wl].diff()\n",
    "    data['dbp'] = data[bp].diff()\n",
    "    \n",
    "    data['beta'] = data['dbp']*data['dwl']\n",
    "    data['Sbp'] = np.abs(data['dbp']).cumsum()\n",
    "    data['Swl'] = data[['dwl','beta']].apply(lambda x: -1*np.abs(x[0]) if x[1]>0 else np.abs(x[0]), axis=1).cumsum()\n",
    "    plt.figure()\n",
    "    plt.plot(data['Sbp'],data['Swl'])\n",
    "    regression = ols(y=data['Swl'], x=data['Sbp'])\n",
    "    \n",
    "    m = regression.beta.x\n",
    "    b = regression.beta.intercept\n",
    "    r = regression.r2\n",
    "    \n",
    "    y_reg = [data.ix[i,'Sbp']*m+b for i in range(len(data['Sbp']))]\n",
    "\n",
    "    plt.plot(data['Sbp'],y_reg,\n",
    "             label='Regression: Y = {m:.4f}X + {b:.5}\\nr^2 = {r:.4f}\\n BE = {be:.2f} '.format(m=m,b=b,r=r,be=m))\n",
    "    plt.legend()\n",
    "    plt.xlabel('Sum of Barometric Pressure Changes (ft)')\n",
    "    plt.ylabel('Sum of Water-Level Changes (ft)')\n",
    "    data.drop(['dwl','dbp','Sbp','Swl'], axis=1, inplace=True)\n",
    "    return m,b,r"
   ]
  },
  {
   "cell_type": "markdown",
   "metadata": {},
   "source": [
    "# Setting Up the Solinst Barologger and Levelogger"
   ]
  },
  {
   "cell_type": "markdown",
   "metadata": {},
   "source": [
    "I always set my transducers to `future start` to make the tranducer start on the hour.  I also allow the Levelogger to take an instantaneous measurement out of water, and zero the transducer out to accomodate for elevation."
   ]
  },
  {
   "cell_type": "markdown",
   "metadata": {},
   "source": [
    "# Import Relevant Files"
   ]
  },
  {
   "cell_type": "markdown",
   "metadata": {},
   "source": [
    "First, we must import all of the relevant data. To properly import transducer data, we need:\n",
    "* Transducer (Levelogger) data\n",
    "* Barometric (Barologger) data\n",
    "* Manual Depth to Water Measurements\n",
    "    \n",
    "If we want to calculate water-level elevation, we also need:\n",
    "* Well stickup length (ground to measure point distance)\n",
    "* Ground surface elevation at well\n",
    "<br/>OR<br/>\n",
    "* Elevation of measure point"
   ]
  },
  {
   "cell_type": "code",
   "execution_count": null,
   "metadata": {
    "collapsed": false
   },
   "outputs": [],
   "source": [
    "barofile = new_xle_imp(rootname + \"baro_2015-07-16.xle\")\n",
    "barofile2 = pd.read_csv(rootname + \"UCC.csv\",parse_dates=True,index_col='Day',skiprows=14, na_values=['M','S'])\n",
    "wellfile = new_xle_imp(rootname +\"arnold_well_2015-07-16.xle\")\n",
    "wellfile2 = new_xle_imp(rootname +\"arnold_well_2015-04-01.xle\")\n",
    "manualfile = pd.read_excel(rootname +\"Manual_Readings.xlsx\",\"Arn_Well\",index_col=\"datetime\")"
   ]
  },
  {
   "cell_type": "code",
   "execution_count": null,
   "metadata": {
    "collapsed": false
   },
   "outputs": [],
   "source": [
    "barofile2['ft_water_bp']= barofile2['Sea Level Pressure']*0.0335 - (31.17 - 4806/826 + 7.8) # convert hPa to ft water\n",
    "barofile2 = barofile2.interpolate(method='time') # fill NA spots"
   ]
  },
  {
   "cell_type": "markdown",
   "metadata": {},
   "source": [
    "## Compile Files if Necessary"
   ]
  },
  {
   "cell_type": "markdown",
   "metadata": {},
   "source": [
    "Concatonate the well files so that they are one seamless file."
   ]
  },
  {
   "cell_type": "code",
   "execution_count": null,
   "metadata": {
    "collapsed": true
   },
   "outputs": [],
   "source": [
    "wellfile = pd.concat([wellfile,wellfile2])\n",
    "wellfile.sort_index(inplace=True)"
   ]
  },
  {
   "cell_type": "code",
   "execution_count": null,
   "metadata": {
    "collapsed": false
   },
   "outputs": [],
   "source": [
    "wellfile.columns"
   ]
  },
  {
   "cell_type": "markdown",
   "metadata": {},
   "source": [
    "## Graph Raw Data"
   ]
  },
  {
   "cell_type": "markdown",
   "metadata": {},
   "source": [
    "You should always graph raw data to see if there are any tares in the data from users moving the tranducer placement.  Sometimes, the transducer is out of the water when it takes a measurement.  These points should be removed or adjusted."
   ]
  },
  {
   "cell_type": "code",
   "execution_count": null,
   "metadata": {
    "collapsed": false
   },
   "outputs": [],
   "source": [
    "#http://stackoverflow.com/questions/7733693/matplotlib-overlay-plots-with-different-scales\n",
    "x1 = wellfile.index.to_datetime() #converts pandas dataframe index into datetime format for graph\n",
    "x2 = barofile.index.to_datetime()\n",
    "x3 = manualfile.index.to_datetime()\n",
    "\n",
    "y1 = wellfile['Level']\n",
    "y2 = barofile['Level']\n",
    "y3 = manualfile['dtw_ft']\n",
    "\n",
    "data = [(x1,y1),(x2,y2),(x3,y3)]\n",
    "\n",
    "fig, ax = plt.subplots()\n",
    "\n",
    "# Twin the x-axis twice to make independent y-axes.\n",
    "axes = [ax, ax.twinx(), ax.twinx()]\n",
    "\n",
    "# Make some space on the right side for the extra y-axis.\n",
    "fig.subplots_adjust(right=0.75)\n",
    "\n",
    "# Move the last y-axis spine over to the right by 20% of the width of the axes\n",
    "axes[-1].spines['right'].set_position(('axes', 1.2))\n",
    "\n",
    "# To make the border of the right-most axis visible, we need to turn the frame\n",
    "# on. This hides the other plots, however, so we need to turn its fill off.\n",
    "axes[-1].set_frame_on(True)\n",
    "axes[-1].patch.set_visible(False)\n",
    "\n",
    "# And finally we get to plot things...\n",
    "colors = ['Green', 'Red', 'Blue']\n",
    "labels = ['Levelogger Pressure (ft)','Barologger Pressure (ft)','Manual Readings (ft to water)' ]\n",
    "marks = ['','','o']\n",
    "linetypes = ['solid','solid','none']\n",
    "\n",
    "for ax, color, datum, label, mark, linety in zip(axes, colors, data, labels, marks, linetypes):\n",
    "    ax.plot(datum[0],datum[1], marker=mark, linestyle=linety, color=color, label=label)\n",
    "    ax.set_ylabel(label, color=color)\n",
    "    ax.tick_params(axis='y', colors=color)\n",
    "    \n",
    "h1, l1 = axes[0].get_legend_handles_labels()\n",
    "h2, l2 = axes[1].get_legend_handles_labels()\n",
    "h3, l3 = axes[2].get_legend_handles_labels()\n",
    "axes[0].legend(h1+h2+h3, l1+l2+l3, loc=4)\n",
    "\n",
    "\n",
    "plt.show()"
   ]
  },
  {
   "cell_type": "code",
   "execution_count": null,
   "metadata": {
    "collapsed": false
   },
   "outputs": [],
   "source": [
    "print range(-10,10)"
   ]
  },
  {
   "cell_type": "markdown",
   "metadata": {},
   "source": [
    "# Fix Jumps"
   ]
  },
  {
   "cell_type": "markdown",
   "metadata": {},
   "source": [
    "This tranducer has a jump in the middle of the data caused by adjustments during manual recordings, as well as a jump at the beginning due to the transducer being out of water at the time of measurement."
   ]
  },
  {
   "cell_type": "code",
   "execution_count": null,
   "metadata": {
    "collapsed": false
   },
   "outputs": [],
   "source": [
    "wellfile = smoother(wellfile, 'Level', 30, 3)\n",
    "wellfile = smoother(wellfile, 'Conductivity', 30, 3)"
   ]
  },
  {
   "cell_type": "code",
   "execution_count": null,
   "metadata": {
    "collapsed": false
   },
   "outputs": [],
   "source": [
    "wellfile = jumpfix(wellfile,'Level',0.1)\n",
    "wellfile = jumpfix(wellfile,'Conductivity',0.005)\n",
    "wellfile['Level'].plot()"
   ]
  },
  {
   "cell_type": "markdown",
   "metadata": {},
   "source": [
    "# Remove Barometric Pressure"
   ]
  },
  {
   "cell_type": "markdown",
   "metadata": {},
   "source": [
    "Solinst transducers are nonvented, meaning that they measure absolute pressure.  When they are submerged in a well, they are measuring the pressure of the water and the atmosphere.  In most cases, we are only interested in the pressure that the water exerts, so we have to subtract the pressure that the atmosphere is exerting."
   ]
  },
  {
   "cell_type": "code",
   "execution_count": null,
   "metadata": {
    "collapsed": false
   },
   "outputs": [],
   "source": [
    "wellbaro = baro_drift_correct(wellfile,barofile,manualfile)"
   ]
  },
  {
   "cell_type": "code",
   "execution_count": null,
   "metadata": {
    "collapsed": false
   },
   "outputs": [],
   "source": [
    "wellbaro.columns"
   ]
  },
  {
   "cell_type": "code",
   "execution_count": null,
   "metadata": {
    "collapsed": false
   },
   "outputs": [],
   "source": [
    "wellbaro['WaterElevation'].plot()\n",
    "plt.vlines('11/4/2014 11:16',wellbaro['WaterElevation'].min(),wellbaro['WaterElevation'].max(),color='green')"
   ]
  },
  {
   "cell_type": "code",
   "execution_count": null,
   "metadata": {
    "collapsed": false
   },
   "outputs": [],
   "source": [
    "Scat(wellbaro,'abs_feet_above_barologger','WaterElevation')"
   ]
  },
  {
   "cell_type": "code",
   "execution_count": null,
   "metadata": {
    "collapsed": false
   },
   "outputs": [],
   "source": [
    "s, m, r = clarks(wellbaro,'abs_feet_above_barologger','WaterElevation')"
   ]
  },
  {
   "cell_type": "code",
   "execution_count": null,
   "metadata": {
    "collapsed": false
   },
   "outputs": [],
   "source": [
    "negcumls, cumls, ymod, resid, lag_time, dwl, dbp = baro_eff(wellbaro,'abs_feet_above_barologger','WaterElevation',100)\n",
    "plt.figure()\n",
    "lag_trim = lag_time[0:len(negcumls)]\n",
    "plt.scatter(lag_trim*24,negcumls, label='b.p. alone')\n",
    "plt.xlabel('lag (hours)')\n",
    "plt.ylabel('barometric response')\n",
    "\n",
    "ymin = wellbaro['WaterElevation'].min()\n",
    "\n",
    "fig, ax = plt.subplots()\n",
    "plt.plot(wellbaro.index[1:-1], resid)\n",
    "plt.text(x='11/3/2014 1:00',y=ymin+2,s='Injection Began',rotation=90,color='green',fontsize=12)\n",
    "y_formatter = tick.ScalarFormatter(useOffset=False)\n",
    "ax.yaxis.set_major_formatter(y_formatter)\n",
    "plt.vlines('11/4/2014 11:16',ymin+3,wellbaro['WaterElevation'].max(),color='green')\n",
    "\n",
    "print len(resid)\n",
    "print len(wellbaro.index[1:-1])"
   ]
  },
  {
   "cell_type": "code",
   "execution_count": null,
   "metadata": {
    "collapsed": false
   },
   "outputs": [],
   "source": [
    "wellbaro['corrwl'] = wellbaro['WaterElevation'] - wellbaro['abs_feet_above_barologger']*1\n",
    "manualfile['wlelev'] = 4800-manualfile['dtw_ft']\n",
    "\n",
    "x1 = wellbaro.index.to_datetime()[1:-1] #converts pandas dataframe index into datetime format for graph\n",
    "x2 = barofile.index.to_datetime()\n",
    "x3 = manualfile.index.to_datetime()\n",
    "\n",
    "y1 = resid\n",
    "y2 = barofile['Level']\n",
    "y3 = manualfile['wlelev']\n",
    "\n",
    "data = [(x1,y1),(x2,y2),(x3,y3)]\n",
    "\n",
    "fig, ax = plt.subplots()\n",
    "\n",
    "# Twin the x-axis twice to make independent y-axes.\n",
    "axes = [ax, ax.twinx(), ax.twinx()]\n",
    "\n",
    "# Make some space on the right side for the extra y-axis.\n",
    "fig.subplots_adjust(right=0.75)\n",
    "\n",
    "# Move the last y-axis spine over to the right by 20% of the width of the axes\n",
    "axes[-1].spines['right'].set_position(('axes', 1.2))\n",
    "\n",
    "# To make the border of the right-most axis visible, we need to turn the frame\n",
    "# on. This hides the other plots, however, so we need to turn its fill off.\n",
    "axes[-1].set_frame_on(True)\n",
    "axes[-1].patch.set_visible(False)\n",
    "\n",
    "# And finally we get to plot things...\n",
    "colors = ['Green', 'Red', 'Blue']\n",
    "labels = ['Levelogger Pressure (ft)','Barologger Pressure (ft)','Manual Readings (ft to water)' ]\n",
    "marks = ['','','o']\n",
    "linetypes = ['solid','solid','none']\n",
    "\n",
    "y_formatter = tick.ScalarFormatter(useOffset=False)\n",
    "\n",
    "for ax, color, datum, label, mark, linety in zip(axes, colors, data, labels, marks, linetypes):\n",
    "    ax.plot(datum[0],datum[1], marker=mark, linestyle=linety, color=color, label=label)\n",
    "    ax.set_ylabel(label, color=color)\n",
    "    ax.tick_params(axis='y', colors=color)\n",
    "    ax.yaxis.set_major_formatter(y_formatter)\n",
    "\n",
    "h1, l1 = axes[0].get_legend_handles_labels()\n",
    "h2, l2 = axes[1].get_legend_handles_labels()\n",
    "h3, l3 = axes[2].get_legend_handles_labels()\n",
    "axes[0].legend(h1+h2+h3, l1+l2+l3, loc=4)\n",
    "axes[2].set_ylim(4485,4493)\n",
    "\n",
    "\n",
    "plt.show()"
   ]
  },
  {
   "cell_type": "markdown",
   "metadata": {},
   "source": [
    "## Match Measurement Interval of Barometer (Barologger) and Transducer  "
   ]
  },
  {
   "cell_type": "markdown",
   "metadata": {},
   "source": [
    "It is best to set Solinst transducers (Leveloggers) to start at the same time and to measure at the same frequency as your Barologger. Sometimes, this does not happen.  To solve mismatches in sampling interval, we can resample the barometer data to same base (start time) and frequency as the transducer."
   ]
  },
  {
   "cell_type": "markdown",
   "metadata": {},
   "source": [
    "Using the `hourly_resample` function above, we can resample each transducer dataset."
   ]
  }
 ],
 "metadata": {
  "kernelspec": {
   "display_name": "Python 2",
   "language": "python",
   "name": "python2"
  },
  "language_info": {
   "codemirror_mode": {
    "name": "ipython",
    "version": 2.0
   },
   "file_extension": ".py",
   "mimetype": "text/x-python",
   "name": "python",
   "nbconvert_exporter": "python",
   "pygments_lexer": "ipython2",
   "version": "2.7.8"
  }
 },
 "nbformat": 4,
 "nbformat_minor": 0
}