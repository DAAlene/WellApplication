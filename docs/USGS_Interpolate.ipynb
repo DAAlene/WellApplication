{
 "cells": [
  {
   "cell_type": "markdown",
   "metadata": {},
   "source": [
    "This notebook uses the Scientific Python (scipy) stack tools to generate flow duration curves from current USGS NWIS data.\n",
    "\n",
    "Using recipes from this notebook, you can make:\n",
    "* USGS Station Summaries\n",
    "* Flow duration curves\n",
    "* Iterative import and compilation of USGS station information and data\n",
    "* boxplots using pandas\n",
    "* iterative charts (one monthly summary boxplot per station)\n",
    "* Gantt charts of USGS stations"
   ]
  },
  {
   "cell_type": "markdown",
   "metadata": {},
   "source": [
    "## Background"
   ]
  },
  {
   "cell_type": "markdown",
   "metadata": {},
   "source": [
    "Check out this for some great `pandas` applications:\n",
    "http://earthpy.org/time_series_analysis_with_pandas_part_2.html"
   ]
  },
  {
   "cell_type": "code",
   "execution_count": 2,
   "metadata": {
    "collapsed": false
   },
   "outputs": [],
   "source": [
    "%matplotlib inline\n",
    "import pandas as pd\n",
    "import platform\n",
    "import sys\n",
    "import numpy as np\n",
    "import matplotlib.pyplot as plt\n",
    "import matplotlib\n",
    "from pylab import rcParams\n",
    "rcParams['figure.figsize'] = 10, 10"
   ]
  },
  {
   "cell_type": "code",
   "execution_count": 2,
   "metadata": {
    "collapsed": false
   },
   "outputs": [
    {
     "name": "stdout",
     "output_type": "stream",
     "text": [
      "Operating System Windows 7\nPython Version 2.7.10 (default, May 23 2015, 09:40:32) [MSC v.1500 32 bit (Intel)]\nPandas Version 0.19.1\nNumpy Version 1.11.2\nMatplotlib Version 1.5.3\n"
     ]
    }
   ],
   "source": [
    "print(\"Operating System \" + platform.system() + \" \" + platform.release())\n",
    "print(\"Python Version \" + str(sys.version))\n",
    "print(\"Pandas Version \" + str(pd.__version__))\n",
    "print(\"Numpy Version \" + str(np.__version__))\n",
    "print(\"Matplotlib Version \" + str(matplotlib.__version__))"
   ]
  },
  {
   "cell_type": "markdown",
   "metadata": {},
   "source": [
    "This following the suggested import call for the well application function."
   ]
  },
  {
   "cell_type": "code",
   "execution_count": 3,
   "metadata": {
    "collapsed": true
   },
   "outputs": [],
   "source": [
    "import wellapplication as wa"
   ]
  },
  {
   "cell_type": "code",
   "execution_count": 4,
   "metadata": {
    "collapsed": false
   },
   "outputs": [
    {
     "data": {
      "text/plain": [
       "'0.4.19'"
      ]
     },
     "execution_count": 4,
     "metadata": {},
     "output_type": "execute_result"
    }
   ],
   "source": [
    "wa.__version__"
   ]
  },
  {
   "cell_type": "markdown",
   "metadata": {},
   "source": [
    "Call function class nwis and assign it as USGS.  This will allow for the implementation of all of the usgs functions.  This function class allows for the import of USGS data."
   ]
  },
  {
   "cell_type": "code",
   "execution_count": 7,
   "metadata": {
    "collapsed": true
   },
   "outputs": [
    {
     "name": "stdout",
     "output_type": "stream",
     "text": [
      "connection successful\n"
     ]
    }
   ],
   "source": [
    "USGS = wa.nwis('gwlevels',[16020301],'huc')"
   ]
  },
  {
   "cell_type": "markdown",
   "metadata": {},
   "source": [
    "Once the class sucessfully connects, it downloads abbreviated site information and data for the location values entered.  The data can be accessed as objects of the variable assigned to the class."
   ]
  },
  {
   "cell_type": "code",
   "execution_count": 25,
   "metadata": {
    "collapsed": false
   },
   "outputs": [
    {
     "data": {
      "text/html": [
       "<div>\n",
       "<table border=\"1\" class=\"dataframe\">\n",
       "  <thead>\n",
       "    <tr style=\"text-align: right;\">\n",
       "      <th></th>\n",
       "      <th>data_type_cd</th>\n",
       "      <th>dec_coord_datum_cd</th>\n",
       "      <th>dec_lat_va</th>\n",
       "      <th>dec_long_va</th>\n",
       "      <th>site_no</th>\n",
       "      <th>station_nm</th>\n",
       "    </tr>\n",
       "  </thead>\n",
       "  <tbody>\n",
       "    <tr>\n",
       "      <th>0</th>\n",
       "      <td>GW</td>\n",
       "      <td>EPSG:4326</td>\n",
       "      <td>38.405806</td>\n",
       "      <td>-114.088444</td>\n",
       "      <td>382421114051801</td>\n",
       "      <td>196  N06 E70 02DDBB1    HAMLIN WELL</td>\n",
       "    </tr>\n",
       "    <tr>\n",
       "      <th>1</th>\n",
       "      <td>GW</td>\n",
       "      <td>EPSG:4326</td>\n",
       "      <td>38.504056</td>\n",
       "      <td>-114.204806</td>\n",
       "      <td>383023114115301</td>\n",
       "      <td>196  N08 E69 35CDDD1    USGS-MX</td>\n",
       "    </tr>\n",
       "    <tr>\n",
       "      <th>2</th>\n",
       "      <td>GW</td>\n",
       "      <td>EPSG:4326</td>\n",
       "      <td>38.503722</td>\n",
       "      <td>-114.206500</td>\n",
       "      <td>383023114115302</td>\n",
       "      <td>196  N07 E69 02BABA2    USGS-MX (Hamlin Valley...</td>\n",
       "    </tr>\n",
       "    <tr>\n",
       "      <th>3</th>\n",
       "      <td>GW</td>\n",
       "      <td>EPSG:4326</td>\n",
       "      <td>38.514167</td>\n",
       "      <td>-114.177028</td>\n",
       "      <td>383047114110001</td>\n",
       "      <td>196  N08 E69 36ADAA1    USBLM - ROSENCRANS WELL</td>\n",
       "    </tr>\n",
       "    <tr>\n",
       "      <th>4</th>\n",
       "      <td>GW</td>\n",
       "      <td>EPSG:4326</td>\n",
       "      <td>38.544611</td>\n",
       "      <td>-114.121500</td>\n",
       "      <td>383252114075101</td>\n",
       "      <td>196  N08 E70 21AADA1    TAIT WELL</td>\n",
       "    </tr>\n",
       "  </tbody>\n",
       "</table>\n",
       "</div>"
      ],
      "text/plain": [
       "<div>\n",
       "<table border=\"1\" class=\"dataframe\">\n",
       "  <thead>\n",
       "    <tr style=\"text-align: right;\">\n",
       "      <th></th>\n",
       "      <th>data_type_cd</th>\n",
       "      <th>dec_coord_datum_cd</th>\n",
       "      <th>dec_lat_va</th>\n",
       "      <th>dec_long_va</th>\n",
       "      <th>site_no</th>\n",
       "      <th>station_nm</th>\n",
       "    </tr>\n",
       "  </thead>\n",
       "  <tbody>\n",
       "    <tr>\n",
       "      <th>0</th>\n",
       "      <td>GW</td>\n",
       "      <td>EPSG:4326</td>\n",
       "      <td>38.405806</td>\n",
       "      <td>-114.088444</td>\n",
       "      <td>382421114051801</td>\n",
       "      <td>196  N06 E70 02DDBB1    HAMLIN WELL</td>\n",
       "    </tr>\n",
       "    <tr>\n",
       "      <th>1</th>\n",
       "      <td>GW</td>\n",
       "      <td>EPSG:4326</td>\n",
       "      <td>38.504056</td>\n",
       "      <td>-114.204806</td>\n",
       "      <td>383023114115301</td>\n",
       "      <td>196  N08 E69 35CDDD1    USGS-MX</td>\n",
       "    </tr>\n",
       "    <tr>\n",
       "      <th>2</th>\n",
       "      <td>GW</td>\n",
       "      <td>EPSG:4326</td>\n",
       "      <td>38.503722</td>\n",
       "      <td>-114.206500</td>\n",
       "      <td>383023114115302</td>\n",
       "      <td>196  N07 E69 02BABA2    USGS-MX (Hamlin Valley...</td>\n",
       "    </tr>\n",
       "    <tr>\n",
       "      <th>3</th>\n",
       "      <td>GW</td>\n",
       "      <td>EPSG:4326</td>\n",
       "      <td>38.514167</td>\n",
       "      <td>-114.177028</td>\n",
       "      <td>383047114110001</td>\n",
       "      <td>196  N08 E69 36ADAA1    USBLM - ROSENCRANS WELL</td>\n",
       "    </tr>\n",
       "    <tr>\n",
       "      <th>4</th>\n",
       "      <td>GW</td>\n",
       "      <td>EPSG:4326</td>\n",
       "      <td>38.544611</td>\n",
       "      <td>-114.121500</td>\n",
       "      <td>383252114075101</td>\n",
       "      <td>196  N08 E70 21AADA1    TAIT WELL</td>\n",
       "    </tr>\n",
       "  </tbody>\n",
       "</table>\n",
       "</div>"
      ]
     },
     "execution_count": 25,
     "metadata": {},
     "output_type": "execute_result"
    }
   ],
   "source": [
    "siteinfo = USGS.sites\n",
    "wldata = USGS.data\n",
    "sites.head()"
   ]
  },
  {
   "cell_type": "markdown",
   "metadata": {},
   "source": [
    "For a more rigourous description of the sites, call `get_info()` on the class. We use the rest arguement `hasDataTypeCd` to select only sites with groundwater level data."
   ]
  },
  {
   "cell_type": "code",
   "execution_count": 26,
   "metadata": {},
   "outputs": [
    {
     "name": "stdout",
     "output_type": "stream",
     "text": [
      "connection successful\nhttps://waterservices.usgs.gov/nwis/site/?hasDataTypeCd=gw&endDT=2017-01-18&format=rdb&startDT=1800-01-01&huc=16020301\n"
     ]
    },
    {
     "data": {
      "text/html": [
       "<div>\n",
       "<table border=\"1\" class=\"dataframe\">\n",
       "  <thead>\n",
       "    <tr style=\"text-align: right;\">\n",
       "      <th></th>\n",
       "      <th>agency_cd</th>\n",
       "      <th>site_no</th>\n",
       "      <th>station_nm</th>\n",
       "      <th>site_tp_cd</th>\n",
       "      <th>dec_lat_va</th>\n",
       "      <th>dec_long_va</th>\n",
       "      <th>coord_acy_cd</th>\n",
       "      <th>dec_coord_datum_cd</th>\n",
       "      <th>alt_va</th>\n",
       "      <th>alt_acy_va</th>\n",
       "      <th>alt_datum_cd</th>\n",
       "      <th>huc_cd</th>\n",
       "    </tr>\n",
       "  </thead>\n",
       "  <tbody>\n",
       "    <tr>\n",
       "      <th>0</th>\n",
       "      <td>USGS</td>\n",
       "      <td>382421114051801</td>\n",
       "      <td>196  N06 E70 02DDBB1    HAMLIN WELL</td>\n",
       "      <td>GW</td>\n",
       "      <td>38.405806</td>\n",
       "      <td>-114.088444</td>\n",
       "      <td>1</td>\n",
       "      <td>NAD83</td>\n",
       "      <td>5925.0</td>\n",
       "      <td>10.0</td>\n",
       "      <td>NGVD29</td>\n",
       "      <td>16020301</td>\n",
       "    </tr>\n",
       "    <tr>\n",
       "      <th>1</th>\n",
       "      <td>USGS</td>\n",
       "      <td>383023114115301</td>\n",
       "      <td>196  N08 E69 35CDDD1    USGS-MX</td>\n",
       "      <td>GW</td>\n",
       "      <td>38.504056</td>\n",
       "      <td>-114.204806</td>\n",
       "      <td>1</td>\n",
       "      <td>NAD83</td>\n",
       "      <td>5820.0</td>\n",
       "      <td>10.0</td>\n",
       "      <td>NGVD29</td>\n",
       "      <td>16020301</td>\n",
       "    </tr>\n",
       "    <tr>\n",
       "      <th>2</th>\n",
       "      <td>USGS</td>\n",
       "      <td>383023114115302</td>\n",
       "      <td>196  N07 E69 02BABA2    USGS-MX (Hamlin Valley...</td>\n",
       "      <td>GW</td>\n",
       "      <td>38.503722</td>\n",
       "      <td>-114.206500</td>\n",
       "      <td>1</td>\n",
       "      <td>NAD83</td>\n",
       "      <td>5839.0</td>\n",
       "      <td>10.0</td>\n",
       "      <td>NGVD29</td>\n",
       "      <td>16020301</td>\n",
       "    </tr>\n",
       "    <tr>\n",
       "      <th>3</th>\n",
       "      <td>USGS</td>\n",
       "      <td>383047114110001</td>\n",
       "      <td>196  N08 E69 36ADAA1    USBLM - ROSENCRANS WELL</td>\n",
       "      <td>GW</td>\n",
       "      <td>38.514167</td>\n",
       "      <td>-114.177028</td>\n",
       "      <td>1</td>\n",
       "      <td>NAD83</td>\n",
       "      <td>5761.0</td>\n",
       "      <td>10.0</td>\n",
       "      <td>NGVD29</td>\n",
       "      <td>16020301</td>\n",
       "    </tr>\n",
       "    <tr>\n",
       "      <th>4</th>\n",
       "      <td>USGS</td>\n",
       "      <td>383252114075101</td>\n",
       "      <td>196  N08 E70 21AADA1    TAIT WELL</td>\n",
       "      <td>GW</td>\n",
       "      <td>38.544611</td>\n",
       "      <td>-114.121500</td>\n",
       "      <td>1</td>\n",
       "      <td>NAD83</td>\n",
       "      <td>5707.0</td>\n",
       "      <td>10.0</td>\n",
       "      <td>NGVD29</td>\n",
       "      <td>16020301</td>\n",
       "    </tr>\n",
       "  </tbody>\n",
       "</table>\n",
       "</div>"
      ],
      "text/plain": [
       "<div>\n",
       "<table border=\"1\" class=\"dataframe\">\n",
       "  <thead>\n",
       "    <tr style=\"text-align: right;\">\n",
       "      <th></th>\n",
       "      <th>agency_cd</th>\n",
       "      <th>site_no</th>\n",
       "      <th>station_nm</th>\n",
       "      <th>site_tp_cd</th>\n",
       "      <th>dec_lat_va</th>\n",
       "      <th>dec_long_va</th>\n",
       "      <th>coord_acy_cd</th>\n",
       "      <th>dec_coord_datum_cd</th>\n",
       "      <th>alt_va</th>\n",
       "      <th>alt_acy_va</th>\n",
       "      <th>alt_datum_cd</th>\n",
       "      <th>huc_cd</th>\n",
       "    </tr>\n",
       "  </thead>\n",
       "  <tbody>\n",
       "    <tr>\n",
       "      <th>0</th>\n",
       "      <td>USGS</td>\n",
       "      <td>382421114051801</td>\n",
       "      <td>196  N06 E70 02DDBB1    HAMLIN WELL</td>\n",
       "      <td>GW</td>\n",
       "      <td>38.405806</td>\n",
       "      <td>-114.088444</td>\n",
       "      <td>1</td>\n",
       "      <td>NAD83</td>\n",
       "      <td>5925.0</td>\n",
       "      <td>10.0</td>\n",
       "      <td>NGVD29</td>\n",
       "      <td>16020301</td>\n",
       "    </tr>\n",
       "    <tr>\n",
       "      <th>1</th>\n",
       "      <td>USGS</td>\n",
       "      <td>383023114115301</td>\n",
       "      <td>196  N08 E69 35CDDD1    USGS-MX</td>\n",
       "      <td>GW</td>\n",
       "      <td>38.504056</td>\n",
       "      <td>-114.204806</td>\n",
       "      <td>1</td>\n",
       "      <td>NAD83</td>\n",
       "      <td>5820.0</td>\n",
       "      <td>10.0</td>\n",
       "      <td>NGVD29</td>\n",
       "      <td>16020301</td>\n",
       "    </tr>\n",
       "    <tr>\n",
       "      <th>2</th>\n",
       "      <td>USGS</td>\n",
       "      <td>383023114115302</td>\n",
       "      <td>196  N07 E69 02BABA2    USGS-MX (Hamlin Valley...</td>\n",
       "      <td>GW</td>\n",
       "      <td>38.503722</td>\n",
       "      <td>-114.206500</td>\n",
       "      <td>1</td>\n",
       "      <td>NAD83</td>\n",
       "      <td>5839.0</td>\n",
       "      <td>10.0</td>\n",
       "      <td>NGVD29</td>\n",
       "      <td>16020301</td>\n",
       "    </tr>\n",
       "    <tr>\n",
       "      <th>3</th>\n",
       "      <td>USGS</td>\n",
       "      <td>383047114110001</td>\n",
       "      <td>196  N08 E69 36ADAA1    USBLM - ROSENCRANS WELL</td>\n",
       "      <td>GW</td>\n",
       "      <td>38.514167</td>\n",
       "      <td>-114.177028</td>\n",
       "      <td>1</td>\n",
       "      <td>NAD83</td>\n",
       "      <td>5761.0</td>\n",
       "      <td>10.0</td>\n",
       "      <td>NGVD29</td>\n",
       "      <td>16020301</td>\n",
       "    </tr>\n",
       "    <tr>\n",
       "      <th>4</th>\n",
       "      <td>USGS</td>\n",
       "      <td>383252114075101</td>\n",
       "      <td>196  N08 E70 21AADA1    TAIT WELL</td>\n",
       "      <td>GW</td>\n",
       "      <td>38.544611</td>\n",
       "      <td>-114.121500</td>\n",
       "      <td>1</td>\n",
       "      <td>NAD83</td>\n",
       "      <td>5707.0</td>\n",
       "      <td>10.0</td>\n",
       "      <td>NGVD29</td>\n",
       "      <td>16020301</td>\n",
       "    </tr>\n",
       "  </tbody>\n",
       "</table>\n",
       "</div>"
      ]
     },
     "execution_count": 26,
     "metadata": {},
     "output_type": "execute_result"
    }
   ],
   "source": [
    "detail_siteinfo = USGS.get_info(hasDataTypeCd='gw')\n",
    "detail_siteinfo.head()"
   ]
  },
  {
   "cell_type": "markdown",
   "metadata": {},
   "source": [
    "We can clean up the value data to improve the quality and select a single station."
   ]
  },
  {
   "cell_type": "code",
   "execution_count": 31,
   "metadata": {
    "collapsed": false
   },
   "outputs": [
    {
     "data": {
      "text/plain": [
       "<matplotlib.axes._subplots.AxesSubplot at 0x12fc6430>"
      ]
     },
     "execution_count": 31,
     "metadata": {},
     "output_type": "execute_result"
    },
    {
     "data": {
      "image/png": "[encoded data removed]",
      "text/plain": [
       "<matplotlib.figure.Figure at 0x1327f250>"
      ]
     },
     "metadata": {},
     "output_type": "display_data"
    }
   ],
   "source": [
    "clean_wl = USGS.cleanGWL(wldata)\n",
    "onesite = clean_wl[(clean_wl['value']>0)&(clean_wl.index.get_level_values('site_no') == '383023114115302')]\n",
    "onesite.reset_index(inplace=True)\n",
    "onesite.set_index('datetime',inplace=True)\n",
    "onesite['value'].plot()"
   ]
  },
  {
   "cell_type": "markdown",
   "metadata": {},
   "source": [
    "Use the `get_elev` function to call the point elevation service of the USGS. The Elevation Point Query Service <a href=http://ned.usgs.gov/epqs/> EPQS </a>"
   ]
  },
  {
   "cell_type": "code",
   "execution_count": 32,
   "metadata": {
    "collapsed": false
   },
   "outputs": [],
   "source": [
    "siteinfo['Elev'] = siteinfo[['dec_long_va','dec_lat_va']].apply(lambda x: wa.get_elev(x),1)"
   ]
  },
  {
   "cell_type": "markdown",
   "metadata": {},
   "source": [
    "The default site data provide the HUC 8.  You can use ESRI services to get the 12-digit HUC."
   ]
  },
  {
   "cell_type": "code",
   "execution_count": 33,
   "metadata": {
    "collapsed": true
   },
   "outputs": [],
   "source": [
    "siteinfo['HUC12'] = siteinfo[['dec_long_va','dec_lat_va']].apply(lambda x: wa.get_huc(x),1)"
   ]
  },
  {
   "cell_type": "code",
   "execution_count": 34,
   "metadata": {},
   "outputs": [
    {
     "data": {
      "text/html": [
       "<div>\n",
       "<table border=\"1\" class=\"dataframe\">\n",
       "  <thead>\n",
       "    <tr style=\"text-align: right;\">\n",
       "      <th></th>\n",
       "      <th>data_type_cd</th>\n",
       "      <th>dec_coord_datum_cd</th>\n",
       "      <th>dec_lat_va</th>\n",
       "      <th>dec_long_va</th>\n",
       "      <th>site_no</th>\n",
       "      <th>station_nm</th>\n",
       "      <th>Elev</th>\n",
       "      <th>HUC12</th>\n",
       "    </tr>\n",
       "  </thead>\n",
       "  <tbody>\n",
       "    <tr>\n",
       "      <th>0</th>\n",
       "      <td>GW</td>\n",
       "      <td>EPSG:4326</td>\n",
       "      <td>38.405806</td>\n",
       "      <td>-114.088444</td>\n",
       "      <td>382421114051801</td>\n",
       "      <td>196  N06 E70 02DDBB1    HAMLIN WELL</td>\n",
       "      <td>1805.51</td>\n",
       "      <td>(160203010305, Cobb Creek-Hamlin Valley Wash)</td>\n",
       "    </tr>\n",
       "    <tr>\n",
       "      <th>1</th>\n",
       "      <td>GW</td>\n",
       "      <td>EPSG:4326</td>\n",
       "      <td>38.504056</td>\n",
       "      <td>-114.204806</td>\n",
       "      <td>383023114115301</td>\n",
       "      <td>196  N08 E69 35CDDD1    USGS-MX</td>\n",
       "      <td>1774.65</td>\n",
       "      <td>(160203010201, West Ditch)</td>\n",
       "    </tr>\n",
       "    <tr>\n",
       "      <th>2</th>\n",
       "      <td>GW</td>\n",
       "      <td>EPSG:4326</td>\n",
       "      <td>38.503722</td>\n",
       "      <td>-114.206500</td>\n",
       "      <td>383023114115302</td>\n",
       "      <td>196  N07 E69 02BABA2    USGS-MX (Hamlin Valley...</td>\n",
       "      <td>1780.07</td>\n",
       "      <td>(160203010201, West Ditch)</td>\n",
       "    </tr>\n",
       "    <tr>\n",
       "      <th>3</th>\n",
       "      <td>GW</td>\n",
       "      <td>EPSG:4326</td>\n",
       "      <td>38.514167</td>\n",
       "      <td>-114.177028</td>\n",
       "      <td>383047114110001</td>\n",
       "      <td>196  N08 E69 36ADAA1    USBLM - ROSENCRANS WELL</td>\n",
       "      <td>1756.52</td>\n",
       "      <td>(160203010202, Rosencrans Creek)</td>\n",
       "    </tr>\n",
       "    <tr>\n",
       "      <th>4</th>\n",
       "      <td>GW</td>\n",
       "      <td>EPSG:4326</td>\n",
       "      <td>38.544611</td>\n",
       "      <td>-114.121500</td>\n",
       "      <td>383252114075101</td>\n",
       "      <td>196  N08 E70 21AADA1    TAIT WELL</td>\n",
       "      <td>1740.02</td>\n",
       "      <td>(160203010310, Miller Wash-Hamlin Valley Wash)</td>\n",
       "    </tr>\n",
       "  </tbody>\n",
       "</table>\n",
       "</div>"
      ],
      "text/plain": [
       "<div>\n",
       "<table border=\"1\" class=\"dataframe\">\n",
       "  <thead>\n",
       "    <tr style=\"text-align: right;\">\n",
       "      <th></th>\n",
       "      <th>data_type_cd</th>\n",
       "      <th>dec_coord_datum_cd</th>\n",
       "      <th>dec_lat_va</th>\n",
       "      <th>dec_long_va</th>\n",
       "      <th>site_no</th>\n",
       "      <th>station_nm</th>\n",
       "      <th>Elev</th>\n",
       "      <th>HUC12</th>\n",
       "    </tr>\n",
       "  </thead>\n",
       "  <tbody>\n",
       "    <tr>\n",
       "      <th>0</th>\n",
       "      <td>GW</td>\n",
       "      <td>EPSG:4326</td>\n",
       "      <td>38.405806</td>\n",
       "      <td>-114.088444</td>\n",
       "      <td>382421114051801</td>\n",
       "      <td>196  N06 E70 02DDBB1    HAMLIN WELL</td>\n",
       "      <td>1805.51</td>\n",
       "      <td>(160203010305, Cobb Creek-Hamlin Valley Wash)</td>\n",
       "    </tr>\n",
       "    <tr>\n",
       "      <th>1</th>\n",
       "      <td>GW</td>\n",
       "      <td>EPSG:4326</td>\n",
       "      <td>38.504056</td>\n",
       "      <td>-114.204806</td>\n",
       "      <td>383023114115301</td>\n",
       "      <td>196  N08 E69 35CDDD1    USGS-MX</td>\n",
       "      <td>1774.65</td>\n",
       "      <td>(160203010201, West Ditch)</td>\n",
       "    </tr>\n",
       "    <tr>\n",
       "      <th>2</th>\n",
       "      <td>GW</td>\n",
       "      <td>EPSG:4326</td>\n",
       "      <td>38.503722</td>\n",
       "      <td>-114.206500</td>\n",
       "      <td>383023114115302</td>\n",
       "      <td>196  N07 E69 02BABA2    USGS-MX (Hamlin Valley...</td>\n",
       "      <td>1780.07</td>\n",
       "      <td>(160203010201, West Ditch)</td>\n",
       "    </tr>\n",
       "    <tr>\n",
       "      <th>3</th>\n",
       "      <td>GW</td>\n",
       "      <td>EPSG:4326</td>\n",
       "      <td>38.514167</td>\n",
       "      <td>-114.177028</td>\n",
       "      <td>383047114110001</td>\n",
       "      <td>196  N08 E69 36ADAA1    USBLM - ROSENCRANS WELL</td>\n",
       "      <td>1756.52</td>\n",
       "      <td>(160203010202, Rosencrans Creek)</td>\n",
       "    </tr>\n",
       "    <tr>\n",
       "      <th>4</th>\n",
       "      <td>GW</td>\n",
       "      <td>EPSG:4326</td>\n",
       "      <td>38.544611</td>\n",
       "      <td>-114.121500</td>\n",
       "      <td>383252114075101</td>\n",
       "      <td>196  N08 E70 21AADA1    TAIT WELL</td>\n",
       "      <td>1740.02</td>\n",
       "      <td>(160203010310, Miller Wash-Hamlin Valley Wash)</td>\n",
       "    </tr>\n",
       "  </tbody>\n",
       "</table>\n",
       "</div>"
      ]
     },
     "execution_count": 34,
     "metadata": {},
     "output_type": "execute_result"
    }
   ],
   "source": [
    "siteinfo.head()"
   ]
  },
  {
   "cell_type": "markdown",
   "metadata": {},
   "source": [
    "The `avg_wl()` function can produce an average monthly changes over time"
   ]
  },
  {
   "cell_type": "code",
   "execution_count": 39,
   "metadata": {
    "collapsed": false,
    "scrolled": false
   },
   "outputs": [],
   "source": [
    "df = USGS.avg_wl()"
   ]
  },
  {
   "cell_type": "markdown",
   "metadata": {},
   "source": [
    "The function will produce mean HUC-wide groundwater level trends over time."
   ]
  },
  {
   "cell_type": "code",
   "execution_count": 41,
   "metadata": {
    "collapsed": false
   },
   "outputs": [
    {
     "data": {
      "text/plain": [
       "<matplotlib.axes._subplots.AxesSubplot at 0x13ef3790>"
      ]
     },
     "execution_count": 41,
     "metadata": {},
     "output_type": "execute_result"
    },
    {
     "data": {
      "image/png": "[encoded data removed]",
      "text/plain": [
       "<matplotlib.figure.Figure at 0x13efe030>"
      ]
     },
     "metadata": {},
     "output_type": "display_data"
    }
   ],
   "source": [
    "df[['mean','median']].plot()"
   ]
  },
  {
   "cell_type": "code",
   "execution_count": null,
   "metadata": {
    "collapsed": true
   },
   "outputs": [],
   "source": [
    ""
   ]
  }
 ],
 "metadata": {
  "kernelspec": {
   "display_name": "Python 2",
   "language": "python",
   "name": "python2"
  },
  "language_info": {
   "codemirror_mode": {
    "name": "ipython",
    "version": 2.0
   },
   "file_extension": ".py",
   "mimetype": "text/x-python",
   "name": "python",
   "nbconvert_exporter": "python",
   "pygments_lexer": "ipython2",
   "version": "2.7.6"
  }
 },
 "nbformat": 4,
 "nbformat_minor": 0
}