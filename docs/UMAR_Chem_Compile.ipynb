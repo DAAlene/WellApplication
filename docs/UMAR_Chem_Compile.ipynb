{
 "cells": [
  {
   "cell_type": "code",
   "execution_count": null,
   "metadata": {
    "collapsed": false
   },
   "outputs": [],
   "source": [
    "import pandas as pd\n",
    "import numpy as np\n",
    "import matplotlib\n",
    "import matplotlib.pyplot as plt\n",
    "import urllib2\n",
    "from pyproj import Proj, transform\n",
    "import xmltodict\n",
    "import mechanize\n",
    "import sys\n",
    "import platform\n",
    "import datetime\n",
    "import statsmodels.api as sm\n",
    "from pylab import rcParams\n",
    "rcParams['figure.figsize'] = 15, 10\n",
    "%matplotlib inline"
   ]
  },
  {
   "cell_type": "code",
   "execution_count": 3,
   "metadata": {
    "collapsed": false
   },
   "outputs": [
    {
     "name": "stdout",
     "output_type": "stream",
     "text": [
      "Operating System Windows 7\n",
      "Python Version 2.7.8 (default, Jun 30 2014, 16:03:49) [MSC v.1500 32 bit (Intel)]\n",
      "Pandas Version 0.17.0\n",
      "Numpy Version 1.9.3\n",
      "Matplotlib Version 1.4.3\n"
     ]
    }
   ],
   "source": [
    "print(\"Operating System \" + platform.system() + \" \" + platform.release())\n",
    "print(\"Python Version \" + str(sys.version))\n",
    "print(\"Pandas Version \" + str(pd.__version__))\n",
    "print(\"Numpy Version \" + str(np.__version__))\n",
    "print(\"Matplotlib Version \" + str(matplotlib.__version__))"
   ]
  },
  {
   "cell_type": "code",
   "execution_count": 4,
   "metadata": {
    "collapsed": true
   },
   "outputs": [],
   "source": [
    "import wellapplication"
   ]
  },
  {
   "cell_type": "code",
   "execution_count": 5,
   "metadata": {
    "collapsed": false
   },
   "outputs": [],
   "source": [
    "import wellapplication.chem as wc"
   ]
  },
  {
   "cell_type": "code",
   "execution_count": 6,
   "metadata": {
    "collapsed": false
   },
   "outputs": [
    {
     "data": {
      "text/plain": [
       "'0.0.26'"
      ]
     },
     "execution_count": 6,
     "metadata": {},
     "output_type": "execute_result"
    }
   ],
   "source": [
    "wellapplication.__version__"
   ]
  },
  {
   "cell_type": "markdown",
   "metadata": {},
   "source": [
    "# Import and Standardize Data"
   ]
  },
  {
   "cell_type": "code",
   "execution_count": 7,
   "metadata": {
    "collapsed": true
   },
   "outputs": [],
   "source": [
    "#rootname = \"/media/p/5F5B-8FCB/PROJECTS/UMAR/Data/chem/\" #thumb on ubuntu\n",
    "rootname = \"E:\\\\PROJECTS\\\\UMAR\\\\Data\\\\chem\\\\\" #thumb on windows"
   ]
  },
  {
   "cell_type": "code",
   "execution_count": 8,
   "metadata": {
    "collapsed": false
   },
   "outputs": [],
   "source": [
    "WQPResultsFile = rootname + \"result.csv\"\n",
    "WQPStationFile = rootname + \"station.csv\"\n",
    "SDWISFile = rootname + \"SDWIS_Cache.txt\"\n",
    "AGStationsFile = rootname + \"AG_Stations_Cache.csv\"\n",
    "AGResultsFile = rootname + \"AG_byparam.csv\"\n",
    "UGSFile = rootname + \"UGS_Cache.txt\"\n",
    "STORLegStatFile = rootname + \"UT_Cache_sta_001.txt\"\n",
    "STORLegResFile = rootname + \"UT_Cache_res_001.txt\"\n",
    "STORParamFile = rootname + \"parameter.txt\""
   ]
  },
  {
   "cell_type": "code",
   "execution_count": 9,
   "metadata": {
    "collapsed": true
   },
   "outputs": [],
   "source": [
    "fielddata = rootname + \"FieldData.xlsx\"\n",
    "statelabresults0 = rootname + \"utgs1402.txt\"\n",
    "statelabresults1 = rootname + \"utgs1403.txt\"\n",
    "statelabresults2 = rootname + \"utgs1501.txt\"\n",
    "statelabstations = rootname + \"UtahStateLabStations.xlsx\""
   ]
  },
  {
   "cell_type": "code",
   "execution_count": 10,
   "metadata": {
    "collapsed": false
   },
   "outputs": [
    {
     "data": {
      "text/html": [
       "<div>\n",
       "<table border=\"1\" class=\"dataframe\">\n",
       "  <thead>\n",
       "    <tr style=\"text-align: right;\">\n",
       "      <th></th>\n",
       "      <th>OrgId</th>\n",
       "      <th>OrgName</th>\n",
       "      <th>SampleId</th>\n",
       "      <th>SampType</th>\n",
       "      <th>SampMedia</th>\n",
       "      <th>SampDepth</th>\n",
       "      <th>SampDepthU</th>\n",
       "      <th>SampDepthRef</th>\n",
       "      <th>ProjectId</th>\n",
       "      <th>StationId</th>\n",
       "      <th>...</th>\n",
       "      <th>AnalytMeth</th>\n",
       "      <th>AnalytMethId</th>\n",
       "      <th>MethodDescript</th>\n",
       "      <th>LabName</th>\n",
       "      <th>AnalysisDate</th>\n",
       "      <th>LabComments</th>\n",
       "      <th>LimitType</th>\n",
       "      <th>MDL</th>\n",
       "      <th>MDLUnit</th>\n",
       "      <th>SampleDate</th>\n",
       "    </tr>\n",
       "  </thead>\n",
       "  <tbody>\n",
       "    <tr>\n",
       "      <th>0</th>\n",
       "      <td>UTAHDWQ_WQX</td>\n",
       "      <td>Utah Department Of Environmental Quality</td>\n",
       "      <td>UTAHDWQ_WQX-1979DATA-69530-790200C</td>\n",
       "      <td>Sample-Routine</td>\n",
       "      <td>NaN</td>\n",
       "      <td>NaN</td>\n",
       "      <td>NaN</td>\n",
       "      <td>NaN</td>\n",
       "      <td>350</td>\n",
       "      <td>UTAHDWQ-4905670</td>\n",
       "      <td>...</td>\n",
       "      <td>GENERIC METHOD2</td>\n",
       "      <td>Used for half of methods where historical meth...</td>\n",
       "      <td>NaN</td>\n",
       "      <td>Utah DOH Division of Epidemilogy and Laborator...</td>\n",
       "      <td>NaT</td>\n",
       "      <td>NaN</td>\n",
       "      <td>NaN</td>\n",
       "      <td>NaN</td>\n",
       "      <td>NaN</td>\n",
       "      <td>1979-02-07 16:30:00</td>\n",
       "    </tr>\n",
       "    <tr>\n",
       "      <th>1</th>\n",
       "      <td>UTAHDWQ_WQX</td>\n",
       "      <td>Utah Department Of Environmental Quality</td>\n",
       "      <td>UTAHDWQ_WQX-1979DATA-69530-790200C</td>\n",
       "      <td>Sample-Routine</td>\n",
       "      <td>NaN</td>\n",
       "      <td>NaN</td>\n",
       "      <td>NaN</td>\n",
       "      <td>NaN</td>\n",
       "      <td>350</td>\n",
       "      <td>UTAHDWQ-4905670</td>\n",
       "      <td>...</td>\n",
       "      <td>GENERIC METHOD2</td>\n",
       "      <td>Used for half of methods where historical meth...</td>\n",
       "      <td>NaN</td>\n",
       "      <td>Utah DOH Division of Epidemilogy and Laborator...</td>\n",
       "      <td>NaT</td>\n",
       "      <td>NaN</td>\n",
       "      <td>NaN</td>\n",
       "      <td>NaN</td>\n",
       "      <td>NaN</td>\n",
       "      <td>1979-02-07 16:30:00</td>\n",
       "    </tr>\n",
       "    <tr>\n",
       "      <th>2</th>\n",
       "      <td>UTAHDWQ_WQX</td>\n",
       "      <td>Utah Department Of Environmental Quality</td>\n",
       "      <td>UTAHDWQ_WQX-1979DATA-69530-790200C</td>\n",
       "      <td>Sample-Routine</td>\n",
       "      <td>NaN</td>\n",
       "      <td>NaN</td>\n",
       "      <td>NaN</td>\n",
       "      <td>NaN</td>\n",
       "      <td>350</td>\n",
       "      <td>UTAHDWQ-4905670</td>\n",
       "      <td>...</td>\n",
       "      <td>GENERIC METHOD</td>\n",
       "      <td>Used for all methods where historical methodol...</td>\n",
       "      <td>NaN</td>\n",
       "      <td>Utah DOH Division of Epidemilogy and Laborator...</td>\n",
       "      <td>NaT</td>\n",
       "      <td>NaN</td>\n",
       "      <td>NaN</td>\n",
       "      <td>NaN</td>\n",
       "      <td>NaN</td>\n",
       "      <td>1979-02-07 16:30:00</td>\n",
       "    </tr>\n",
       "    <tr>\n",
       "      <th>3</th>\n",
       "      <td>UTAHDWQ_WQX</td>\n",
       "      <td>Utah Department Of Environmental Quality</td>\n",
       "      <td>UTAHDWQ_WQX-1979DATA-69530-790200C</td>\n",
       "      <td>Sample-Routine</td>\n",
       "      <td>NaN</td>\n",
       "      <td>NaN</td>\n",
       "      <td>NaN</td>\n",
       "      <td>NaN</td>\n",
       "      <td>350</td>\n",
       "      <td>UTAHDWQ-4905670</td>\n",
       "      <td>...</td>\n",
       "      <td>GENERIC METHOD</td>\n",
       "      <td>Used for all methods where historical methodol...</td>\n",
       "      <td>NaN</td>\n",
       "      <td>Utah DOH Division of Epidemilogy and Laborator...</td>\n",
       "      <td>NaT</td>\n",
       "      <td>NaN</td>\n",
       "      <td>NaN</td>\n",
       "      <td>NaN</td>\n",
       "      <td>NaN</td>\n",
       "      <td>1979-02-07 16:30:00</td>\n",
       "    </tr>\n",
       "    <tr>\n",
       "      <th>4</th>\n",
       "      <td>UTAHDWQ_WQX</td>\n",
       "      <td>Utah Department Of Environmental Quality</td>\n",
       "      <td>UTAHDWQ_WQX-1978DATA-66135-786631C</td>\n",
       "      <td>Sample-Routine</td>\n",
       "      <td>NaN</td>\n",
       "      <td>NaN</td>\n",
       "      <td>NaN</td>\n",
       "      <td>NaN</td>\n",
       "      <td>350</td>\n",
       "      <td>UTAHDWQ-4904980</td>\n",
       "      <td>...</td>\n",
       "      <td>GENERIC METHOD2</td>\n",
       "      <td>Used for half of methods where historical meth...</td>\n",
       "      <td>NaN</td>\n",
       "      <td>Utah DOH Division of Epidemilogy and Laborator...</td>\n",
       "      <td>NaT</td>\n",
       "      <td>NaN</td>\n",
       "      <td>NaN</td>\n",
       "      <td>NaN</td>\n",
       "      <td>NaN</td>\n",
       "      <td>1978-11-29 13:35:00</td>\n",
       "    </tr>\n",
       "    <tr>\n",
       "      <th>5</th>\n",
       "      <td>UTAHDWQ_WQX</td>\n",
       "      <td>Utah Department Of Environmental Quality</td>\n",
       "      <td>UTAHDWQ_WQX-1978DATA-66135-786631C</td>\n",
       "      <td>Sample-Routine</td>\n",
       "      <td>NaN</td>\n",
       "      <td>NaN</td>\n",
       "      <td>NaN</td>\n",
       "      <td>NaN</td>\n",
       "      <td>350</td>\n",
       "      <td>UTAHDWQ-4904980</td>\n",
       "      <td>...</td>\n",
       "      <td>GENERIC METHOD</td>\n",
       "      <td>Used for all methods where historical methodol...</td>\n",
       "      <td>NaN</td>\n",
       "      <td>Utah DOH Division of Epidemilogy and Laborator...</td>\n",
       "      <td>NaT</td>\n",
       "      <td>NaN</td>\n",
       "      <td>NaN</td>\n",
       "      <td>NaN</td>\n",
       "      <td>NaN</td>\n",
       "      <td>1978-11-29 13:35:00</td>\n",
       "    </tr>\n",
       "    <tr>\n",
       "      <th>6</th>\n",
       "      <td>UTAHDWQ_WQX</td>\n",
       "      <td>Utah Department Of Environmental Quality</td>\n",
       "      <td>UTAHDWQ_WQX-1979DATA-69530-790200C</td>\n",
       "      <td>Sample-Routine</td>\n",
       "      <td>NaN</td>\n",
       "      <td>NaN</td>\n",
       "      <td>NaN</td>\n",
       "      <td>NaN</td>\n",
       "      <td>350</td>\n",
       "      <td>UTAHDWQ-4905670</td>\n",
       "      <td>...</td>\n",
       "      <td>2540-C</td>\n",
       "      <td>Total Dissolved Solids in Water</td>\n",
       "      <td>https://www.nemi.gov/methods/method_summary/9818/</td>\n",
       "      <td>Utah DOH Division of Epidemilogy and Laborator...</td>\n",
       "      <td>NaT</td>\n",
       "      <td>NaN</td>\n",
       "      <td>NaN</td>\n",
       "      <td>NaN</td>\n",
       "      <td>NaN</td>\n",
       "      <td>1979-02-07 16:30:00</td>\n",
       "    </tr>\n",
       "    <tr>\n",
       "      <th>7</th>\n",
       "      <td>UTAHDWQ_WQX</td>\n",
       "      <td>Utah Department Of Environmental Quality</td>\n",
       "      <td>UTAHDWQ_WQX-1979DATA-69530-790200C</td>\n",
       "      <td>Sample-Routine</td>\n",
       "      <td>NaN</td>\n",
       "      <td>NaN</td>\n",
       "      <td>NaN</td>\n",
       "      <td>NaN</td>\n",
       "      <td>350</td>\n",
       "      <td>UTAHDWQ-4905670</td>\n",
       "      <td>...</td>\n",
       "      <td>GENERIC METHOD</td>\n",
       "      <td>Used for all methods where historical methodol...</td>\n",
       "      <td>NaN</td>\n",
       "      <td>Utah DOH Division of Epidemilogy and Laborator...</td>\n",
       "      <td>NaT</td>\n",
       "      <td>NaN</td>\n",
       "      <td>Method Detection Level</td>\n",
       "      <td>0.1</td>\n",
       "      <td>ug/l</td>\n",
       "      <td>1979-02-07 16:30:00</td>\n",
       "    </tr>\n",
       "    <tr>\n",
       "      <th>8</th>\n",
       "      <td>UTAHDWQ_WQX</td>\n",
       "      <td>Utah Department Of Environmental Quality</td>\n",
       "      <td>UTAHDWQ_WQX-1979DATA-69530-790200C</td>\n",
       "      <td>Sample-Routine</td>\n",
       "      <td>NaN</td>\n",
       "      <td>NaN</td>\n",
       "      <td>NaN</td>\n",
       "      <td>NaN</td>\n",
       "      <td>350</td>\n",
       "      <td>UTAHDWQ-4905670</td>\n",
       "      <td>...</td>\n",
       "      <td>GENERIC METHOD2</td>\n",
       "      <td>Used for half of methods where historical meth...</td>\n",
       "      <td>NaN</td>\n",
       "      <td>Utah DOH Division of Epidemilogy and Laborator...</td>\n",
       "      <td>NaT</td>\n",
       "      <td>NaN</td>\n",
       "      <td>NaN</td>\n",
       "      <td>NaN</td>\n",
       "      <td>NaN</td>\n",
       "      <td>1979-02-07 16:30:00</td>\n",
       "    </tr>\n",
       "    <tr>\n",
       "      <th>9</th>\n",
       "      <td>UTAHDWQ_WQX</td>\n",
       "      <td>Utah Department Of Environmental Quality</td>\n",
       "      <td>UTAHDWQ_WQX-1979DATA-69530-790200C</td>\n",
       "      <td>Sample-Routine</td>\n",
       "      <td>NaN</td>\n",
       "      <td>NaN</td>\n",
       "      <td>NaN</td>\n",
       "      <td>NaN</td>\n",
       "      <td>350</td>\n",
       "      <td>UTAHDWQ-4905670</td>\n",
       "      <td>...</td>\n",
       "      <td>GENERIC METHOD2</td>\n",
       "      <td>Used for half of methods where historical meth...</td>\n",
       "      <td>NaN</td>\n",
       "      <td>Utah DOH Division of Epidemilogy and Laborator...</td>\n",
       "      <td>NaT</td>\n",
       "      <td>NaN</td>\n",
       "      <td>NaN</td>\n",
       "      <td>NaN</td>\n",
       "      <td>NaN</td>\n",
       "      <td>1979-02-07 16:30:00</td>\n",
       "    </tr>\n",
       "    <tr>\n",
       "      <th>10</th>\n",
       "      <td>UTAHDWQ_WQX</td>\n",
       "      <td>Utah Department Of Environmental Quality</td>\n",
       "      <td>UTAHDWQ_WQX-1979DATA-69530-790200C</td>\n",
       "      <td>Sample-Routine</td>\n",
       "      <td>NaN</td>\n",
       "      <td>NaN</td>\n",
       "      <td>NaN</td>\n",
       "      <td>NaN</td>\n",
       "      <td>350</td>\n",
       "      <td>UTAHDWQ-4905670</td>\n",
       "      <td>...</td>\n",
       "      <td>GENERIC METHOD2</td>\n",
       "      <td>Used for half of methods where historical meth...</td>\n",
       "      <td>NaN</td>\n",
       "      <td>Utah DOH Division of Epidemilogy and Laborator...</td>\n",
       "      <td>NaT</td>\n",
       "      <td>NaN</td>\n",
       "      <td>NaN</td>\n",
       "      <td>NaN</td>\n",
       "      <td>NaN</td>\n",
       "      <td>1979-02-07 16:30:00</td>\n",
       "    </tr>\n",
       "    <tr>\n",
       "      <th>11</th>\n",
       "      <td>UTAHDWQ_WQX</td>\n",
       "      <td>Utah Department Of Environmental Quality</td>\n",
       "      <td>UTAHDWQ_WQX-1978DATA-66135-786631C</td>\n",
       "      <td>Sample-Routine</td>\n",
       "      <td>NaN</td>\n",
       "      <td>NaN</td>\n",
       "      <td>NaN</td>\n",
       "      <td>NaN</td>\n",
       "      <td>350</td>\n",
       "      <td>UTAHDWQ-4904980</td>\n",
       "      <td>...</td>\n",
       "      <td>GENERIC METHOD</td>\n",
       "      <td>Used for all methods where historical methodol...</td>\n",
       "      <td>NaN</td>\n",
       "      <td>Utah DOH Division of Epidemilogy and Laborator...</td>\n",
       "      <td>NaT</td>\n",
       "      <td>NaN</td>\n",
       "      <td>NaN</td>\n",
       "      <td>NaN</td>\n",
       "      <td>NaN</td>\n",
       "      <td>1978-11-29 13:35:00</td>\n",
       "    </tr>\n",
       "    <tr>\n",
       "      <th>12</th>\n",
       "      <td>UTAHDWQ_WQX</td>\n",
       "      <td>Utah Department Of Environmental Quality</td>\n",
       "      <td>UTAHDWQ_WQX-1978DATA-66135-786631C</td>\n",
       "      <td>Sample-Routine</td>\n",
       "      <td>NaN</td>\n",
       "      <td>NaN</td>\n",
       "      <td>NaN</td>\n",
       "      <td>NaN</td>\n",
       "      <td>350</td>\n",
       "      <td>UTAHDWQ-4904980</td>\n",
       "      <td>...</td>\n",
       "      <td>GENERIC METHOD2</td>\n",
       "      <td>Used for half of methods where historical meth...</td>\n",
       "      <td>NaN</td>\n",
       "      <td>Utah DOH Division of Epidemilogy and Laborator...</td>\n",
       "      <td>NaT</td>\n",
       "      <td>NaN</td>\n",
       "      <td>NaN</td>\n",
       "      <td>NaN</td>\n",
       "      <td>NaN</td>\n",
       "      <td>1978-11-29 13:35:00</td>\n",
       "    </tr>\n",
       "    <tr>\n",
       "      <th>13</th>\n",
       "      <td>UTAHDWQ_WQX</td>\n",
       "      <td>Utah Department Of Environmental Quality</td>\n",
       "      <td>UTAHDWQ_WQX-1979DATA-69530-790200C</td>\n",
       "      <td>Sample-Routine</td>\n",
       "      <td>NaN</td>\n",
       "      <td>NaN</td>\n",
       "      <td>NaN</td>\n",
       "      <td>NaN</td>\n",
       "      <td>350</td>\n",
       "      <td>UTAHDWQ-4905670</td>\n",
       "      <td>...</td>\n",
       "      <td>GENERIC METHOD</td>\n",
       "      <td>Used for all methods where historical methodol...</td>\n",
       "      <td>NaN</td>\n",
       "      <td>Utah DOH Division of Epidemilogy and Laborator...</td>\n",
       "      <td>NaT</td>\n",
       "      <td>NaN</td>\n",
       "      <td>Method Detection Level</td>\n",
       "      <td>10.0</td>\n",
       "      <td>ug/l</td>\n",
       "      <td>1979-02-07 16:30:00</td>\n",
       "    </tr>\n",
       "    <tr>\n",
       "      <th>14</th>\n",
       "      <td>UTAHDWQ_WQX</td>\n",
       "      <td>Utah Department Of Environmental Quality</td>\n",
       "      <td>UTAHDWQ_WQX-1979DATA-69530-790200C</td>\n",
       "      <td>Sample-Routine</td>\n",
       "      <td>NaN</td>\n",
       "      <td>NaN</td>\n",
       "      <td>NaN</td>\n",
       "      <td>NaN</td>\n",
       "      <td>350</td>\n",
       "      <td>UTAHDWQ-4905670</td>\n",
       "      <td>...</td>\n",
       "      <td>GENERIC METHOD</td>\n",
       "      <td>Used for all methods where historical methodol...</td>\n",
       "      <td>NaN</td>\n",
       "      <td>Utah DOH Division of Epidemilogy and Laborator...</td>\n",
       "      <td>NaT</td>\n",
       "      <td>NaN</td>\n",
       "      <td>NaN</td>\n",
       "      <td>NaN</td>\n",
       "      <td>NaN</td>\n",
       "      <td>1979-02-07 16:30:00</td>\n",
       "    </tr>\n",
       "    <tr>\n",
       "      <th>15</th>\n",
       "      <td>UTAHDWQ_WQX</td>\n",
       "      <td>Utah Department Of Environmental Quality</td>\n",
       "      <td>UTAHDWQ_WQX-1979DATA-69530-790200C</td>\n",
       "      <td>Sample-Routine</td>\n",
       "      <td>NaN</td>\n",
       "      <td>NaN</td>\n",
       "      <td>NaN</td>\n",
       "      <td>NaN</td>\n",
       "      <td>350</td>\n",
       "      <td>UTAHDWQ-4905670</td>\n",
       "      <td>...</td>\n",
       "      <td>GENERIC METHOD</td>\n",
       "      <td>Used for all methods where historical methodol...</td>\n",
       "      <td>NaN</td>\n",
       "      <td>Utah DOH Division of Epidemilogy and Laborator...</td>\n",
       "      <td>NaT</td>\n",
       "      <td>NaN</td>\n",
       "      <td>NaN</td>\n",
       "      <td>NaN</td>\n",
       "      <td>NaN</td>\n",
       "      <td>1979-02-07 16:30:00</td>\n",
       "    </tr>\n",
       "    <tr>\n",
       "      <th>16</th>\n",
       "      <td>UTAHDWQ_WQX</td>\n",
       "      <td>Utah Department Of Environmental Quality</td>\n",
       "      <td>UTAHDWQ_WQX-1978DATA-66112-780588C</td>\n",
       "      <td>Sample-Routine</td>\n",
       "      <td>NaN</td>\n",
       "      <td>NaN</td>\n",
       "      <td>NaN</td>\n",
       "      <td>NaN</td>\n",
       "      <td>350</td>\n",
       "      <td>UTAHDWQ-4904280</td>\n",
       "      <td>...</td>\n",
       "      <td>GENERIC METHOD</td>\n",
       "      <td>Used for all methods where historical methodol...</td>\n",
       "      <td>NaN</td>\n",
       "      <td>Utah DOH Division of Epidemilogy and Laborator...</td>\n",
       "      <td>NaT</td>\n",
       "      <td>NaN</td>\n",
       "      <td>NaN</td>\n",
       "      <td>NaN</td>\n",
       "      <td>NaN</td>\n",
       "      <td>1978-05-02 12:30:00</td>\n",
       "    </tr>\n",
       "    <tr>\n",
       "      <th>17</th>\n",
       "      <td>UTAHDWQ_WQX</td>\n",
       "      <td>Utah Department Of Environmental Quality</td>\n",
       "      <td>UTAHDWQ_WQX-1978DATA-66112-780588C</td>\n",
       "      <td>Sample-Routine</td>\n",
       "      <td>NaN</td>\n",
       "      <td>NaN</td>\n",
       "      <td>NaN</td>\n",
       "      <td>NaN</td>\n",
       "      <td>350</td>\n",
       "      <td>UTAHDWQ-4904280</td>\n",
       "      <td>...</td>\n",
       "      <td>GENERIC METHOD</td>\n",
       "      <td>Used for all methods where historical methodol...</td>\n",
       "      <td>NaN</td>\n",
       "      <td>Utah DOH Division of Epidemilogy and Laborator...</td>\n",
       "      <td>NaT</td>\n",
       "      <td>NaN</td>\n",
       "      <td>NaN</td>\n",
       "      <td>NaN</td>\n",
       "      <td>NaN</td>\n",
       "      <td>1978-05-02 12:30:00</td>\n",
       "    </tr>\n",
       "    <tr>\n",
       "      <th>18</th>\n",
       "      <td>UTAHDWQ_WQX</td>\n",
       "      <td>Utah Department Of Environmental Quality</td>\n",
       "      <td>UTAHDWQ_WQX-1978DATA-66112-780588C</td>\n",
       "      <td>Sample-Routine</td>\n",
       "      <td>NaN</td>\n",
       "      <td>NaN</td>\n",
       "      <td>NaN</td>\n",
       "      <td>NaN</td>\n",
       "      <td>350</td>\n",
       "      <td>UTAHDWQ-4904280</td>\n",
       "      <td>...</td>\n",
       "      <td>GENERIC METHOD</td>\n",
       "      <td>Used for all methods where historical methodol...</td>\n",
       "      <td>NaN</td>\n",
       "      <td>Utah DOH Division of Epidemilogy and Laborator...</td>\n",
       "      <td>NaT</td>\n",
       "      <td>NaN</td>\n",
       "      <td>NaN</td>\n",
       "      <td>NaN</td>\n",
       "      <td>NaN</td>\n",
       "      <td>1978-05-02 12:30:00</td>\n",
       "    </tr>\n",
       "    <tr>\n",
       "      <th>19</th>\n",
       "      <td>UTAHDWQ_WQX</td>\n",
       "      <td>Utah Department Of Environmental Quality</td>\n",
       "      <td>UTAHDWQ_WQX-1978DATA-66112-780588C</td>\n",
       "      <td>Sample-Routine</td>\n",
       "      <td>NaN</td>\n",
       "      <td>NaN</td>\n",
       "      <td>NaN</td>\n",
       "      <td>NaN</td>\n",
       "      <td>350</td>\n",
       "      <td>UTAHDWQ-4904280</td>\n",
       "      <td>...</td>\n",
       "      <td>GENERIC METHOD</td>\n",
       "      <td>Used for all methods where historical methodol...</td>\n",
       "      <td>NaN</td>\n",
       "      <td>Utah DOH Division of Epidemilogy and Laborator...</td>\n",
       "      <td>NaT</td>\n",
       "      <td>NaN</td>\n",
       "      <td>NaN</td>\n",
       "      <td>NaN</td>\n",
       "      <td>NaN</td>\n",
       "      <td>1978-05-02 12:30:00</td>\n",
       "    </tr>\n",
       "    <tr>\n",
       "      <th>20</th>\n",
       "      <td>UTAHDWQ_WQX</td>\n",
       "      <td>Utah Department Of Environmental Quality</td>\n",
       "      <td>UTAHDWQ_WQX-1978DATA-66112-780588C</td>\n",
       "      <td>Sample-Routine</td>\n",
       "      <td>NaN</td>\n",
       "      <td>NaN</td>\n",
       "      <td>NaN</td>\n",
       "      <td>NaN</td>\n",
       "      <td>350</td>\n",
       "      <td>UTAHDWQ-4904280</td>\n",
       "      <td>...</td>\n",
       "      <td>GENERIC METHOD</td>\n",
       "      <td>Used for all methods where historical methodol...</td>\n",
       "      <td>NaN</td>\n",
       "      <td>Utah DOH Division of Epidemilogy and Laborator...</td>\n",
       "      <td>NaT</td>\n",
       "      <td>NaN</td>\n",
       "      <td>NaN</td>\n",
       "      <td>NaN</td>\n",
       "      <td>NaN</td>\n",
       "      <td>1978-05-02 12:30:00</td>\n",
       "    </tr>\n",
       "    <tr>\n",
       "      <th>21</th>\n",
       "      <td>UTAHDWQ_WQX</td>\n",
       "      <td>Utah Department Of Environmental Quality</td>\n",
       "      <td>UTAHDWQ_WQX-1978DATA-66112-780588C</td>\n",
       "      <td>Sample-Routine</td>\n",
       "      <td>NaN</td>\n",
       "      <td>NaN</td>\n",
       "      <td>NaN</td>\n",
       "      <td>NaN</td>\n",
       "      <td>350</td>\n",
       "      <td>UTAHDWQ-4904280</td>\n",
       "      <td>...</td>\n",
       "      <td>GENERIC METHOD2</td>\n",
       "      <td>Used for half of methods where historical meth...</td>\n",
       "      <td>NaN</td>\n",
       "      <td>Utah DOH Division of Epidemilogy and Laborator...</td>\n",
       "      <td>NaT</td>\n",
       "      <td>NaN</td>\n",
       "      <td>NaN</td>\n",
       "      <td>NaN</td>\n",
       "      <td>NaN</td>\n",
       "      <td>1978-05-02 12:30:00</td>\n",
       "    </tr>\n",
       "    <tr>\n",
       "      <th>22</th>\n",
       "      <td>UTAHDWQ_WQX</td>\n",
       "      <td>Utah Department Of Environmental Quality</td>\n",
       "      <td>UTAHDWQ_WQX-1978DATA-66112-780588C</td>\n",
       "      <td>Sample-Routine</td>\n",
       "      <td>NaN</td>\n",
       "      <td>NaN</td>\n",
       "      <td>NaN</td>\n",
       "      <td>NaN</td>\n",
       "      <td>350</td>\n",
       "      <td>UTAHDWQ-4904280</td>\n",
       "      <td>...</td>\n",
       "      <td>2540-D</td>\n",
       "      <td>Total Suspended Solids in Water</td>\n",
       "      <td>https://www.nemi.gov/methods/method_summary/9819/</td>\n",
       "      <td>Utah DOH Division of Epidemilogy and Laborator...</td>\n",
       "      <td>NaT</td>\n",
       "      <td>NaN</td>\n",
       "      <td>NaN</td>\n",
       "      <td>NaN</td>\n",
       "      <td>NaN</td>\n",
       "      <td>1978-05-02 12:30:00</td>\n",
       "    </tr>\n",
       "    <tr>\n",
       "      <th>23</th>\n",
       "      <td>UTAHDWQ_WQX</td>\n",
       "      <td>Utah Department Of Environmental Quality</td>\n",
       "      <td>UTAHDWQ_WQX-1978DATA-66112-780588C</td>\n",
       "      <td>Sample-Routine</td>\n",
       "      <td>NaN</td>\n",
       "      <td>NaN</td>\n",
       "      <td>NaN</td>\n",
       "      <td>NaN</td>\n",
       "      <td>350</td>\n",
       "      <td>UTAHDWQ-4904280</td>\n",
       "      <td>...</td>\n",
       "      <td>GENERIC METHOD2</td>\n",
       "      <td>Used for half of methods where historical meth...</td>\n",
       "      <td>NaN</td>\n",
       "      <td>Utah DOH Division of Epidemilogy and Laborator...</td>\n",
       "      <td>NaT</td>\n",
       "      <td>NaN</td>\n",
       "      <td>NaN</td>\n",
       "      <td>NaN</td>\n",
       "      <td>NaN</td>\n",
       "      <td>1978-05-02 12:30:00</td>\n",
       "    </tr>\n",
       "    <tr>\n",
       "      <th>24</th>\n",
       "      <td>UTAHDWQ_WQX</td>\n",
       "      <td>Utah Department Of Environmental Quality</td>\n",
       "      <td>UTAHDWQ_WQX-1978DATA-66136-783578C</td>\n",
       "      <td>Sample-Routine</td>\n",
       "      <td>NaN</td>\n",
       "      <td>NaN</td>\n",
       "      <td>NaN</td>\n",
       "      <td>NaN</td>\n",
       "      <td>350</td>\n",
       "      <td>UTAHDWQ-4905000</td>\n",
       "      <td>...</td>\n",
       "      <td>GENERIC METHOD</td>\n",
       "      <td>Used for all methods where historical methodol...</td>\n",
       "      <td>NaN</td>\n",
       "      <td>Utah DOH Division of Epidemilogy and Laborator...</td>\n",
       "      <td>NaT</td>\n",
       "      <td>NaN</td>\n",
       "      <td>NaN</td>\n",
       "      <td>NaN</td>\n",
       "      <td>NaN</td>\n",
       "      <td>1978-01-05 08:30:00</td>\n",
       "    </tr>\n",
       "    <tr>\n",
       "      <th>25</th>\n",
       "      <td>UTAHDWQ_WQX</td>\n",
       "      <td>Utah Department Of Environmental Quality</td>\n",
       "      <td>UTAHDWQ_WQX-1979DATA-69530-790200C</td>\n",
       "      <td>Sample-Routine</td>\n",
       "      <td>NaN</td>\n",
       "      <td>NaN</td>\n",
       "      <td>NaN</td>\n",
       "      <td>NaN</td>\n",
       "      <td>350</td>\n",
       "      <td>UTAHDWQ-4905670</td>\n",
       "      <td>...</td>\n",
       "      <td>GENERIC METHOD</td>\n",
       "      <td>Used for all methods where historical methodol...</td>\n",
       "      <td>NaN</td>\n",
       "      <td>Utah DOH Division of Epidemilogy and Laborator...</td>\n",
       "      <td>NaT</td>\n",
       "      <td>NaN</td>\n",
       "      <td>Method Detection Level</td>\n",
       "      <td>5.0</td>\n",
       "      <td>ug/l</td>\n",
       "      <td>1979-02-07 16:30:00</td>\n",
       "    </tr>\n",
       "    <tr>\n",
       "      <th>26</th>\n",
       "      <td>UTAHDWQ_WQX</td>\n",
       "      <td>Utah Department Of Environmental Quality</td>\n",
       "      <td>UTAHDWQ_WQX-1977DATA-4544-770126C</td>\n",
       "      <td>Sample-Routine</td>\n",
       "      <td>NaN</td>\n",
       "      <td>NaN</td>\n",
       "      <td>NaN</td>\n",
       "      <td>NaN</td>\n",
       "      <td>350</td>\n",
       "      <td>UTAHDWQ-4905150</td>\n",
       "      <td>...</td>\n",
       "      <td>GENERIC METHOD</td>\n",
       "      <td>Used for all methods where historical methodol...</td>\n",
       "      <td>NaN</td>\n",
       "      <td>Utah DOH Division of Epidemilogy and Laborator...</td>\n",
       "      <td>NaT</td>\n",
       "      <td>NaN</td>\n",
       "      <td>NaN</td>\n",
       "      <td>NaN</td>\n",
       "      <td>NaN</td>\n",
       "      <td>1977-01-26 10:00:00</td>\n",
       "    </tr>\n",
       "    <tr>\n",
       "      <th>27</th>\n",
       "      <td>UTAHDWQ_WQX</td>\n",
       "      <td>Utah Department Of Environmental Quality</td>\n",
       "      <td>UTAHDWQ_WQX-1977DATA-4544-770126C</td>\n",
       "      <td>Sample-Routine</td>\n",
       "      <td>NaN</td>\n",
       "      <td>NaN</td>\n",
       "      <td>NaN</td>\n",
       "      <td>NaN</td>\n",
       "      <td>350</td>\n",
       "      <td>UTAHDWQ-4905150</td>\n",
       "      <td>...</td>\n",
       "      <td>GENERIC METHOD2</td>\n",
       "      <td>Used for half of methods where historical meth...</td>\n",
       "      <td>NaN</td>\n",
       "      <td>Utah DOH Division of Epidemilogy and Laborator...</td>\n",
       "      <td>NaT</td>\n",
       "      <td>NaN</td>\n",
       "      <td>NaN</td>\n",
       "      <td>NaN</td>\n",
       "      <td>NaN</td>\n",
       "      <td>1977-01-26 10:00:00</td>\n",
       "    </tr>\n",
       "    <tr>\n",
       "      <th>28</th>\n",
       "      <td>UTAHDWQ_WQX</td>\n",
       "      <td>Utah Department Of Environmental Quality</td>\n",
       "      <td>UTAHDWQ_WQX-1977DATA-4544-770126C</td>\n",
       "      <td>Sample-Routine</td>\n",
       "      <td>NaN</td>\n",
       "      <td>NaN</td>\n",
       "      <td>NaN</td>\n",
       "      <td>NaN</td>\n",
       "      <td>350</td>\n",
       "      <td>UTAHDWQ-4905150</td>\n",
       "      <td>...</td>\n",
       "      <td>GENERIC METHOD</td>\n",
       "      <td>Used for all methods where historical methodol...</td>\n",
       "      <td>NaN</td>\n",
       "      <td>Utah DOH Division of Epidemilogy and Laborator...</td>\n",
       "      <td>NaT</td>\n",
       "      <td>NaN</td>\n",
       "      <td>NaN</td>\n",
       "      <td>NaN</td>\n",
       "      <td>NaN</td>\n",
       "      <td>1977-01-26 10:00:00</td>\n",
       "    </tr>\n",
       "    <tr>\n",
       "      <th>29</th>\n",
       "      <td>UTAHDWQ_WQX</td>\n",
       "      <td>Utah Department Of Environmental Quality</td>\n",
       "      <td>UTAHDWQ_WQX-1977DATA-4544-770126C</td>\n",
       "      <td>Sample-Routine</td>\n",
       "      <td>NaN</td>\n",
       "      <td>NaN</td>\n",
       "      <td>NaN</td>\n",
       "      <td>NaN</td>\n",
       "      <td>350</td>\n",
       "      <td>UTAHDWQ-4905150</td>\n",
       "      <td>...</td>\n",
       "      <td>GENERIC METHOD</td>\n",
       "      <td>Used for all methods where historical methodol...</td>\n",
       "      <td>NaN</td>\n",
       "      <td>Utah DOH Division of Epidemilogy and Laborator...</td>\n",
       "      <td>NaT</td>\n",
       "      <td>NaN</td>\n",
       "      <td>NaN</td>\n",
       "      <td>NaN</td>\n",
       "      <td>NaN</td>\n",
       "      <td>1977-01-26 10:00:00</td>\n",
       "    </tr>\n",
       "    <tr>\n",
       "      <th>...</th>\n",
       "      <td>...</td>\n",
       "      <td>...</td>\n",
       "      <td>...</td>\n",
       "      <td>...</td>\n",
       "      <td>...</td>\n",
       "      <td>...</td>\n",
       "      <td>...</td>\n",
       "      <td>...</td>\n",
       "      <td>...</td>\n",
       "      <td>...</td>\n",
       "      <td>...</td>\n",
       "      <td>...</td>\n",
       "      <td>...</td>\n",
       "      <td>...</td>\n",
       "      <td>...</td>\n",
       "      <td>...</td>\n",
       "      <td>...</td>\n",
       "      <td>...</td>\n",
       "      <td>...</td>\n",
       "      <td>...</td>\n",
       "      <td>...</td>\n",
       "    </tr>\n",
       "    <tr>\n",
       "      <th>396244</th>\n",
       "      <td>UTAHDWQ</td>\n",
       "      <td>Utah Department Of Environmental Quality</td>\n",
       "      <td>UTAHDWQ-9811117C-1998DATA       -0</td>\n",
       "      <td>Sample</td>\n",
       "      <td>NaN</td>\n",
       "      <td>NaN</td>\n",
       "      <td>NaN</td>\n",
       "      <td>NaN</td>\n",
       "      <td>350</td>\n",
       "      <td>UTAHDWQ-4904760</td>\n",
       "      <td>...</td>\n",
       "      <td>GENERIC METHOD2</td>\n",
       "      <td>NaN</td>\n",
       "      <td>NaN</td>\n",
       "      <td>Utah DOH Division of Epidemilogy and Laborator...</td>\n",
       "      <td>NaT</td>\n",
       "      <td>NaN</td>\n",
       "      <td>NaN</td>\n",
       "      <td>NaN</td>\n",
       "      <td>NaN</td>\n",
       "      <td>1998-12-09 11:18:00</td>\n",
       "    </tr>\n",
       "    <tr>\n",
       "      <th>396245</th>\n",
       "      <td>UTAHDWQ</td>\n",
       "      <td>Utah Department Of Environmental Quality</td>\n",
       "      <td>UTAHDWQ-9809609-1998DATA       -0</td>\n",
       "      <td>Field Msr/Obs</td>\n",
       "      <td>NaN</td>\n",
       "      <td>NaN</td>\n",
       "      <td>NaN</td>\n",
       "      <td>NaN</td>\n",
       "      <td>350</td>\n",
       "      <td>UTAHDWQ-4904760</td>\n",
       "      <td>...</td>\n",
       "      <td>FIELD MEASURES</td>\n",
       "      <td>NaN</td>\n",
       "      <td>NaN</td>\n",
       "      <td>NaN</td>\n",
       "      <td>NaT</td>\n",
       "      <td>NaN</td>\n",
       "      <td>NaN</td>\n",
       "      <td>NaN</td>\n",
       "      <td>NaN</td>\n",
       "      <td>1998-10-22 14:29:00</td>\n",
       "    </tr>\n",
       "    <tr>\n",
       "      <th>396246</th>\n",
       "      <td>UTAHDWQ</td>\n",
       "      <td>Utah Department Of Environmental Quality</td>\n",
       "      <td>UTAHDWQ-9808516C-1998DATA       -0</td>\n",
       "      <td>Sample</td>\n",
       "      <td>NaN</td>\n",
       "      <td>NaN</td>\n",
       "      <td>NaN</td>\n",
       "      <td>NaN</td>\n",
       "      <td>350</td>\n",
       "      <td>UTAHDWQ-4904760</td>\n",
       "      <td>...</td>\n",
       "      <td>GENERIC METHOD2</td>\n",
       "      <td>NaN</td>\n",
       "      <td>NaN</td>\n",
       "      <td>Utah DOH Division of Epidemilogy and Laborator...</td>\n",
       "      <td>NaT</td>\n",
       "      <td>NaN</td>\n",
       "      <td>NaN</td>\n",
       "      <td>NaN</td>\n",
       "      <td>NaN</td>\n",
       "      <td>1998-09-23 11:23:00</td>\n",
       "    </tr>\n",
       "    <tr>\n",
       "      <th>396247</th>\n",
       "      <td>UTAHDWQ</td>\n",
       "      <td>Utah Department Of Environmental Quality</td>\n",
       "      <td>UTAHDWQ-9809608C-1998DATA       -0</td>\n",
       "      <td>Sample</td>\n",
       "      <td>NaN</td>\n",
       "      <td>NaN</td>\n",
       "      <td>NaN</td>\n",
       "      <td>NaN</td>\n",
       "      <td>350</td>\n",
       "      <td>UTAHDWQ-4904760</td>\n",
       "      <td>...</td>\n",
       "      <td>2540-D</td>\n",
       "      <td>NaN</td>\n",
       "      <td>NaN</td>\n",
       "      <td>Utah DOH Division of Epidemilogy and Laborator...</td>\n",
       "      <td>NaT</td>\n",
       "      <td>NaN</td>\n",
       "      <td>NaN</td>\n",
       "      <td>NaN</td>\n",
       "      <td>NaN</td>\n",
       "      <td>1998-10-22 14:14:00</td>\n",
       "    </tr>\n",
       "    <tr>\n",
       "      <th>396248</th>\n",
       "      <td>UTAHDWQ</td>\n",
       "      <td>Utah Department Of Environmental Quality</td>\n",
       "      <td>UTAHDWQ-9808516-1998DATA       -0</td>\n",
       "      <td>Field Msr/Obs</td>\n",
       "      <td>NaN</td>\n",
       "      <td>NaN</td>\n",
       "      <td>NaN</td>\n",
       "      <td>NaN</td>\n",
       "      <td>350</td>\n",
       "      <td>UTAHDWQ-4904760</td>\n",
       "      <td>...</td>\n",
       "      <td>FIELD MEASURES</td>\n",
       "      <td>NaN</td>\n",
       "      <td>NaN</td>\n",
       "      <td>NaN</td>\n",
       "      <td>NaT</td>\n",
       "      <td>NaN</td>\n",
       "      <td>NaN</td>\n",
       "      <td>NaN</td>\n",
       "      <td>NaN</td>\n",
       "      <td>1998-09-23 11:23:00</td>\n",
       "    </tr>\n",
       "    <tr>\n",
       "      <th>396249</th>\n",
       "      <td>UTAHDWQ</td>\n",
       "      <td>Utah Department Of Environmental Quality</td>\n",
       "      <td>UTAHDWQ-9802952-1998DATA       -0</td>\n",
       "      <td>Field Msr/Obs</td>\n",
       "      <td>NaN</td>\n",
       "      <td>NaN</td>\n",
       "      <td>NaN</td>\n",
       "      <td>NaN</td>\n",
       "      <td>350</td>\n",
       "      <td>UTAHDWQ-4904760</td>\n",
       "      <td>...</td>\n",
       "      <td>FIELD MEASURES</td>\n",
       "      <td>NaN</td>\n",
       "      <td>NaN</td>\n",
       "      <td>NaN</td>\n",
       "      <td>NaT</td>\n",
       "      <td>NaN</td>\n",
       "      <td>NaN</td>\n",
       "      <td>NaN</td>\n",
       "      <td>NaN</td>\n",
       "      <td>1998-04-29 09:40:00</td>\n",
       "    </tr>\n",
       "    <tr>\n",
       "      <th>396250</th>\n",
       "      <td>UTAHDWQ</td>\n",
       "      <td>Utah Department Of Environmental Quality</td>\n",
       "      <td>UTAHDWQ-9809608-1998DATA       -0</td>\n",
       "      <td>Field Msr/Obs</td>\n",
       "      <td>NaN</td>\n",
       "      <td>NaN</td>\n",
       "      <td>NaN</td>\n",
       "      <td>NaN</td>\n",
       "      <td>350</td>\n",
       "      <td>UTAHDWQ-4904760</td>\n",
       "      <td>...</td>\n",
       "      <td>FIELD MEASURES</td>\n",
       "      <td>NaN</td>\n",
       "      <td>NaN</td>\n",
       "      <td>NaN</td>\n",
       "      <td>NaT</td>\n",
       "      <td>NaN</td>\n",
       "      <td>NaN</td>\n",
       "      <td>NaN</td>\n",
       "      <td>NaN</td>\n",
       "      <td>1998-10-22 14:14:00</td>\n",
       "    </tr>\n",
       "    <tr>\n",
       "      <th>396251</th>\n",
       "      <td>UTAHDWQ</td>\n",
       "      <td>Utah Department Of Environmental Quality</td>\n",
       "      <td>UTAHDWQ-9809609-1998DATA       -0</td>\n",
       "      <td>Field Msr/Obs</td>\n",
       "      <td>NaN</td>\n",
       "      <td>NaN</td>\n",
       "      <td>NaN</td>\n",
       "      <td>NaN</td>\n",
       "      <td>350</td>\n",
       "      <td>UTAHDWQ-4904760</td>\n",
       "      <td>...</td>\n",
       "      <td>FIELD MEASURES</td>\n",
       "      <td>NaN</td>\n",
       "      <td>NaN</td>\n",
       "      <td>NaN</td>\n",
       "      <td>NaT</td>\n",
       "      <td>NaN</td>\n",
       "      <td>NaN</td>\n",
       "      <td>NaN</td>\n",
       "      <td>NaN</td>\n",
       "      <td>1998-10-22 14:29:00</td>\n",
       "    </tr>\n",
       "    <tr>\n",
       "      <th>396252</th>\n",
       "      <td>UTAHDWQ</td>\n",
       "      <td>Utah Department Of Environmental Quality</td>\n",
       "      <td>UTAHDWQ-9811117-1998DATA       -0</td>\n",
       "      <td>Field Msr/Obs</td>\n",
       "      <td>NaN</td>\n",
       "      <td>NaN</td>\n",
       "      <td>NaN</td>\n",
       "      <td>NaN</td>\n",
       "      <td>350</td>\n",
       "      <td>UTAHDWQ-4904760</td>\n",
       "      <td>...</td>\n",
       "      <td>FIELD MEASURES</td>\n",
       "      <td>NaN</td>\n",
       "      <td>NaN</td>\n",
       "      <td>NaN</td>\n",
       "      <td>NaT</td>\n",
       "      <td>NaN</td>\n",
       "      <td>NaN</td>\n",
       "      <td>NaN</td>\n",
       "      <td>NaN</td>\n",
       "      <td>1998-12-09 11:18:00</td>\n",
       "    </tr>\n",
       "    <tr>\n",
       "      <th>396253</th>\n",
       "      <td>UTAHDWQ</td>\n",
       "      <td>Utah Department Of Environmental Quality</td>\n",
       "      <td>UTAHDWQ-9803984-1998DATA       -0</td>\n",
       "      <td>Field Msr/Obs</td>\n",
       "      <td>NaN</td>\n",
       "      <td>NaN</td>\n",
       "      <td>NaN</td>\n",
       "      <td>NaN</td>\n",
       "      <td>350</td>\n",
       "      <td>UTAHDWQ-4904760</td>\n",
       "      <td>...</td>\n",
       "      <td>FIELD MEASURES</td>\n",
       "      <td>NaN</td>\n",
       "      <td>NaN</td>\n",
       "      <td>NaN</td>\n",
       "      <td>NaT</td>\n",
       "      <td>NaN</td>\n",
       "      <td>NaN</td>\n",
       "      <td>NaN</td>\n",
       "      <td>NaN</td>\n",
       "      <td>1998-05-27 11:43:00</td>\n",
       "    </tr>\n",
       "    <tr>\n",
       "      <th>396254</th>\n",
       "      <td>UTAHDWQ</td>\n",
       "      <td>Utah Department Of Environmental Quality</td>\n",
       "      <td>UTAHDWQ-9803424-1998DATA       -0</td>\n",
       "      <td>Field Msr/Obs</td>\n",
       "      <td>NaN</td>\n",
       "      <td>NaN</td>\n",
       "      <td>NaN</td>\n",
       "      <td>NaN</td>\n",
       "      <td>350</td>\n",
       "      <td>UTAHDWQ-4904760</td>\n",
       "      <td>...</td>\n",
       "      <td>FIELD MEASURES</td>\n",
       "      <td>NaN</td>\n",
       "      <td>NaN</td>\n",
       "      <td>NaN</td>\n",
       "      <td>NaT</td>\n",
       "      <td>NaN</td>\n",
       "      <td>NaN</td>\n",
       "      <td>NaN</td>\n",
       "      <td>NaN</td>\n",
       "      <td>1998-05-13 15:45:00</td>\n",
       "    </tr>\n",
       "    <tr>\n",
       "      <th>396255</th>\n",
       "      <td>UTAHDWQ</td>\n",
       "      <td>Utah Department Of Environmental Quality</td>\n",
       "      <td>UTAHDWQ-9802673C-1998DATA       -0</td>\n",
       "      <td>Sample</td>\n",
       "      <td>NaN</td>\n",
       "      <td>NaN</td>\n",
       "      <td>NaN</td>\n",
       "      <td>NaN</td>\n",
       "      <td>350</td>\n",
       "      <td>UTAHDWQ-4904760</td>\n",
       "      <td>...</td>\n",
       "      <td>GENERIC METHOD2</td>\n",
       "      <td>NaN</td>\n",
       "      <td>NaN</td>\n",
       "      <td>Utah DOH Division of Epidemilogy and Laborator...</td>\n",
       "      <td>NaT</td>\n",
       "      <td>NaN</td>\n",
       "      <td>NaN</td>\n",
       "      <td>NaN</td>\n",
       "      <td>NaN</td>\n",
       "      <td>1998-04-15 12:30:00</td>\n",
       "    </tr>\n",
       "    <tr>\n",
       "      <th>396256</th>\n",
       "      <td>UTAHDWQ</td>\n",
       "      <td>Utah Department Of Environmental Quality</td>\n",
       "      <td>UTAHDWQ-9804957-1998DATA       -0</td>\n",
       "      <td>Field Msr/Obs</td>\n",
       "      <td>NaN</td>\n",
       "      <td>NaN</td>\n",
       "      <td>NaN</td>\n",
       "      <td>NaN</td>\n",
       "      <td>350</td>\n",
       "      <td>UTAHDWQ-4904760</td>\n",
       "      <td>...</td>\n",
       "      <td>FIELD MEASURES</td>\n",
       "      <td>NaN</td>\n",
       "      <td>NaN</td>\n",
       "      <td>NaN</td>\n",
       "      <td>NaT</td>\n",
       "      <td>NaN</td>\n",
       "      <td>NaN</td>\n",
       "      <td>NaN</td>\n",
       "      <td>NaN</td>\n",
       "      <td>1998-06-24 11:32:00</td>\n",
       "    </tr>\n",
       "    <tr>\n",
       "      <th>396257</th>\n",
       "      <td>UTAHDWQ</td>\n",
       "      <td>Utah Department Of Environmental Quality</td>\n",
       "      <td>UTAHDWQ-9809608-1998DATA       -0</td>\n",
       "      <td>Field Msr/Obs</td>\n",
       "      <td>NaN</td>\n",
       "      <td>NaN</td>\n",
       "      <td>NaN</td>\n",
       "      <td>NaN</td>\n",
       "      <td>350</td>\n",
       "      <td>UTAHDWQ-4904760</td>\n",
       "      <td>...</td>\n",
       "      <td>FIELD MEASURES</td>\n",
       "      <td>NaN</td>\n",
       "      <td>NaN</td>\n",
       "      <td>NaN</td>\n",
       "      <td>NaT</td>\n",
       "      <td>NaN</td>\n",
       "      <td>NaN</td>\n",
       "      <td>NaN</td>\n",
       "      <td>NaN</td>\n",
       "      <td>1998-10-22 14:14:00</td>\n",
       "    </tr>\n",
       "    <tr>\n",
       "      <th>396258</th>\n",
       "      <td>UTAHDWQ</td>\n",
       "      <td>Utah Department Of Environmental Quality</td>\n",
       "      <td>UTAHDWQ-9808516-1998DATA       -0</td>\n",
       "      <td>Field Msr/Obs</td>\n",
       "      <td>NaN</td>\n",
       "      <td>NaN</td>\n",
       "      <td>NaN</td>\n",
       "      <td>NaN</td>\n",
       "      <td>350</td>\n",
       "      <td>UTAHDWQ-4904760</td>\n",
       "      <td>...</td>\n",
       "      <td>FIELD MEASURES</td>\n",
       "      <td>NaN</td>\n",
       "      <td>NaN</td>\n",
       "      <td>NaN</td>\n",
       "      <td>NaT</td>\n",
       "      <td>NaN</td>\n",
       "      <td>NaN</td>\n",
       "      <td>NaN</td>\n",
       "      <td>NaN</td>\n",
       "      <td>1998-09-23 11:23:00</td>\n",
       "    </tr>\n",
       "    <tr>\n",
       "      <th>396259</th>\n",
       "      <td>UTAHDWQ</td>\n",
       "      <td>Utah Department Of Environmental Quality</td>\n",
       "      <td>UTAHDWQ-9811117-1998DATA       -0</td>\n",
       "      <td>Field Msr/Obs</td>\n",
       "      <td>NaN</td>\n",
       "      <td>NaN</td>\n",
       "      <td>NaN</td>\n",
       "      <td>NaN</td>\n",
       "      <td>350</td>\n",
       "      <td>UTAHDWQ-4904760</td>\n",
       "      <td>...</td>\n",
       "      <td>FIELD MEASURES</td>\n",
       "      <td>NaN</td>\n",
       "      <td>NaN</td>\n",
       "      <td>NaN</td>\n",
       "      <td>NaT</td>\n",
       "      <td>NaN</td>\n",
       "      <td>NaN</td>\n",
       "      <td>NaN</td>\n",
       "      <td>NaN</td>\n",
       "      <td>1998-12-09 11:18:00</td>\n",
       "    </tr>\n",
       "    <tr>\n",
       "      <th>396260</th>\n",
       "      <td>UTAHDWQ</td>\n",
       "      <td>Utah Department Of Environmental Quality</td>\n",
       "      <td>UTAHDWQ-9804431-1998DATA       -0</td>\n",
       "      <td>Field Msr/Obs</td>\n",
       "      <td>NaN</td>\n",
       "      <td>NaN</td>\n",
       "      <td>NaN</td>\n",
       "      <td>NaN</td>\n",
       "      <td>350</td>\n",
       "      <td>UTAHDWQ-4904760</td>\n",
       "      <td>...</td>\n",
       "      <td>FIELD MEASURES</td>\n",
       "      <td>NaN</td>\n",
       "      <td>NaN</td>\n",
       "      <td>NaN</td>\n",
       "      <td>NaT</td>\n",
       "      <td>NaN</td>\n",
       "      <td>NaN</td>\n",
       "      <td>NaN</td>\n",
       "      <td>NaN</td>\n",
       "      <td>1998-06-11 11:13:00</td>\n",
       "    </tr>\n",
       "    <tr>\n",
       "      <th>396261</th>\n",
       "      <td>UTAHDWQ</td>\n",
       "      <td>Utah Department Of Environmental Quality</td>\n",
       "      <td>UTAHDWQ-9802673-1998DATA       -0</td>\n",
       "      <td>Field Msr/Obs</td>\n",
       "      <td>NaN</td>\n",
       "      <td>NaN</td>\n",
       "      <td>NaN</td>\n",
       "      <td>NaN</td>\n",
       "      <td>350</td>\n",
       "      <td>UTAHDWQ-4904760</td>\n",
       "      <td>...</td>\n",
       "      <td>FIELD MEASURES</td>\n",
       "      <td>NaN</td>\n",
       "      <td>NaN</td>\n",
       "      <td>NaN</td>\n",
       "      <td>NaT</td>\n",
       "      <td>NaN</td>\n",
       "      <td>NaN</td>\n",
       "      <td>NaN</td>\n",
       "      <td>NaN</td>\n",
       "      <td>1998-04-15 12:30:00</td>\n",
       "    </tr>\n",
       "    <tr>\n",
       "      <th>396262</th>\n",
       "      <td>UTAHDWQ</td>\n",
       "      <td>Utah Department Of Environmental Quality</td>\n",
       "      <td>UTAHDWQ-9802673-1998DATA       -0</td>\n",
       "      <td>Field Msr/Obs</td>\n",
       "      <td>NaN</td>\n",
       "      <td>NaN</td>\n",
       "      <td>NaN</td>\n",
       "      <td>NaN</td>\n",
       "      <td>350</td>\n",
       "      <td>UTAHDWQ-4904760</td>\n",
       "      <td>...</td>\n",
       "      <td>FIELD MEASURES</td>\n",
       "      <td>NaN</td>\n",
       "      <td>NaN</td>\n",
       "      <td>NaN</td>\n",
       "      <td>NaT</td>\n",
       "      <td>NaN</td>\n",
       "      <td>NaN</td>\n",
       "      <td>NaN</td>\n",
       "      <td>NaN</td>\n",
       "      <td>1998-04-15 12:30:00</td>\n",
       "    </tr>\n",
       "    <tr>\n",
       "      <th>396263</th>\n",
       "      <td>UTAHDWQ</td>\n",
       "      <td>Utah Department Of Environmental Quality</td>\n",
       "      <td>UTAHDWQ-9803424-1998DATA       -0</td>\n",
       "      <td>Field Msr/Obs</td>\n",
       "      <td>NaN</td>\n",
       "      <td>NaN</td>\n",
       "      <td>NaN</td>\n",
       "      <td>NaN</td>\n",
       "      <td>350</td>\n",
       "      <td>UTAHDWQ-4904760</td>\n",
       "      <td>...</td>\n",
       "      <td>FIELD MEASURES</td>\n",
       "      <td>NaN</td>\n",
       "      <td>NaN</td>\n",
       "      <td>NaN</td>\n",
       "      <td>NaT</td>\n",
       "      <td>NaN</td>\n",
       "      <td>NaN</td>\n",
       "      <td>NaN</td>\n",
       "      <td>NaN</td>\n",
       "      <td>1998-05-13 15:45:00</td>\n",
       "    </tr>\n",
       "    <tr>\n",
       "      <th>396264</th>\n",
       "      <td>UTAHDWQ</td>\n",
       "      <td>Utah Department Of Environmental Quality</td>\n",
       "      <td>UTAHDWQ-9802951-1998DATA       -0</td>\n",
       "      <td>Field Msr/Obs</td>\n",
       "      <td>NaN</td>\n",
       "      <td>NaN</td>\n",
       "      <td>NaN</td>\n",
       "      <td>NaN</td>\n",
       "      <td>350</td>\n",
       "      <td>UTAHDWQ-4904760</td>\n",
       "      <td>...</td>\n",
       "      <td>FIELD MEASURES</td>\n",
       "      <td>NaN</td>\n",
       "      <td>NaN</td>\n",
       "      <td>NaN</td>\n",
       "      <td>NaT</td>\n",
       "      <td>NaN</td>\n",
       "      <td>NaN</td>\n",
       "      <td>NaN</td>\n",
       "      <td>NaN</td>\n",
       "      <td>1998-04-29 10:50:00</td>\n",
       "    </tr>\n",
       "    <tr>\n",
       "      <th>396265</th>\n",
       "      <td>UTAHDWQ</td>\n",
       "      <td>Utah Department Of Environmental Quality</td>\n",
       "      <td>UTAHDWQ-9809608-1998DATA       -0</td>\n",
       "      <td>Field Msr/Obs</td>\n",
       "      <td>NaN</td>\n",
       "      <td>NaN</td>\n",
       "      <td>NaN</td>\n",
       "      <td>NaN</td>\n",
       "      <td>350</td>\n",
       "      <td>UTAHDWQ-4904760</td>\n",
       "      <td>...</td>\n",
       "      <td>FIELD MEASURES</td>\n",
       "      <td>NaN</td>\n",
       "      <td>NaN</td>\n",
       "      <td>NaN</td>\n",
       "      <td>NaT</td>\n",
       "      <td>NaN</td>\n",
       "      <td>NaN</td>\n",
       "      <td>NaN</td>\n",
       "      <td>NaN</td>\n",
       "      <td>1998-10-22 14:14:00</td>\n",
       "    </tr>\n",
       "    <tr>\n",
       "      <th>396266</th>\n",
       "      <td>UTAHDWQ</td>\n",
       "      <td>Utah Department Of Environmental Quality</td>\n",
       "      <td>UTAHDWQ-9809609-1998DATA       -0</td>\n",
       "      <td>Field Msr/Obs</td>\n",
       "      <td>NaN</td>\n",
       "      <td>NaN</td>\n",
       "      <td>NaN</td>\n",
       "      <td>NaN</td>\n",
       "      <td>350</td>\n",
       "      <td>UTAHDWQ-4904760</td>\n",
       "      <td>...</td>\n",
       "      <td>FIELD MEASURES</td>\n",
       "      <td>NaN</td>\n",
       "      <td>NaN</td>\n",
       "      <td>NaN</td>\n",
       "      <td>NaT</td>\n",
       "      <td>NaN</td>\n",
       "      <td>NaN</td>\n",
       "      <td>NaN</td>\n",
       "      <td>NaN</td>\n",
       "      <td>1998-10-22 14:29:00</td>\n",
       "    </tr>\n",
       "    <tr>\n",
       "      <th>396267</th>\n",
       "      <td>UTAHDWQ</td>\n",
       "      <td>Utah Department Of Environmental Quality</td>\n",
       "      <td>UTAHDWQ-9804957-1998DATA       -0</td>\n",
       "      <td>Field Msr/Obs</td>\n",
       "      <td>NaN</td>\n",
       "      <td>NaN</td>\n",
       "      <td>NaN</td>\n",
       "      <td>NaN</td>\n",
       "      <td>350</td>\n",
       "      <td>UTAHDWQ-4904760</td>\n",
       "      <td>...</td>\n",
       "      <td>FIELD MEASURES</td>\n",
       "      <td>NaN</td>\n",
       "      <td>NaN</td>\n",
       "      <td>NaN</td>\n",
       "      <td>NaT</td>\n",
       "      <td>NaN</td>\n",
       "      <td>NaN</td>\n",
       "      <td>NaN</td>\n",
       "      <td>NaN</td>\n",
       "      <td>1998-06-24 11:32:00</td>\n",
       "    </tr>\n",
       "    <tr>\n",
       "      <th>396268</th>\n",
       "      <td>UTAHDWQ</td>\n",
       "      <td>Utah Department Of Environmental Quality</td>\n",
       "      <td>UTAHDWQ-9811117-1998DATA       -0</td>\n",
       "      <td>Field Msr/Obs</td>\n",
       "      <td>NaN</td>\n",
       "      <td>NaN</td>\n",
       "      <td>NaN</td>\n",
       "      <td>NaN</td>\n",
       "      <td>350</td>\n",
       "      <td>UTAHDWQ-4904760</td>\n",
       "      <td>...</td>\n",
       "      <td>FIELD MEASURES</td>\n",
       "      <td>NaN</td>\n",
       "      <td>NaN</td>\n",
       "      <td>NaN</td>\n",
       "      <td>NaT</td>\n",
       "      <td>NaN</td>\n",
       "      <td>NaN</td>\n",
       "      <td>NaN</td>\n",
       "      <td>NaN</td>\n",
       "      <td>1998-12-09 11:18:00</td>\n",
       "    </tr>\n",
       "    <tr>\n",
       "      <th>396269</th>\n",
       "      <td>UTAHDWQ</td>\n",
       "      <td>Utah Department Of Environmental Quality</td>\n",
       "      <td>UTAHDWQ-9804431-1998DATA       -0</td>\n",
       "      <td>Field Msr/Obs</td>\n",
       "      <td>NaN</td>\n",
       "      <td>NaN</td>\n",
       "      <td>NaN</td>\n",
       "      <td>NaN</td>\n",
       "      <td>350</td>\n",
       "      <td>UTAHDWQ-4904760</td>\n",
       "      <td>...</td>\n",
       "      <td>FIELD MEASURES</td>\n",
       "      <td>NaN</td>\n",
       "      <td>NaN</td>\n",
       "      <td>NaN</td>\n",
       "      <td>NaT</td>\n",
       "      <td>NaN</td>\n",
       "      <td>NaN</td>\n",
       "      <td>NaN</td>\n",
       "      <td>NaN</td>\n",
       "      <td>1998-06-11 11:13:00</td>\n",
       "    </tr>\n",
       "    <tr>\n",
       "      <th>396270</th>\n",
       "      <td>UTAHDWQ</td>\n",
       "      <td>Utah Department Of Environmental Quality</td>\n",
       "      <td>UTAHDWQ-9807227-1998DATA       -0</td>\n",
       "      <td>Field Msr/Obs</td>\n",
       "      <td>NaN</td>\n",
       "      <td>NaN</td>\n",
       "      <td>NaN</td>\n",
       "      <td>NaN</td>\n",
       "      <td>350</td>\n",
       "      <td>UTAHDWQ-4904760</td>\n",
       "      <td>...</td>\n",
       "      <td>FIELD MEASURES</td>\n",
       "      <td>NaN</td>\n",
       "      <td>NaN</td>\n",
       "      <td>NaN</td>\n",
       "      <td>NaT</td>\n",
       "      <td>NaN</td>\n",
       "      <td>NaN</td>\n",
       "      <td>NaN</td>\n",
       "      <td>NaN</td>\n",
       "      <td>1998-08-20 09:14:00</td>\n",
       "    </tr>\n",
       "    <tr>\n",
       "      <th>396271</th>\n",
       "      <td>UTAHDWQ</td>\n",
       "      <td>Utah Department Of Environmental Quality</td>\n",
       "      <td>UTAHDWQ-9802951-1998DATA       -0</td>\n",
       "      <td>Field Msr/Obs</td>\n",
       "      <td>NaN</td>\n",
       "      <td>NaN</td>\n",
       "      <td>NaN</td>\n",
       "      <td>NaN</td>\n",
       "      <td>350</td>\n",
       "      <td>UTAHDWQ-4904760</td>\n",
       "      <td>...</td>\n",
       "      <td>FIELD MEASURES</td>\n",
       "      <td>NaN</td>\n",
       "      <td>NaN</td>\n",
       "      <td>NaN</td>\n",
       "      <td>NaT</td>\n",
       "      <td>NaN</td>\n",
       "      <td>NaN</td>\n",
       "      <td>NaN</td>\n",
       "      <td>NaN</td>\n",
       "      <td>1998-04-29 10:50:00</td>\n",
       "    </tr>\n",
       "    <tr>\n",
       "      <th>396272</th>\n",
       "      <td>UTAHDWQ</td>\n",
       "      <td>Utah Department Of Environmental Quality</td>\n",
       "      <td>UTAHDWQ-9803424-1998DATA       -0</td>\n",
       "      <td>Field Msr/Obs</td>\n",
       "      <td>NaN</td>\n",
       "      <td>NaN</td>\n",
       "      <td>NaN</td>\n",
       "      <td>NaN</td>\n",
       "      <td>350</td>\n",
       "      <td>UTAHDWQ-4904760</td>\n",
       "      <td>...</td>\n",
       "      <td>FIELD MEASURES</td>\n",
       "      <td>NaN</td>\n",
       "      <td>NaN</td>\n",
       "      <td>NaN</td>\n",
       "      <td>NaT</td>\n",
       "      <td>NaN</td>\n",
       "      <td>NaN</td>\n",
       "      <td>NaN</td>\n",
       "      <td>NaN</td>\n",
       "      <td>1998-05-13 15:45:00</td>\n",
       "    </tr>\n",
       "    <tr>\n",
       "      <th>396273</th>\n",
       "      <td>UTAHDWQ</td>\n",
       "      <td>Utah Department Of Environmental Quality</td>\n",
       "      <td>UTAHDWQ-9802952-1998DATA       -0</td>\n",
       "      <td>Field Msr/Obs</td>\n",
       "      <td>NaN</td>\n",
       "      <td>NaN</td>\n",
       "      <td>NaN</td>\n",
       "      <td>NaN</td>\n",
       "      <td>350</td>\n",
       "      <td>UTAHDWQ-4904760</td>\n",
       "      <td>...</td>\n",
       "      <td>FIELD MEASURES</td>\n",
       "      <td>NaN</td>\n",
       "      <td>NaN</td>\n",
       "      <td>NaN</td>\n",
       "      <td>NaT</td>\n",
       "      <td>NaN</td>\n",
       "      <td>NaN</td>\n",
       "      <td>NaN</td>\n",
       "      <td>NaN</td>\n",
       "      <td>1998-04-29 09:40:00</td>\n",
       "    </tr>\n",
       "  </tbody>\n",
       "</table>\n",
       "<p>396274 rows × 33 columns</p>\n",
       "</div>"
      ],
      "text/plain": [
       "              OrgId                                   OrgName  \\\n",
       "0       UTAHDWQ_WQX  Utah Department Of Environmental Quality   \n",
       "1       UTAHDWQ_WQX  Utah Department Of Environmental Quality   \n",
       "2       UTAHDWQ_WQX  Utah Department Of Environmental Quality   \n",
       "3       UTAHDWQ_WQX  Utah Department Of Environmental Quality   \n",
       "4       UTAHDWQ_WQX  Utah Department Of Environmental Quality   \n",
       "5       UTAHDWQ_WQX  Utah Department Of Environmental Quality   \n",
       "6       UTAHDWQ_WQX  Utah Department Of Environmental Quality   \n",
       "7       UTAHDWQ_WQX  Utah Department Of Environmental Quality   \n",
       "8       UTAHDWQ_WQX  Utah Department Of Environmental Quality   \n",
       "9       UTAHDWQ_WQX  Utah Department Of Environmental Quality   \n",
       "10      UTAHDWQ_WQX  Utah Department Of Environmental Quality   \n",
       "11      UTAHDWQ_WQX  Utah Department Of Environmental Quality   \n",
       "12      UTAHDWQ_WQX  Utah Department Of Environmental Quality   \n",
       "13      UTAHDWQ_WQX  Utah Department Of Environmental Quality   \n",
       "14      UTAHDWQ_WQX  Utah Department Of Environmental Quality   \n",
       "15      UTAHDWQ_WQX  Utah Department Of Environmental Quality   \n",
       "16      UTAHDWQ_WQX  Utah Department Of Environmental Quality   \n",
       "17      UTAHDWQ_WQX  Utah Department Of Environmental Quality   \n",
       "18      UTAHDWQ_WQX  Utah Department Of Environmental Quality   \n",
       "19      UTAHDWQ_WQX  Utah Department Of Environmental Quality   \n",
       "20      UTAHDWQ_WQX  Utah Department Of Environmental Quality   \n",
       "21      UTAHDWQ_WQX  Utah Department Of Environmental Quality   \n",
       "22      UTAHDWQ_WQX  Utah Department Of Environmental Quality   \n",
       "23      UTAHDWQ_WQX  Utah Department Of Environmental Quality   \n",
       "24      UTAHDWQ_WQX  Utah Department Of Environmental Quality   \n",
       "25      UTAHDWQ_WQX  Utah Department Of Environmental Quality   \n",
       "26      UTAHDWQ_WQX  Utah Department Of Environmental Quality   \n",
       "27      UTAHDWQ_WQX  Utah Department Of Environmental Quality   \n",
       "28      UTAHDWQ_WQX  Utah Department Of Environmental Quality   \n",
       "29      UTAHDWQ_WQX  Utah Department Of Environmental Quality   \n",
       "...             ...                                       ...   \n",
       "396244      UTAHDWQ  Utah Department Of Environmental Quality   \n",
       "396245      UTAHDWQ  Utah Department Of Environmental Quality   \n",
       "396246      UTAHDWQ  Utah Department Of Environmental Quality   \n",
       "396247      UTAHDWQ  Utah Department Of Environmental Quality   \n",
       "396248      UTAHDWQ  Utah Department Of Environmental Quality   \n",
       "396249      UTAHDWQ  Utah Department Of Environmental Quality   \n",
       "396250      UTAHDWQ  Utah Department Of Environmental Quality   \n",
       "396251      UTAHDWQ  Utah Department Of Environmental Quality   \n",
       "396252      UTAHDWQ  Utah Department Of Environmental Quality   \n",
       "396253      UTAHDWQ  Utah Department Of Environmental Quality   \n",
       "396254      UTAHDWQ  Utah Department Of Environmental Quality   \n",
       "396255      UTAHDWQ  Utah Department Of Environmental Quality   \n",
       "396256      UTAHDWQ  Utah Department Of Environmental Quality   \n",
       "396257      UTAHDWQ  Utah Department Of Environmental Quality   \n",
       "396258      UTAHDWQ  Utah Department Of Environmental Quality   \n",
       "396259      UTAHDWQ  Utah Department Of Environmental Quality   \n",
       "396260      UTAHDWQ  Utah Department Of Environmental Quality   \n",
       "396261      UTAHDWQ  Utah Department Of Environmental Quality   \n",
       "396262      UTAHDWQ  Utah Department Of Environmental Quality   \n",
       "396263      UTAHDWQ  Utah Department Of Environmental Quality   \n",
       "396264      UTAHDWQ  Utah Department Of Environmental Quality   \n",
       "396265      UTAHDWQ  Utah Department Of Environmental Quality   \n",
       "396266      UTAHDWQ  Utah Department Of Environmental Quality   \n",
       "396267      UTAHDWQ  Utah Department Of Environmental Quality   \n",
       "396268      UTAHDWQ  Utah Department Of Environmental Quality   \n",
       "396269      UTAHDWQ  Utah Department Of Environmental Quality   \n",
       "396270      UTAHDWQ  Utah Department Of Environmental Quality   \n",
       "396271      UTAHDWQ  Utah Department Of Environmental Quality   \n",
       "396272      UTAHDWQ  Utah Department Of Environmental Quality   \n",
       "396273      UTAHDWQ  Utah Department Of Environmental Quality   \n",
       "\n",
       "                                  SampleId        SampType SampMedia  \\\n",
       "0       UTAHDWQ_WQX-1979DATA-69530-790200C  Sample-Routine       NaN   \n",
       "1       UTAHDWQ_WQX-1979DATA-69530-790200C  Sample-Routine       NaN   \n",
       "2       UTAHDWQ_WQX-1979DATA-69530-790200C  Sample-Routine       NaN   \n",
       "3       UTAHDWQ_WQX-1979DATA-69530-790200C  Sample-Routine       NaN   \n",
       "4       UTAHDWQ_WQX-1978DATA-66135-786631C  Sample-Routine       NaN   \n",
       "5       UTAHDWQ_WQX-1978DATA-66135-786631C  Sample-Routine       NaN   \n",
       "6       UTAHDWQ_WQX-1979DATA-69530-790200C  Sample-Routine       NaN   \n",
       "7       UTAHDWQ_WQX-1979DATA-69530-790200C  Sample-Routine       NaN   \n",
       "8       UTAHDWQ_WQX-1979DATA-69530-790200C  Sample-Routine       NaN   \n",
       "9       UTAHDWQ_WQX-1979DATA-69530-790200C  Sample-Routine       NaN   \n",
       "10      UTAHDWQ_WQX-1979DATA-69530-790200C  Sample-Routine       NaN   \n",
       "11      UTAHDWQ_WQX-1978DATA-66135-786631C  Sample-Routine       NaN   \n",
       "12      UTAHDWQ_WQX-1978DATA-66135-786631C  Sample-Routine       NaN   \n",
       "13      UTAHDWQ_WQX-1979DATA-69530-790200C  Sample-Routine       NaN   \n",
       "14      UTAHDWQ_WQX-1979DATA-69530-790200C  Sample-Routine       NaN   \n",
       "15      UTAHDWQ_WQX-1979DATA-69530-790200C  Sample-Routine       NaN   \n",
       "16      UTAHDWQ_WQX-1978DATA-66112-780588C  Sample-Routine       NaN   \n",
       "17      UTAHDWQ_WQX-1978DATA-66112-780588C  Sample-Routine       NaN   \n",
       "18      UTAHDWQ_WQX-1978DATA-66112-780588C  Sample-Routine       NaN   \n",
       "19      UTAHDWQ_WQX-1978DATA-66112-780588C  Sample-Routine       NaN   \n",
       "20      UTAHDWQ_WQX-1978DATA-66112-780588C  Sample-Routine       NaN   \n",
       "21      UTAHDWQ_WQX-1978DATA-66112-780588C  Sample-Routine       NaN   \n",
       "22      UTAHDWQ_WQX-1978DATA-66112-780588C  Sample-Routine       NaN   \n",
       "23      UTAHDWQ_WQX-1978DATA-66112-780588C  Sample-Routine       NaN   \n",
       "24      UTAHDWQ_WQX-1978DATA-66136-783578C  Sample-Routine       NaN   \n",
       "25      UTAHDWQ_WQX-1979DATA-69530-790200C  Sample-Routine       NaN   \n",
       "26       UTAHDWQ_WQX-1977DATA-4544-770126C  Sample-Routine       NaN   \n",
       "27       UTAHDWQ_WQX-1977DATA-4544-770126C  Sample-Routine       NaN   \n",
       "28       UTAHDWQ_WQX-1977DATA-4544-770126C  Sample-Routine       NaN   \n",
       "29       UTAHDWQ_WQX-1977DATA-4544-770126C  Sample-Routine       NaN   \n",
       "...                                    ...             ...       ...   \n",
       "396244  UTAHDWQ-9811117C-1998DATA       -0          Sample       NaN   \n",
       "396245   UTAHDWQ-9809609-1998DATA       -0   Field Msr/Obs       NaN   \n",
       "396246  UTAHDWQ-9808516C-1998DATA       -0          Sample       NaN   \n",
       "396247  UTAHDWQ-9809608C-1998DATA       -0          Sample       NaN   \n",
       "396248   UTAHDWQ-9808516-1998DATA       -0   Field Msr/Obs       NaN   \n",
       "396249   UTAHDWQ-9802952-1998DATA       -0   Field Msr/Obs       NaN   \n",
       "396250   UTAHDWQ-9809608-1998DATA       -0   Field Msr/Obs       NaN   \n",
       "396251   UTAHDWQ-9809609-1998DATA       -0   Field Msr/Obs       NaN   \n",
       "396252   UTAHDWQ-9811117-1998DATA       -0   Field Msr/Obs       NaN   \n",
       "396253   UTAHDWQ-9803984-1998DATA       -0   Field Msr/Obs       NaN   \n",
       "396254   UTAHDWQ-9803424-1998DATA       -0   Field Msr/Obs       NaN   \n",
       "396255  UTAHDWQ-9802673C-1998DATA       -0          Sample       NaN   \n",
       "396256   UTAHDWQ-9804957-1998DATA       -0   Field Msr/Obs       NaN   \n",
       "396257   UTAHDWQ-9809608-1998DATA       -0   Field Msr/Obs       NaN   \n",
       "396258   UTAHDWQ-9808516-1998DATA       -0   Field Msr/Obs       NaN   \n",
       "396259   UTAHDWQ-9811117-1998DATA       -0   Field Msr/Obs       NaN   \n",
       "396260   UTAHDWQ-9804431-1998DATA       -0   Field Msr/Obs       NaN   \n",
       "396261   UTAHDWQ-9802673-1998DATA       -0   Field Msr/Obs       NaN   \n",
       "396262   UTAHDWQ-9802673-1998DATA       -0   Field Msr/Obs       NaN   \n",
       "396263   UTAHDWQ-9803424-1998DATA       -0   Field Msr/Obs       NaN   \n",
       "396264   UTAHDWQ-9802951-1998DATA       -0   Field Msr/Obs       NaN   \n",
       "396265   UTAHDWQ-9809608-1998DATA       -0   Field Msr/Obs       NaN   \n",
       "396266   UTAHDWQ-9809609-1998DATA       -0   Field Msr/Obs       NaN   \n",
       "396267   UTAHDWQ-9804957-1998DATA       -0   Field Msr/Obs       NaN   \n",
       "396268   UTAHDWQ-9811117-1998DATA       -0   Field Msr/Obs       NaN   \n",
       "396269   UTAHDWQ-9804431-1998DATA       -0   Field Msr/Obs       NaN   \n",
       "396270   UTAHDWQ-9807227-1998DATA       -0   Field Msr/Obs       NaN   \n",
       "396271   UTAHDWQ-9802951-1998DATA       -0   Field Msr/Obs       NaN   \n",
       "396272   UTAHDWQ-9803424-1998DATA       -0   Field Msr/Obs       NaN   \n",
       "396273   UTAHDWQ-9802952-1998DATA       -0   Field Msr/Obs       NaN   \n",
       "\n",
       "        SampDepth SampDepthU SampDepthRef ProjectId        StationId  \\\n",
       "0             NaN        NaN          NaN       350  UTAHDWQ-4905670   \n",
       "1             NaN        NaN          NaN       350  UTAHDWQ-4905670   \n",
       "2             NaN        NaN          NaN       350  UTAHDWQ-4905670   \n",
       "3             NaN        NaN          NaN       350  UTAHDWQ-4905670   \n",
       "4             NaN        NaN          NaN       350  UTAHDWQ-4904980   \n",
       "5             NaN        NaN          NaN       350  UTAHDWQ-4904980   \n",
       "6             NaN        NaN          NaN       350  UTAHDWQ-4905670   \n",
       "7             NaN        NaN          NaN       350  UTAHDWQ-4905670   \n",
       "8             NaN        NaN          NaN       350  UTAHDWQ-4905670   \n",
       "9             NaN        NaN          NaN       350  UTAHDWQ-4905670   \n",
       "10            NaN        NaN          NaN       350  UTAHDWQ-4905670   \n",
       "11            NaN        NaN          NaN       350  UTAHDWQ-4904980   \n",
       "12            NaN        NaN          NaN       350  UTAHDWQ-4904980   \n",
       "13            NaN        NaN          NaN       350  UTAHDWQ-4905670   \n",
       "14            NaN        NaN          NaN       350  UTAHDWQ-4905670   \n",
       "15            NaN        NaN          NaN       350  UTAHDWQ-4905670   \n",
       "16            NaN        NaN          NaN       350  UTAHDWQ-4904280   \n",
       "17            NaN        NaN          NaN       350  UTAHDWQ-4904280   \n",
       "18            NaN        NaN          NaN       350  UTAHDWQ-4904280   \n",
       "19            NaN        NaN          NaN       350  UTAHDWQ-4904280   \n",
       "20            NaN        NaN          NaN       350  UTAHDWQ-4904280   \n",
       "21            NaN        NaN          NaN       350  UTAHDWQ-4904280   \n",
       "22            NaN        NaN          NaN       350  UTAHDWQ-4904280   \n",
       "23            NaN        NaN          NaN       350  UTAHDWQ-4904280   \n",
       "24            NaN        NaN          NaN       350  UTAHDWQ-4905000   \n",
       "25            NaN        NaN          NaN       350  UTAHDWQ-4905670   \n",
       "26            NaN        NaN          NaN       350  UTAHDWQ-4905150   \n",
       "27            NaN        NaN          NaN       350  UTAHDWQ-4905150   \n",
       "28            NaN        NaN          NaN       350  UTAHDWQ-4905150   \n",
       "29            NaN        NaN          NaN       350  UTAHDWQ-4905150   \n",
       "...           ...        ...          ...       ...              ...   \n",
       "396244        NaN        NaN          NaN  350       UTAHDWQ-4904760   \n",
       "396245        NaN        NaN          NaN  350       UTAHDWQ-4904760   \n",
       "396246        NaN        NaN          NaN  350       UTAHDWQ-4904760   \n",
       "396247        NaN        NaN          NaN  350       UTAHDWQ-4904760   \n",
       "396248        NaN        NaN          NaN  350       UTAHDWQ-4904760   \n",
       "396249        NaN        NaN          NaN  350       UTAHDWQ-4904760   \n",
       "396250        NaN        NaN          NaN  350       UTAHDWQ-4904760   \n",
       "396251        NaN        NaN          NaN  350       UTAHDWQ-4904760   \n",
       "396252        NaN        NaN          NaN  350       UTAHDWQ-4904760   \n",
       "396253        NaN        NaN          NaN  350       UTAHDWQ-4904760   \n",
       "396254        NaN        NaN          NaN  350       UTAHDWQ-4904760   \n",
       "396255        NaN        NaN          NaN  350       UTAHDWQ-4904760   \n",
       "396256        NaN        NaN          NaN  350       UTAHDWQ-4904760   \n",
       "396257        NaN        NaN          NaN  350       UTAHDWQ-4904760   \n",
       "396258        NaN        NaN          NaN  350       UTAHDWQ-4904760   \n",
       "396259        NaN        NaN          NaN  350       UTAHDWQ-4904760   \n",
       "396260        NaN        NaN          NaN  350       UTAHDWQ-4904760   \n",
       "396261        NaN        NaN          NaN  350       UTAHDWQ-4904760   \n",
       "396262        NaN        NaN          NaN  350       UTAHDWQ-4904760   \n",
       "396263        NaN        NaN          NaN  350       UTAHDWQ-4904760   \n",
       "396264        NaN        NaN          NaN  350       UTAHDWQ-4904760   \n",
       "396265        NaN        NaN          NaN  350       UTAHDWQ-4904760   \n",
       "396266        NaN        NaN          NaN  350       UTAHDWQ-4904760   \n",
       "396267        NaN        NaN          NaN  350       UTAHDWQ-4904760   \n",
       "396268        NaN        NaN          NaN  350       UTAHDWQ-4904760   \n",
       "396269        NaN        NaN          NaN  350       UTAHDWQ-4904760   \n",
       "396270        NaN        NaN          NaN  350       UTAHDWQ-4904760   \n",
       "396271        NaN        NaN          NaN  350       UTAHDWQ-4904760   \n",
       "396272        NaN        NaN          NaN  350       UTAHDWQ-4904760   \n",
       "396273        NaN        NaN          NaN  350       UTAHDWQ-4904760   \n",
       "\n",
       "               ...               AnalytMeth  \\\n",
       "0              ...          GENERIC METHOD2   \n",
       "1              ...          GENERIC METHOD2   \n",
       "2              ...           GENERIC METHOD   \n",
       "3              ...           GENERIC METHOD   \n",
       "4              ...          GENERIC METHOD2   \n",
       "5              ...           GENERIC METHOD   \n",
       "6              ...                   2540-C   \n",
       "7              ...           GENERIC METHOD   \n",
       "8              ...          GENERIC METHOD2   \n",
       "9              ...          GENERIC METHOD2   \n",
       "10             ...          GENERIC METHOD2   \n",
       "11             ...           GENERIC METHOD   \n",
       "12             ...          GENERIC METHOD2   \n",
       "13             ...           GENERIC METHOD   \n",
       "14             ...           GENERIC METHOD   \n",
       "15             ...           GENERIC METHOD   \n",
       "16             ...           GENERIC METHOD   \n",
       "17             ...           GENERIC METHOD   \n",
       "18             ...           GENERIC METHOD   \n",
       "19             ...           GENERIC METHOD   \n",
       "20             ...           GENERIC METHOD   \n",
       "21             ...          GENERIC METHOD2   \n",
       "22             ...                   2540-D   \n",
       "23             ...          GENERIC METHOD2   \n",
       "24             ...           GENERIC METHOD   \n",
       "25             ...           GENERIC METHOD   \n",
       "26             ...           GENERIC METHOD   \n",
       "27             ...          GENERIC METHOD2   \n",
       "28             ...           GENERIC METHOD   \n",
       "29             ...           GENERIC METHOD   \n",
       "...            ...                      ...   \n",
       "396244         ...          GENERIC METHOD2   \n",
       "396245         ...           FIELD MEASURES   \n",
       "396246         ...          GENERIC METHOD2   \n",
       "396247         ...                   2540-D   \n",
       "396248         ...           FIELD MEASURES   \n",
       "396249         ...           FIELD MEASURES   \n",
       "396250         ...           FIELD MEASURES   \n",
       "396251         ...           FIELD MEASURES   \n",
       "396252         ...           FIELD MEASURES   \n",
       "396253         ...           FIELD MEASURES   \n",
       "396254         ...           FIELD MEASURES   \n",
       "396255         ...          GENERIC METHOD2   \n",
       "396256         ...           FIELD MEASURES   \n",
       "396257         ...           FIELD MEASURES   \n",
       "396258         ...           FIELD MEASURES   \n",
       "396259         ...           FIELD MEASURES   \n",
       "396260         ...           FIELD MEASURES   \n",
       "396261         ...           FIELD MEASURES   \n",
       "396262         ...           FIELD MEASURES   \n",
       "396263         ...           FIELD MEASURES   \n",
       "396264         ...           FIELD MEASURES   \n",
       "396265         ...           FIELD MEASURES   \n",
       "396266         ...           FIELD MEASURES   \n",
       "396267         ...           FIELD MEASURES   \n",
       "396268         ...           FIELD MEASURES   \n",
       "396269         ...           FIELD MEASURES   \n",
       "396270         ...           FIELD MEASURES   \n",
       "396271         ...           FIELD MEASURES   \n",
       "396272         ...           FIELD MEASURES   \n",
       "396273         ...           FIELD MEASURES   \n",
       "\n",
       "                                             AnalytMethId  \\\n",
       "0       Used for half of methods where historical meth...   \n",
       "1       Used for half of methods where historical meth...   \n",
       "2       Used for all methods where historical methodol...   \n",
       "3       Used for all methods where historical methodol...   \n",
       "4       Used for half of methods where historical meth...   \n",
       "5       Used for all methods where historical methodol...   \n",
       "6                         Total Dissolved Solids in Water   \n",
       "7       Used for all methods where historical methodol...   \n",
       "8       Used for half of methods where historical meth...   \n",
       "9       Used for half of methods where historical meth...   \n",
       "10      Used for half of methods where historical meth...   \n",
       "11      Used for all methods where historical methodol...   \n",
       "12      Used for half of methods where historical meth...   \n",
       "13      Used for all methods where historical methodol...   \n",
       "14      Used for all methods where historical methodol...   \n",
       "15      Used for all methods where historical methodol...   \n",
       "16      Used for all methods where historical methodol...   \n",
       "17      Used for all methods where historical methodol...   \n",
       "18      Used for all methods where historical methodol...   \n",
       "19      Used for all methods where historical methodol...   \n",
       "20      Used for all methods where historical methodol...   \n",
       "21      Used for half of methods where historical meth...   \n",
       "22                        Total Suspended Solids in Water   \n",
       "23      Used for half of methods where historical meth...   \n",
       "24      Used for all methods where historical methodol...   \n",
       "25      Used for all methods where historical methodol...   \n",
       "26      Used for all methods where historical methodol...   \n",
       "27      Used for half of methods where historical meth...   \n",
       "28      Used for all methods where historical methodol...   \n",
       "29      Used for all methods where historical methodol...   \n",
       "...                                                   ...   \n",
       "396244                                                NaN   \n",
       "396245                                                NaN   \n",
       "396246                                                NaN   \n",
       "396247                                                NaN   \n",
       "396248                                                NaN   \n",
       "396249                                                NaN   \n",
       "396250                                                NaN   \n",
       "396251                                                NaN   \n",
       "396252                                                NaN   \n",
       "396253                                                NaN   \n",
       "396254                                                NaN   \n",
       "396255                                                NaN   \n",
       "396256                                                NaN   \n",
       "396257                                                NaN   \n",
       "396258                                                NaN   \n",
       "396259                                                NaN   \n",
       "396260                                                NaN   \n",
       "396261                                                NaN   \n",
       "396262                                                NaN   \n",
       "396263                                                NaN   \n",
       "396264                                                NaN   \n",
       "396265                                                NaN   \n",
       "396266                                                NaN   \n",
       "396267                                                NaN   \n",
       "396268                                                NaN   \n",
       "396269                                                NaN   \n",
       "396270                                                NaN   \n",
       "396271                                                NaN   \n",
       "396272                                                NaN   \n",
       "396273                                                NaN   \n",
       "\n",
       "                                           MethodDescript  \\\n",
       "0                                                     NaN   \n",
       "1                                                     NaN   \n",
       "2                                                     NaN   \n",
       "3                                                     NaN   \n",
       "4                                                     NaN   \n",
       "5                                                     NaN   \n",
       "6       https://www.nemi.gov/methods/method_summary/9818/   \n",
       "7                                                     NaN   \n",
       "8                                                     NaN   \n",
       "9                                                     NaN   \n",
       "10                                                    NaN   \n",
       "11                                                    NaN   \n",
       "12                                                    NaN   \n",
       "13                                                    NaN   \n",
       "14                                                    NaN   \n",
       "15                                                    NaN   \n",
       "16                                                    NaN   \n",
       "17                                                    NaN   \n",
       "18                                                    NaN   \n",
       "19                                                    NaN   \n",
       "20                                                    NaN   \n",
       "21                                                    NaN   \n",
       "22      https://www.nemi.gov/methods/method_summary/9819/   \n",
       "23                                                    NaN   \n",
       "24                                                    NaN   \n",
       "25                                                    NaN   \n",
       "26                                                    NaN   \n",
       "27                                                    NaN   \n",
       "28                                                    NaN   \n",
       "29                                                    NaN   \n",
       "...                                                   ...   \n",
       "396244                                                NaN   \n",
       "396245                                                NaN   \n",
       "396246                                                NaN   \n",
       "396247                                                NaN   \n",
       "396248                                                NaN   \n",
       "396249                                                NaN   \n",
       "396250                                                NaN   \n",
       "396251                                                NaN   \n",
       "396252                                                NaN   \n",
       "396253                                                NaN   \n",
       "396254                                                NaN   \n",
       "396255                                                NaN   \n",
       "396256                                                NaN   \n",
       "396257                                                NaN   \n",
       "396258                                                NaN   \n",
       "396259                                                NaN   \n",
       "396260                                                NaN   \n",
       "396261                                                NaN   \n",
       "396262                                                NaN   \n",
       "396263                                                NaN   \n",
       "396264                                                NaN   \n",
       "396265                                                NaN   \n",
       "396266                                                NaN   \n",
       "396267                                                NaN   \n",
       "396268                                                NaN   \n",
       "396269                                                NaN   \n",
       "396270                                                NaN   \n",
       "396271                                                NaN   \n",
       "396272                                                NaN   \n",
       "396273                                                NaN   \n",
       "\n",
       "                                                  LabName AnalysisDate  \\\n",
       "0       Utah DOH Division of Epidemilogy and Laborator...          NaT   \n",
       "1       Utah DOH Division of Epidemilogy and Laborator...          NaT   \n",
       "2       Utah DOH Division of Epidemilogy and Laborator...          NaT   \n",
       "3       Utah DOH Division of Epidemilogy and Laborator...          NaT   \n",
       "4       Utah DOH Division of Epidemilogy and Laborator...          NaT   \n",
       "5       Utah DOH Division of Epidemilogy and Laborator...          NaT   \n",
       "6       Utah DOH Division of Epidemilogy and Laborator...          NaT   \n",
       "7       Utah DOH Division of Epidemilogy and Laborator...          NaT   \n",
       "8       Utah DOH Division of Epidemilogy and Laborator...          NaT   \n",
       "9       Utah DOH Division of Epidemilogy and Laborator...          NaT   \n",
       "10      Utah DOH Division of Epidemilogy and Laborator...          NaT   \n",
       "11      Utah DOH Division of Epidemilogy and Laborator...          NaT   \n",
       "12      Utah DOH Division of Epidemilogy and Laborator...          NaT   \n",
       "13      Utah DOH Division of Epidemilogy and Laborator...          NaT   \n",
       "14      Utah DOH Division of Epidemilogy and Laborator...          NaT   \n",
       "15      Utah DOH Division of Epidemilogy and Laborator...          NaT   \n",
       "16      Utah DOH Division of Epidemilogy and Laborator...          NaT   \n",
       "17      Utah DOH Division of Epidemilogy and Laborator...          NaT   \n",
       "18      Utah DOH Division of Epidemilogy and Laborator...          NaT   \n",
       "19      Utah DOH Division of Epidemilogy and Laborator...          NaT   \n",
       "20      Utah DOH Division of Epidemilogy and Laborator...          NaT   \n",
       "21      Utah DOH Division of Epidemilogy and Laborator...          NaT   \n",
       "22      Utah DOH Division of Epidemilogy and Laborator...          NaT   \n",
       "23      Utah DOH Division of Epidemilogy and Laborator...          NaT   \n",
       "24      Utah DOH Division of Epidemilogy and Laborator...          NaT   \n",
       "25      Utah DOH Division of Epidemilogy and Laborator...          NaT   \n",
       "26      Utah DOH Division of Epidemilogy and Laborator...          NaT   \n",
       "27      Utah DOH Division of Epidemilogy and Laborator...          NaT   \n",
       "28      Utah DOH Division of Epidemilogy and Laborator...          NaT   \n",
       "29      Utah DOH Division of Epidemilogy and Laborator...          NaT   \n",
       "...                                                   ...          ...   \n",
       "396244  Utah DOH Division of Epidemilogy and Laborator...          NaT   \n",
       "396245                                                NaN          NaT   \n",
       "396246  Utah DOH Division of Epidemilogy and Laborator...          NaT   \n",
       "396247  Utah DOH Division of Epidemilogy and Laborator...          NaT   \n",
       "396248                                                NaN          NaT   \n",
       "396249                                                NaN          NaT   \n",
       "396250                                                NaN          NaT   \n",
       "396251                                                NaN          NaT   \n",
       "396252                                                NaN          NaT   \n",
       "396253                                                NaN          NaT   \n",
       "396254                                                NaN          NaT   \n",
       "396255  Utah DOH Division of Epidemilogy and Laborator...          NaT   \n",
       "396256                                                NaN          NaT   \n",
       "396257                                                NaN          NaT   \n",
       "396258                                                NaN          NaT   \n",
       "396259                                                NaN          NaT   \n",
       "396260                                                NaN          NaT   \n",
       "396261                                                NaN          NaT   \n",
       "396262                                                NaN          NaT   \n",
       "396263                                                NaN          NaT   \n",
       "396264                                                NaN          NaT   \n",
       "396265                                                NaN          NaT   \n",
       "396266                                                NaN          NaT   \n",
       "396267                                                NaN          NaT   \n",
       "396268                                                NaN          NaT   \n",
       "396269                                                NaN          NaT   \n",
       "396270                                                NaN          NaT   \n",
       "396271                                                NaN          NaT   \n",
       "396272                                                NaN          NaT   \n",
       "396273                                                NaN          NaT   \n",
       "\n",
       "       LabComments               LimitType   MDL MDLUnit          SampleDate  \n",
       "0              NaN                     NaN   NaN     NaN 1979-02-07 16:30:00  \n",
       "1              NaN                     NaN   NaN     NaN 1979-02-07 16:30:00  \n",
       "2              NaN                     NaN   NaN     NaN 1979-02-07 16:30:00  \n",
       "3              NaN                     NaN   NaN     NaN 1979-02-07 16:30:00  \n",
       "4              NaN                     NaN   NaN     NaN 1978-11-29 13:35:00  \n",
       "5              NaN                     NaN   NaN     NaN 1978-11-29 13:35:00  \n",
       "6              NaN                     NaN   NaN     NaN 1979-02-07 16:30:00  \n",
       "7              NaN  Method Detection Level   0.1    ug/l 1979-02-07 16:30:00  \n",
       "8              NaN                     NaN   NaN     NaN 1979-02-07 16:30:00  \n",
       "9              NaN                     NaN   NaN     NaN 1979-02-07 16:30:00  \n",
       "10             NaN                     NaN   NaN     NaN 1979-02-07 16:30:00  \n",
       "11             NaN                     NaN   NaN     NaN 1978-11-29 13:35:00  \n",
       "12             NaN                     NaN   NaN     NaN 1978-11-29 13:35:00  \n",
       "13             NaN  Method Detection Level  10.0    ug/l 1979-02-07 16:30:00  \n",
       "14             NaN                     NaN   NaN     NaN 1979-02-07 16:30:00  \n",
       "15             NaN                     NaN   NaN     NaN 1979-02-07 16:30:00  \n",
       "16             NaN                     NaN   NaN     NaN 1978-05-02 12:30:00  \n",
       "17             NaN                     NaN   NaN     NaN 1978-05-02 12:30:00  \n",
       "18             NaN                     NaN   NaN     NaN 1978-05-02 12:30:00  \n",
       "19             NaN                     NaN   NaN     NaN 1978-05-02 12:30:00  \n",
       "20             NaN                     NaN   NaN     NaN 1978-05-02 12:30:00  \n",
       "21             NaN                     NaN   NaN     NaN 1978-05-02 12:30:00  \n",
       "22             NaN                     NaN   NaN     NaN 1978-05-02 12:30:00  \n",
       "23             NaN                     NaN   NaN     NaN 1978-05-02 12:30:00  \n",
       "24             NaN                     NaN   NaN     NaN 1978-01-05 08:30:00  \n",
       "25             NaN  Method Detection Level   5.0    ug/l 1979-02-07 16:30:00  \n",
       "26             NaN                     NaN   NaN     NaN 1977-01-26 10:00:00  \n",
       "27             NaN                     NaN   NaN     NaN 1977-01-26 10:00:00  \n",
       "28             NaN                     NaN   NaN     NaN 1977-01-26 10:00:00  \n",
       "29             NaN                     NaN   NaN     NaN 1977-01-26 10:00:00  \n",
       "...            ...                     ...   ...     ...                 ...  \n",
       "396244         NaN                     NaN   NaN     NaN 1998-12-09 11:18:00  \n",
       "396245         NaN                     NaN   NaN     NaN 1998-10-22 14:29:00  \n",
       "396246         NaN                     NaN   NaN     NaN 1998-09-23 11:23:00  \n",
       "396247         NaN                     NaN   NaN     NaN 1998-10-22 14:14:00  \n",
       "396248         NaN                     NaN   NaN     NaN 1998-09-23 11:23:00  \n",
       "396249         NaN                     NaN   NaN     NaN 1998-04-29 09:40:00  \n",
       "396250         NaN                     NaN   NaN     NaN 1998-10-22 14:14:00  \n",
       "396251         NaN                     NaN   NaN     NaN 1998-10-22 14:29:00  \n",
       "396252         NaN                     NaN   NaN     NaN 1998-12-09 11:18:00  \n",
       "396253         NaN                     NaN   NaN     NaN 1998-05-27 11:43:00  \n",
       "396254         NaN                     NaN   NaN     NaN 1998-05-13 15:45:00  \n",
       "396255         NaN                     NaN   NaN     NaN 1998-04-15 12:30:00  \n",
       "396256         NaN                     NaN   NaN     NaN 1998-06-24 11:32:00  \n",
       "396257         NaN                     NaN   NaN     NaN 1998-10-22 14:14:00  \n",
       "396258         NaN                     NaN   NaN     NaN 1998-09-23 11:23:00  \n",
       "396259         NaN                     NaN   NaN     NaN 1998-12-09 11:18:00  \n",
       "396260         NaN                     NaN   NaN     NaN 1998-06-11 11:13:00  \n",
       "396261         NaN                     NaN   NaN     NaN 1998-04-15 12:30:00  \n",
       "396262         NaN                     NaN   NaN     NaN 1998-04-15 12:30:00  \n",
       "396263         NaN                     NaN   NaN     NaN 1998-05-13 15:45:00  \n",
       "396264         NaN                     NaN   NaN     NaN 1998-04-29 10:50:00  \n",
       "396265         NaN                     NaN   NaN     NaN 1998-10-22 14:14:00  \n",
       "396266         NaN                     NaN   NaN     NaN 1998-10-22 14:29:00  \n",
       "396267         NaN                     NaN   NaN     NaN 1998-06-24 11:32:00  \n",
       "396268         NaN                     NaN   NaN     NaN 1998-12-09 11:18:00  \n",
       "396269         NaN                     NaN   NaN     NaN 1998-06-11 11:13:00  \n",
       "396270         NaN                     NaN   NaN     NaN 1998-08-20 09:14:00  \n",
       "396271         NaN                     NaN   NaN     NaN 1998-04-29 10:50:00  \n",
       "396272         NaN                     NaN   NaN     NaN 1998-05-13 15:45:00  \n",
       "396273         NaN                     NaN   NaN     NaN 1998-04-29 09:40:00  \n",
       "\n",
       "[396274 rows x 33 columns]"
      ]
     },
     "execution_count": 10,
     "metadata": {},
     "output_type": "execute_result"
    }
   ],
   "source": [
    "df = wc.WQP.WQPimportRes(WQPResultsFile)\n",
    "df = wc.WQP.WQPmassageResults(df)\n",
    "df"
   ]
  },
  {
   "cell_type": "markdown",
   "metadata": {},
   "source": [
    "## WQP"
   ]
  },
  {
   "cell_type": "markdown",
   "metadata": {},
   "source": [
    "The following html addresses are REST-based queries to download WQP data from the <a href=\"http://www.waterqualitydata.us/portal/\">WQP portal</a>. If you click on them, they will produce zipped csv files that can be opened and processed with the code below. Originally, the code directly applied these links, but the files are large and take a lot of time to download."
   ]
  },
  {
   "cell_type": "markdown",
   "metadata": {},
   "source": [
    "Station data address:"
   ]
  },
  {
   "cell_type": "markdown",
   "metadata": {},
   "source": [
    "http://waterqualitydata.us/Station/search?statecode=US%3A49&countycode=US%3A49%3A005&sampleMedia=Water&characteristicType=Information%3BInorganics%2C+Major%2C+Metals%3BInorganics%2C+Major%2C+Non-metals%3BInorganics%2C+Minor%2C+Metals%3BInorganics%2C+Minor%2C+Non-metals%3BNot+Assigned%3BNutrient%3BPhysical%3BStable+Isotopes&mimeType=csv&zip=yes&sorted=no"
   ]
  },
  {
   "cell_type": "markdown",
   "metadata": {},
   "source": [
    "Result data address:"
   ]
  },
  {
   "cell_type": "markdown",
   "metadata": {},
   "source": [
    "\n",
    "http://waterqualitydata.us/Result/search?statecode=US%3A49&countycode=US%3A49%3A005&sampleMedia=Water&characteristicType=Information%3BInorganics%2C+Major%2C+Metals%3BInorganics%2C+Major%2C+Non-metals%3BInorganics%2C+Minor%2C+Metals%3BInorganics%2C+Minor%2C+Non-metals%3BNot+Assigned%3BNutrient%3BPhysical%3BStable+Isotopes&mimeType=csv&zip=yes&sorted=no"
   ]
  },
  {
   "cell_type": "markdown",
   "metadata": {},
   "source": [
    "### WQP Results"
   ]
  },
  {
   "cell_type": "markdown",
   "metadata": {},
   "source": [
    "Define data type of each field in the WQP database.  This allows for easy import of data. Everything under this header can be acheived using `wc.WQP.WQPimportRes(WQPResultsFile)` then `wc.WQP.WQPmassageResults(df)`"
   ]
  },
  {
   "cell_type": "code",
   "execution_count": null,
   "metadata": {
    "collapsed": false
   },
   "outputs": [],
   "source": [
    "Rdtypes = {\"OrganizationIdentifier\":np.str_, \"OrganizationFormalName\":np.str_, \"ActivityIdentifier\":np.str_, \n",
    "           \"ActivityStartTime/Time\":np.str_,\n",
    "           \"ActivityTypeCode\":np.str_, \"ActivityMediaName\":np.str_, \"ActivityMediaSubdivisionName\":np.str_, \n",
    "           \"ActivityStartDate\":np.str_, \"ActivityStartTime/Time\":np.str_, \"ActivityStartTime/TimeZoneCode\":np.str_, \n",
    "           \"ActivityEndDate\":np.str_, \"ActivityEndTime/Time\":np.str_, \"ActivityEndTime/TimeZoneCode\":np.str_, \n",
    "           \"ActivityDepthHeightMeasure/MeasureValue\":np.float16, \"ActivityDepthHeightMeasure/MeasureUnitCode\":np.str_, \n",
    "           \"ActivityDepthAltitudeReferencePointText\":np.str_, \"ActivityTopDepthHeightMeasure/MeasureValue\":np.float16, \n",
    "           \"ActivityTopDepthHeightMeasure/MeasureUnitCode\":np.str_, \n",
    "           \"ActivityBottomDepthHeightMeasure/MeasureValue\":np.float16, \n",
    "           \"ActivityBottomDepthHeightMeasure/MeasureUnitCode\":np.str_, \n",
    "           \"ProjectIdentifier\":np.str_, \"ActivityConductingOrganizationText\":np.str_, \n",
    "           \"MonitoringLocationIdentifier\":np.str_, \"ActivityCommentText\":np.str_, \n",
    "           \"SampleAquifer\":np.str_, \"HydrologicCondition\":np.str_, \"HydrologicEvent\":np.str_, \n",
    "           \"SampleCollectionMethod/MethodIdentifier\":np.str_, \"SampleCollectionMethod/MethodIdentifierContext\":np.str_, \n",
    "           \"SampleCollectionMethod/MethodName\":np.str_, \"SampleCollectionEquipmentName\":np.str_, \n",
    "           \"ResultDetectionConditionText\":np.str_, \"CharacteristicName\":np.str_, \"ResultSampleFractionText\":np.str_, \n",
    "           \"ResultMeasureValue\":np.str_, \"ResultMeasure/MeasureUnitCode\":np.str_, \"MeasureQualifierCode\":np.str_, \n",
    "           \"ResultStatusIdentifier\":np.str_, \"StatisticalBaseCode\":np.str_, \"ResultValueTypeName\":np.str_, \n",
    "           \"ResultWeightBasisText\":np.str_, \"ResultTimeBasisText\":np.str_, \"ResultTemperatureBasisText\":np.str_, \n",
    "           \"ResultParticleSizeBasisText\":np.str_, \"PrecisionValue\":np.str_, \"ResultCommentText\":np.str_, \n",
    "           \"USGSPCode\":np.str_, \"ResultDepthHeightMeasure/MeasureValue\":np.float16, \n",
    "           \"ResultDepthHeightMeasure/MeasureUnitCode\":np.str_, \"ResultDepthAltitudeReferencePointText\":np.str_, \n",
    "           \"SubjectTaxonomicName\":np.str_, \"SampleTissueAnatomyName\":np.str_, \n",
    "           \"ResultAnalyticalMethod/MethodIdentifier\":np.str_, \"ResultAnalyticalMethod/MethodIdentifierContext\":np.str_, \n",
    "           \"ResultAnalyticalMethod/MethodName\":np.str_, \"MethodDescriptionText\":np.str_, \"LaboratoryName\":np.str_, \n",
    "           \"AnalysisStartDate\":np.str_, \"ResultLaboratoryCommentText\":np.str_, \n",
    "           \"DetectionQuantitationLimitTypeName\":np.str_, \"DetectionQuantitationLimitMeasure/MeasureValue\":np.str_, \n",
    "           \"DetectionQuantitationLimitMeasure/MeasureUnitCode\":np.str_, \"PreparationStartDate\":np.str_, \n",
    "           \"ProviderName\":np.str_} \n",
    "\n",
    "dt = [6,56,61]"
   ]
  },
  {
   "cell_type": "markdown",
   "metadata": {},
   "source": [
    "Read csv data into python."
   ]
  },
  {
   "cell_type": "code",
   "execution_count": null,
   "metadata": {
    "collapsed": false
   },
   "outputs": [],
   "source": [
    "WQP = pd.read_csv(WQPResultsFile, dtype=Rdtypes, parse_dates=dt)"
   ]
  },
  {
   "cell_type": "markdown",
   "metadata": {},
   "source": [
    "Rename columns to match with other data later."
   ]
  },
  {
   "cell_type": "code",
   "execution_count": null,
   "metadata": {
    "collapsed": true
   },
   "outputs": [],
   "source": [
    "ResFieldDict = {\"AnalysisStartDate\":\"AnalysisDate\", \"ResultAnalyticalMethod/MethodIdentifier\":\"AnalytMeth\", \n",
    "                \"ResultAnalyticalMethod/MethodName\":\"AnalytMethId\", \"ResultDetectionConditionText\":\"DetectCond\", \n",
    "                \"ResultLaboratoryCommentText\":\"LabComments\", \"LaboratoryName\":\"LabName\", \n",
    "                \"DetectionQuantitationLimitTypeName\":\"LimitType\", \"DetectionQuantitationLimitMeasure/MeasureValue\":\"MDL\", \n",
    "                \"DetectionQuantitationLimitMeasure/MeasureUnitCode\":\"MDLUnit\", \"MethodDescriptionText\":\"MethodDescript\", \n",
    "                \"OrganizationIdentifier\":\"OrgId\", \"OrganizationFormalName\":\"OrgName\", \"CharacteristicName\":\"Param\", \n",
    "                \"ProjectIdentifier\":\"ProjectId\", \"MeasureQualifierCode\":\"QualCode\", \"ResultCommentText\":\"ResultComment\", \n",
    "                \"ResultStatusIdentifier\":\"ResultStatus\", \"ResultMeasureValue\":\"ResultValue\", \n",
    "                \"ActivityCommentText\":\"SampComment\", \"ActivityDepthHeightMeasure/MeasureValue\":\"SampDepth\", \n",
    "                \"ActivityDepthAltitudeReferencePointText\":\"SampDepthRef\", \n",
    "                \"ActivityDepthHeightMeasure/MeasureUnitCode\":\"SampDepthU\", \"SampleCollectionEquipmentName\":\"SampEquip\", \n",
    "                \"ResultSampleFractionText\":\"SampFrac\", \"ActivityStartDate\":\"SampleDate\", \"ActivityIdentifier\":\"SampleId\", \n",
    "                \"ActivityStartTime/Time\":\"SampleTime\", \"ActivityMediaSubdivisionName\":\"SampMedia\", \n",
    "                \"SampleCollectionMethod/MethodIdentifier\":\"SampMeth\", \"SampleCollectionMethod/MethodName\":\"SampMethName\", \n",
    "                \"ActivityTypeCode\":\"SampType\", \"MonitoringLocationIdentifier\":\"StationId\", \n",
    "                \"ResultMeasure/MeasureUnitCode\":\"Unit\", \"USGSPCode\":\"USGSPCode\",\n",
    "                \"ActivityStartDate\":\"StartDate\",\"ActivityStartTime/Time\":\"StartTime\"}"
   ]
  },
  {
   "cell_type": "code",
   "execution_count": null,
   "metadata": {
    "collapsed": false
   },
   "outputs": [],
   "source": [
    "WQP.rename(columns=ResFieldDict,inplace=True)"
   ]
  },
  {
   "cell_type": "markdown",
   "metadata": {},
   "source": [
    "Define unneeded columns that will be dropped to save memory."
   ]
  },
  {
   "cell_type": "code",
   "execution_count": null,
   "metadata": {
    "collapsed": false
   },
   "outputs": [],
   "source": [
    "resdroplist = [\"ActivityBottomDepthHeightMeasure/MeasureUnitCode\", \"ActivityBottomDepthHeightMeasure/MeasureValue\", \n",
    "               \"ActivityConductingOrganizationText\", \"ActivityEndDate\", \"ActivityEndTime/Time\", \n",
    "               \"ActivityEndTime/TimeZoneCode\", \"ActivityMediaName\", \"ActivityStartTime/TimeZoneCode\", \n",
    "               \"ActivityTopDepthHeightMeasure/MeasureUnitCode\", \"ActivityTopDepthHeightMeasure/MeasureValue\", \n",
    "               \"HydrologicCondition\", \"HydrologicEvent\", \"PrecisionValue\", \"PreparationStartDate\", \"ProviderName\", \n",
    "               \"ResultAnalyticalMethod/MethodIdentifierContext\", \"ResultDepthAltitudeReferencePointText\", \n",
    "               \"ResultDepthHeightMeasure/MeasureUnitCode\", \"ResultDepthHeightMeasure/MeasureValue\", \n",
    "               \"ResultParticleSizeBasisText\", \"ResultTemperatureBasisText\", \n",
    "               \"ResultTimeBasisText\", \"ResultValueTypeName\", \"ResultWeightBasisText\", \"SampleAquifer\", \n",
    "               \"SampleCollectionMethod/MethodIdentifierContext\", \"SampleTissueAnatomyName\", \"StatisticalBaseCode\", \n",
    "               \"SubjectTaxonomicName\",\"StartTime\",\"StartDate\",\"StartTime\",\"StartDate\"]"
   ]
  },
  {
   "cell_type": "markdown",
   "metadata": {},
   "source": [
    "Define a function to fix funky dates found in the WQP database.  This includes impossible dates or dates with too many numbers."
   ]
  },
  {
   "cell_type": "code",
   "execution_count": null,
   "metadata": {
    "collapsed": false
   },
   "outputs": [],
   "source": [
    "def datetimefix(x,format):\n",
    "    '''\n",
    "    This script cleans date-time errors\n",
    "    \n",
    "    input\n",
    "    x = date-time string\n",
    "    format = format of date-time string\n",
    "    \n",
    "    output \n",
    "    formatted datetime type\n",
    "    '''\n",
    "    d = str(x[0]).lstrip().rstrip()[0:10]\n",
    "    t = str(x[1]).lstrip().rstrip()[0:5].zfill(5)\n",
    "    try:\n",
    "        int(d[0:2])\n",
    "    except(ValueError,TypeError,NameError):\n",
    "        return np.nan\n",
    "    try:\n",
    "        int(t[0:2])\n",
    "        int(t[3:5])\n",
    "    except(ValueError,TypeError,NameError):\n",
    "        t = \"00:00\"\n",
    "   \n",
    "    if int(t[0:2])>23:\n",
    "        t = \"00:00\"\n",
    "    elif int(t[3:5])>59:\n",
    "        t = \"00:00\"\n",
    "    else:\n",
    "        t = t[0:2].zfill(2) + \":\" + t[3:5]\n",
    "    return datetime.datetime.strptime(d + \" \" + t, format)"
   ]
  },
  {
   "cell_type": "code",
   "execution_count": null,
   "metadata": {
    "collapsed": false
   },
   "outputs": [],
   "source": [
    "WQP[\"SampleDate\"] = WQP[[\"StartDate\",\"StartTime\"]].apply(lambda x: datetimefix(x,\"%Y-%m-%d %H:%M\"),1)"
   ]
  },
  {
   "cell_type": "markdown",
   "metadata": {},
   "source": [
    "Drop unwanted fields"
   ]
  },
  {
   "cell_type": "code",
   "execution_count": null,
   "metadata": {
    "collapsed": false
   },
   "outputs": [],
   "source": [
    "WQP.drop(resdroplist,inplace=True,axis=1)"
   ]
  },
  {
   "cell_type": "markdown",
   "metadata": {},
   "source": [
    "Convert result values and the MDL values to numeric fields from string fields."
   ]
  },
  {
   "cell_type": "code",
   "execution_count": null,
   "metadata": {
    "collapsed": false
   },
   "outputs": [],
   "source": [
    "WQP['ResultValue'] = WQP['ResultValue'].convert_objects(convert_numeric=True)\n",
    "WQP['MDL'] = WQP['MDL'].convert_objects(convert_numeric=True)"
   ]
  },
  {
   "cell_type": "markdown",
   "metadata": {},
   "source": [
    "Remove station duplicates by removing the preceding 'WQX' found in the station id field."
   ]
  },
  {
   "cell_type": "code",
   "execution_count": null,
   "metadata": {
    "collapsed": true
   },
   "outputs": [],
   "source": [
    "WQP['StationId'] = WQP['StationId'].str.replace('_WQX-','-')"
   ]
  },
  {
   "cell_type": "markdown",
   "metadata": {},
   "source": [
    "Standardize all ug/l data to mg/l by changing out the unit descriptor and dividing by 1000."
   ]
  },
  {
   "cell_type": "code",
   "execution_count": null,
   "metadata": {
    "collapsed": false
   },
   "outputs": [],
   "source": [
    "#standardize all ug/l data to mg/l\n",
    "def unitfix(x):\n",
    "    z = str(x).lower()\n",
    "    if z == \"ug/l\":\n",
    "        return \"mg/l\"\n",
    "    elif z == \"mg/l\":\n",
    "        return \"mg/l\"\n",
    "    else:\n",
    "        return x\n",
    "\n",
    "WQP.Unit = WQP.Unit.apply(lambda x: str(x).rstrip(), 1)\n",
    "WQP.ResultValue = WQP[[\"ResultValue\",\"Unit\"]].apply(lambda x: x[0]/1000 if str(x[1]).lower()==\"ug/l\" else x[0], 1)\n",
    "WQP.Unit = WQP.Unit.apply(lambda x: unitfix(x),1)"
   ]
  },
  {
   "cell_type": "markdown",
   "metadata": {},
   "source": [
    "Normalize common nutrients so that they are all in the same type of units.  For example, sometimes nitrate is reported \"as nitrogen\" and sometimes it is reported \"as nitrate\".  The difference between the two types of reporting is a factor of 4.427!"
   ]
  },
  {
   "cell_type": "code",
   "execution_count": null,
   "metadata": {
    "collapsed": false
   },
   "outputs": [],
   "source": [
    "def parnorm(x):\n",
    "    p = str(x[0]).rstrip().lstrip().lower()\n",
    "    u = str(x[2]).rstrip().lstrip().lower()\n",
    "    if p == 'nitrate' and u == 'mg/l as n':\n",
    "        return 'Nitrate', x[1]*4.427, 'mg/l'\n",
    "    elif p == 'nitrite' and u == 'mg/l as n':\n",
    "        return 'Nitrite', x[1]*3.285, 'mg/l'\n",
    "    elif p == 'ammonia-nitrogen' or p == 'ammonia-nitrogen as n' or p == 'ammonia and ammonium':\n",
    "        return 'Ammonium', x[1]*1.288, 'mg/l'\n",
    "    elif p == 'ammonium' and u == 'mg/l as n':\n",
    "        return 'Ammonium', x[1]*1.288, 'mg/l'\n",
    "    elif p == 'sulfate as s':\n",
    "        return 'Sulfate', x[1]*2.996, 'mg/l'\n",
    "    elif p in ('phosphate-phosphorus', 'phosphate-phosphorus as p','orthophosphate as p'):\n",
    "        return 'Phosphate', x[1]*3.066, 'mg/l'\n",
    "    elif (p == 'phosphate' or p == 'orthophosphate') and u == 'mg/l as p':\n",
    "        return 'Phosphate', x[1]*3.066, 'mg/l'\n",
    "    elif u == 'ug/l':\n",
    "        return x[0], x[1]/1000, 'mg/l'\n",
    "    else:\n",
    "        return x[0], x[1], str(x[2]).rstrip()\n",
    "\n",
    "WQP['Param'], WQP['ResultValue'], WQP['Unit'] = zip(*WQP[['Param','ResultValue','Unit']].apply(lambda x: parnorm(x),1))"
   ]
  },
  {
   "cell_type": "markdown",
   "metadata": {},
   "source": [
    "### WQP Stations"
   ]
  },
  {
   "cell_type": "markdown",
   "metadata": {},
   "source": [
    "Read in WQP station data."
   ]
  },
  {
   "cell_type": "code",
   "execution_count": null,
   "metadata": {
    "collapsed": true
   },
   "outputs": [],
   "source": [
    "WQPStat = pd.read_csv(WQPStationFile)"
   ]
  },
  {
   "cell_type": "markdown",
   "metadata": {},
   "source": [
    "Rename and simplify station data column names for later compilation."
   ]
  },
  {
   "cell_type": "code",
   "execution_count": null,
   "metadata": {
    "collapsed": true
   },
   "outputs": [],
   "source": [
    "StatFieldDict = {\"MonitoringLocationIdentifier\":\"StationId\", \"AquiferName\":\"Aquifer\", \"AquiferTypeName\":\"AquiferType\", \n",
    "             \"ConstructionDateText\":\"ConstDate\", \"CountyCode\":\"CountyCode\", \"WellDepthMeasure/MeasureValue\":\"Depth\", \n",
    "             \"WellDepthMeasure/MeasureUnitCode\":\"DepthUnit\", \"VerticalMeasure/MeasureValue\":\"Elev\", \n",
    "             \"VerticalAccuracyMeasure/MeasureValue\":\"ElevAcc\", \"VerticalAccuracyMeasure/MeasureUnitCode\":\"ElevAccUnit\", \n",
    "             \"VerticalCollectionMethodName\":\"ElevMeth\", \"VerticalCoordinateReferenceSystemDatumName\":\"ElevRef\", \n",
    "             \"VerticalMeasure/MeasureUnitCode\":\"ElevUnit\", \"FormationTypeText\":\"FmType\", \n",
    "             \"WellHoleDepthMeasure/MeasureValue\":\"HoleDepth\", \"WellHoleDepthMeasure/MeasureUnitCode\":\"HoleDUnit\", \n",
    "             \"HorizontalAccuracyMeasure/MeasureValue\":\"HorAcc\", \"HorizontalAccuracyMeasure/MeasureUnitCode\":\"HorAccUnit\", \n",
    "             \"HorizontalCollectionMethodName\":\"HorCollMeth\", \"HorizontalCoordinateReferenceSystemDatumName\":\"HorRef\", \n",
    "             \"HUCEightDigitCode\":\"HUC8\", \"LatitudeMeasure\":\"Lat_Y\", \"LongitudeMeasure\":\"Lon_X\", \n",
    "             \"OrganizationIdentifier\":\"OrgId\", \"OrganizationFormalName\":\"OrgName\", \"StateCode\":\"StateCode\", \n",
    "             \"MonitoringLocationDescriptionText\":\"StationComment\", \"MonitoringLocationName\":\"StationName\", \n",
    "             \"MonitoringLocationTypeName\":\"StationType\"}"
   ]
  },
  {
   "cell_type": "code",
   "execution_count": null,
   "metadata": {
    "collapsed": true
   },
   "outputs": [],
   "source": [
    "WQPStat.rename(columns=StatFieldDict,inplace=True)"
   ]
  },
  {
   "cell_type": "markdown",
   "metadata": {},
   "source": [
    "Define the fields to drop to save memory."
   ]
  },
  {
   "cell_type": "code",
   "execution_count": null,
   "metadata": {
    "collapsed": true
   },
   "outputs": [],
   "source": [
    "statdroplist = [\"ContributingDrainageAreaMeasure/MeasureUnitCode\", \"ContributingDrainageAreaMeasure/MeasureValue\", \n",
    "                \"DrainageAreaMeasure/MeasureUnitCode\", \"DrainageAreaMeasure/MeasureValue\", \"CountryCode\", \"ProviderName\", \n",
    "                \"SourceMapScaleNumeric\"]\n",
    "WQPStat.drop(statdroplist,inplace=True,axis=1)"
   ]
  },
  {
   "cell_type": "markdown",
   "metadata": {},
   "source": [
    "Make station types in the `StationType` field consistent for easier summary and compilation later on."
   ]
  },
  {
   "cell_type": "code",
   "execution_count": null,
   "metadata": {
    "collapsed": true
   },
   "outputs": [],
   "source": [
    "TypeDict = {\"Stream: Canal\":\"Stream\", \"River/Stream\":\"Stream\", \n",
    "            \"Stream: Canal\":\"Stream\", \"Well: Test hole not completed as a well\":\"Well\"}\n",
    "WQPStat.StationType = WQPStat[\"StationType\"].apply(lambda x: TypeDict.get(x,x),1)\n",
    "WQPStat.Elev = WQPStat.Elev.apply(lambda x: np.nan if x==0.0 else round(x,1), 1)"
   ]
  },
  {
   "cell_type": "markdown",
   "metadata": {},
   "source": [
    "Remove preceding `WQX` from `StationId` field to remove duplicate station data created by legacy database."
   ]
  },
  {
   "cell_type": "code",
   "execution_count": null,
   "metadata": {
    "collapsed": false
   },
   "outputs": [],
   "source": [
    "WQPStat['StationId'] = WQPStat['StationId'].str.replace('_WQX-','-')\n",
    "WQPStat.drop_duplicates(subset=['StationId'],inplace=True)"
   ]
  },
  {
   "cell_type": "markdown",
   "metadata": {},
   "source": [
    "## SDWIS"
   ]
  },
  {
   "cell_type": "markdown",
   "metadata": {},
   "source": [
    "SDWIS data were extracted from the Utah SDWIS database into ArcGIS 10.3.2 using the following SQL query.  NED 10m elevation and UTM coordinates were appended using ArcGIS."
   ]
  },
  {
   "cell_type": "markdown",
   "metadata": {},
   "source": [
    "```SQL\n",
    "SELECT UTV80.TINWSF.EXTERNAL_SYS_NUM AS \"FED_NM\",  UTV80.TINWSF.ST_ASGN_IDENT_CD AS \"ST_ID\",  UTV80.TINWSF.TYPE_CODE,  UTV80.TINWSYS.NAME AS \"SYS_NM\", UTV80.TINWSYS.D_PRIN_CNTY_SVD_NM AS \"COUNTY\", UTV80.TINWSF.NAME AS \"FAC_NM\",  UTV80.TINWSF.TINWSYS_IS_NUMBER AS \"SY_NBR\", UTV80.TINLOC.LATITUDE_MEASURE AS \"Y\",  UTV80.TINLOC.LONGITUDE_MEASURE AS \"X\",  UTV80.TINLOC.VERTICAL_MEASURE AS \"Z\", UTV80.TSASAMPL.COLLLECTION_END_DT AS \"DTE\", UTV80.TSAANLYT.NAME AS \"ANLY_NM\",  UTV80.TSASAR.CONCENTRATION_MSR AS \"CONC_MSR\", UTV80.TSASAR.TSASAR_IS_NUMBER AS \"ID_NUM\",  UTV80.TSASAR.UOM_CODE,   UTV80.TSASAR.DETECTN_LIMIT_NUM AS \"DET_LIM\", UTV80.TSASAR.DETECTN_LIM_UOM_CD AS \"DET_UOM\"  FROM  UTV80.TINWSF  INNER JOIN  UTV80.TINWSYS ON UTV80.TINWSF.TINWSYS_IS_NUMBER = UTV80.TINWSYS.TINWSYS_IS_NUMBER  INNER JOIN  UTV80.TINLOC ON UTV80.TINWSF.TINWSF_IS_NUMBER = UTV80.TINLOC.TINWSF_IS_NUMBER  INNER JOIN  UTV80.TSASMPPT ON UTV80.TINWSF.TINWSF_IS_NUMBER = UTV80.TSASMPPT.TINWSF0IS_NUMBER  INNER JOIN  UTV80.TSASAMPL ON UTV80.TSASMPPT.TSASMPPT_IS_NUMBER = UTV80.TSASAMPL.TSASMPPT_IS_NUMBER  INNER JOIN  UTV80.TSASAR ON UTV80.TSASAMPL.TSASAMPL_IS_NUMBER = UTV80.TSASAR.TSASAMPL_IS_NUMBER  INNER JOIN  UTV80.TSAANLYT ON UTV80.TSASAR.TSAANLYT_IS_NUMBER = UTV80.TSAANLYT.TSAANLYT_IS_NUMBER WHERE  (UTV80.TINWSYS.D_PRIN_CNTY_SVD_NM LIKE '%CACHE COUNTY%')   AND (UTV80.TSAANLYT.NAME LIKE '%NITRATE%' OR UTV80.TSAANLYT.NAME LIKE '%NITRITE%' OR UTV80.TSAANLYT.NAME LIKE '%AMMONI%' OR UTV80.TSAANLYT.NAME LIKE '%SULFATE%' OR UTV80.TSAANLYT.NAME LIKE '%TDS%' OR UTV80.TSAANLYT.NAME LIKE '%SODIUM%' OR UTV80.TSAANLYT.NAME LIKE '%FLUORIDE%' OR UTV80.TSAANLYT.NAME LIKE '%MAGNESIUM%' OR UTV80.TSAANLYT.NAME LIKE '%SELENIUM%' OR  UTV80.TSAANLYT.NAME LIKE '%CALCIUM%' OR UTV80.TSAANLYT.NAME LIKE '%CHLORIDE%' OR UTV80.TSAANLYT.NAME LIKE '%POTASSIUM%' OR UTV80.TSAANLYT.NAME LIKE '%SELENIUM%' OR UTV80.TSAANLYT.NAME LIKE '%SILICA%' OR UTV80.TSAANLYT.NAME LIKE '%IRON %' OR UTV80.TSAANLYT.NAME LIKE '%ALKA %' OR UTV80.TSAANLYT.NAME LIKE '%CONDUCTIVITY%' OR UTV80.TSAANLYT.NAME LIKE '%PH %' OR UTV80.TSAANLYT.NAME LIKE '%TEMP%' OR UTV80.TSAANLYT.NAME LIKE '%ARSENIC%' OR UTV80.TSAANLYT.NAME LIKE '%CARBON%' OR UTV80.TSAANLYT.NAME LIKE '%TRITIUM%' OR UTV80.TSAANLYT.NAME LIKE '%COPPER%' OR UTV80.TSAANLYT.NAME LIKE '%LEAD%' OR UTV80.TSAANLYT.NAME LIKE '%NITROGEN%' OR UTV80.TSAANLYT.NAME LIKE '%PHOSPHATE%' OR UTV80.TSAANLYT.NAME LIKE '%TDS%' OR UTV80.TSAANLYT.NAME LIKE '%ZINC%' OR UTV80.TSAANLYT.NAME LIKE '%IRON%' OR UTV80.TSAANLYT.NAME LIKE '%CHROMIUM%' ) ORDER BY UTV80.TINWSF.ST_ASGN_IDENT_CD\n",
    "```"
   ]
  },
  {
   "cell_type": "markdown",
   "metadata": {},
   "source": [
    "```SQL\n",
    "SELECT UTV80.TINWSF.EXTERNAL_SYS_NUM AS \"FED_NM\",  UTV80.TINWSF.ST_ASGN_IDENT_CD AS \"ST_ID\",  UTV80.TINWSF.TYPE_CODE,  UTV80.TINWSYS.NAME AS \"SYS_NM\", UTV80.TINWSYS.D_PRIN_CNTY_SVD_NM AS \"COUNTY\", UTV80.TINWSF.NAME AS \"FAC_NM\",  UTV80.TINWSF.TINWSYS_IS_NUMBER AS \"SY_NBR\", UTV80.TINLOC.LATITUDE_MEASURE AS \"Y\",  UTV80.TINLOC.LONGITUDE_MEASURE AS \"X\",  UTV80.TINLOC.VERTICAL_MEASURE AS \"Z\", UTV80.TSASAMPL.COLLLECTION_END_DT AS \"DTE\", UTV80.TSAANLYT.NAME AS \"ANLY_NM\",  UTV80.TSASAR.CONCENTRATION_MSR AS \"CONC_MSR\", UTV80.TSASAR.TSASAR_IS_NUMBER AS \"ID_NUM\",  UTV80.TSASAR.UOM_CODE,   UTV80.TSASAR.DETECTN_LIMIT_NUM AS \"DET_LIM\", UTV80.TSASAR.DETECTN_LIM_UOM_CD AS \"DET_UOM\"  FROM  UTV80.TINWSF  INNER JOIN  UTV80.TINWSYS ON UTV80.TINWSF.TINWSYS_IS_NUMBER = UTV80.TINWSYS.TINWSYS_IS_NUMBER  INNER JOIN  UTV80.TINLOC ON UTV80.TINWSF.TINWSF_IS_NUMBER = UTV80.TINLOC.TINWSF_IS_NUMBER  INNER JOIN  UTV80.TSASMPPT ON UTV80.TINWSF.TINWSF_IS_NUMBER = UTV80.TSASMPPT.TINWSF0IS_NUMBER  INNER JOIN  UTV80.TSASAMPL ON UTV80.TSASMPPT.TSASMPPT_IS_NUMBER = UTV80.TSASAMPL.TSASMPPT_IS_NUMBER  INNER JOIN  UTV80.TSASAR ON UTV80.TSASAMPL.TSASAMPL_IS_NUMBER = UTV80.TSASAR.TSASAMPL_IS_NUMBER  INNER JOIN  UTV80.TSAANLYT ON UTV80.TSASAR.TSAANLYT_IS_NUMBER = UTV80.TSAANLYT.TSAANLYT_IS_NUMBER WHERE  UTV80.TINWSYS.D_PRIN_CNTY_SVD_NM LIKE '%CACHE COUNTY%' AND (UTV80.TINWSYS.NAME IN('%PROVID%','%MILL%','%LOG%','%NIB%',   ORDER BY UTV80.TINWSF.ST_ASGN_IDENT_CD\n",
    "```"
   ]
  },
  {
   "cell_type": "markdown",
   "metadata": {},
   "source": [
    "Read in the queried SDWIS data and make a `StationId` and `StationName` field.  Make field names consistent with those applied to WQP data above so that compilation is easier later."
   ]
  },
  {
   "cell_type": "code",
   "execution_count": null,
   "metadata": {
    "collapsed": false
   },
   "outputs": [],
   "source": [
    "SDWIS = pd.read_csv(SDWISFile)\n",
    "\n",
    "def sampid(x):\n",
    "    return \"SDWIS\" + str(x[0]) + str(x[1]) + str(x[2])[:-7]\n",
    "\n",
    "def statid(x):\n",
    "    return \"SDWIS\" + str(x[0]) + str(x[1]) \n",
    "\n",
    "def statnm(x):\n",
    "    return str(str(x[0]) + \" \" + str(x[1])).title()\n",
    "\n",
    "SDWIS[\"StationId\"] = SDWIS[[\"FED_NM\",\"ST_ID\"]].apply(lambda x: statid(x),1)\n",
    "SDWIS[\"StationName\"] = SDWIS[[\"SYS_NM\",\"FAC_NM\"]].apply(lambda x: statnm(x),1)\n",
    "SDWIS[\"SampleId\"] = SDWIS[[\"FED_NM\",\"ST_ID\",\"DTE\"]].apply(lambda x: sampid(x),1)\n",
    "SDWIS[\"OrgId\"] = \"UDDW\"\n",
    "SDWIS[\"OrgName\"] = \"Utah Division of Drinking Water\"\n",
    "SDWIS[\"Elev\"] = SDWIS[\"Z\"].apply(lambda x: round(x*3.2808,1),1)\n",
    "SDWIS[\"Unit\"] = SDWIS[\"UOM_CODE\"].apply(lambda x: str(x).lower(),1)\n",
    "SDWIS[\"MDLUnit\"] = SDWIS[\"DET_UOM\"].apply(lambda x: str(x).lower(),1)\n",
    "SDWIS[\"Param\"] = SDWIS[\"ANLY_NM\"].apply(lambda x: str(x).title().rstrip(),1)"
   ]
  },
  {
   "cell_type": "code",
   "execution_count": null,
   "metadata": {
    "collapsed": false
   },
   "outputs": [],
   "source": [
    "SDWISFields ={\"DTE\":\"SampleDate\", \"TYPE_CODE\":\"StationType\",\n",
    "              \"CONC_MSR\":\"ResultValue\", \"DET_LIM\":\"MDL\",\n",
    "              \"Y\":\"Lat_Y\", \"X\":\"Lon_X\"}  \n",
    "SDWIS.rename(columns=SDWISFields,inplace=True)"
   ]
  },
  {
   "cell_type": "code",
   "execution_count": null,
   "metadata": {
    "collapsed": false
   },
   "outputs": [],
   "source": [
    "def datetimefixSDWIS(x,format):\n",
    "    d = str(x).lstrip().rstrip()\n",
    "    try:\n",
    "        return datetime.datetime.strptime(d, \"%m/%d/%Y %H:%M:%S\")\n",
    "    except(ValueError):\n",
    "        return datetime.datetime.strptime(d, \"%Y-%m-%d %H:%M:%S\")\n",
    "\n",
    "SDWIS[\"SampleDate\"] = SDWIS[\"SampleDate\"].apply(lambda x: datetimefixSDWIS(x,\"%m/%d/%Y %H:%M:%S\"),1)"
   ]
  },
  {
   "cell_type": "markdown",
   "metadata": {},
   "source": [
    "Normalize units and nutrient data so that they are consistent with the WQP data. This includes standardizing ug/l to mg/l"
   ]
  },
  {
   "cell_type": "code",
   "execution_count": null,
   "metadata": {
    "collapsed": false
   },
   "outputs": [],
   "source": [
    "print sorted(list(SDWIS.Param.unique()))\n",
    "\n",
    "def parnormSDWIS(x):\n",
    "    p = str(x[0]).rstrip().lstrip().lower()\n",
    "    u = str(x[2]).rstrip().lstrip().lower()\n",
    "    if p == 'nitrate':\n",
    "        return 'Nitrate', x[1]*4.427, 'mg/l'\n",
    "    elif p == 'nitrite':\n",
    "        return 'Nitrite', x[1]*3.285, 'mg/l'\n",
    "    elif p == 'nitrogen-ammonia as (n)':\n",
    "        return 'Ammonium', x[1]*1.288, 'mg/l'\n",
    "    elif u == 'ug/l':\n",
    "        return x[0], x[1]/1000, 'mg/l'\n",
    "    else:\n",
    "        return x[0], x[1], str(x[2]).rstrip()\n",
    "    \n",
    "SDWIS['Param'], SDWIS['ResultValue'], SDWIS['Unit'] = zip(*SDWIS[['Param','ResultValue','Unit']].apply(lambda x: parnormSDWIS(x),1))"
   ]
  },
  {
   "cell_type": "markdown",
   "metadata": {},
   "source": [
    "Drop unneeded SDWIS fields to save memory and reduce confusion."
   ]
  },
  {
   "cell_type": "code",
   "execution_count": null,
   "metadata": {
    "collapsed": false
   },
   "outputs": [],
   "source": [
    "SDWIS.drop([\"FED_NM\", \"DET_UOM\", \"UOM_CODE\",\"ANLY_NM\", \"FAC_NM\", \"ST_ID\", \n",
    "            \"SYS_NM\", \"COUNTY\", \"SY_NBR\", \"Z\", \"ID_NUM\"],inplace=True, axis=1)"
   ]
  },
  {
   "cell_type": "markdown",
   "metadata": {},
   "source": [
    "Rename chemical parameters in the SDWIS `Param` field to match those of the WQP data."
   ]
  },
  {
   "cell_type": "code",
   "execution_count": null,
   "metadata": {
    "collapsed": false
   },
   "outputs": [],
   "source": [
    "SDWISPmatch = {\"Ph\":\"pH\",\"Tds\":\"TDS\",\"Nitrogen-Ammonia As (N)\":\"Nitrogen-Ammonia as (N)\",\n",
    "              \"Hydroxide As Calcium Carbonate\":\"Hydroxide as Calcium Carbonate\",\n",
    "               \"Bicarbonate As Hco3\":\"Bicarbonate as HCO3\"}\n",
    "SDWIS[\"Param\"] = SDWIS[\"Param\"].apply(lambda x: SDWISPmatch.get(x,x))\n",
    "SDWIS[\"StationName\"] = SDWIS[\"StationName\"].apply(lambda x: x.replace(\"Wtp\",\"WTP\"))\n",
    "\n",
    "SDWIS[\"ResultValue\"] = SDWIS[[\"ResultValue\",\"Unit\"]].apply(lambda x: x[0]/1000 if x[1]==\"ug/L\" else x[0], 1)"
   ]
  },
  {
   "cell_type": "markdown",
   "metadata": {},
   "source": [
    "Make station types consistent with the WQP data."
   ]
  },
  {
   "cell_type": "code",
   "execution_count": null,
   "metadata": {
    "collapsed": false
   },
   "outputs": [],
   "source": [
    "SDWISType = {\"SP\":\"Spring\",\"WL\":\"Well\",\"TP\":\"Facility Other\",\"IN\":\"Stream\",\"CC\":\"Connection\",\"WH\":\"Well\"}\n",
    "SDWIS.StationType = SDWIS.StationType.apply(lambda x: SDWISType.get(x,x),1)"
   ]
  },
  {
   "cell_type": "markdown",
   "metadata": {},
   "source": [
    "SDWIS facility type code (FacTypeCode): CC, Consecutive_connection;\n",
    "CH, Common_headers; CS, Cistern; CW, Clear_well;\n",
    "DS, Distribution_system_zone; IG, Infiltration_gallery; IN,\n",
    "Intake; NP, Non-piped; OT, Other; PC, Pressure_control;\n",
    "PF, Pump_facility; RC, Roof_catchment; RS, Reservoir; SI,\n",
    "Surface_impoundment; SP, Spring; SS, Sampling_station; ST,\n",
    "Storage; TM, Transmission_main; TP, Treatment_plant; WH,\n",
    "Well_head; WL, Well."
   ]
  },
  {
   "cell_type": "markdown",
   "metadata": {},
   "source": [
    "Create a SDWIS stations file from the SDWIS data. Drop unneeded fields from the station file. Remove duplication stations."
   ]
  },
  {
   "cell_type": "code",
   "execution_count": null,
   "metadata": {
    "collapsed": true
   },
   "outputs": [],
   "source": [
    "SDWISSta = SDWIS.drop([u'SampleDate', u'ResultValue', u'MDL', u'SampleId', u'Unit', u'MDLUnit', u'Param'], axis=1)\n",
    "SDWISSta.drop_duplicates(inplace=True)"
   ]
  },
  {
   "cell_type": "markdown",
   "metadata": {},
   "source": [
    "Create SDWIS results file from the SDWIS data. Drop unneeded fields from the results file.  These are fields that are in the station field and apply to stations."
   ]
  },
  {
   "cell_type": "code",
   "execution_count": null,
   "metadata": {
    "collapsed": false
   },
   "outputs": [],
   "source": [
    "SDWISRes = SDWIS.drop([u'StationType', u'Lat_Y', u'Lon_X', u'StationName', u'Elev'], axis=1)"
   ]
  },
  {
   "cell_type": "markdown",
   "metadata": {},
   "source": [
    "Create a sample media field and populate it with the value `Groundwater`."
   ]
  },
  {
   "cell_type": "code",
   "execution_count": null,
   "metadata": {
    "collapsed": false
   },
   "outputs": [],
   "source": [
    "SDWISRes[\"SampMedia\"] = \"Groundwater\""
   ]
  },
  {
   "cell_type": "markdown",
   "metadata": {},
   "source": [
    "## UDAF"
   ]
  },
  {
   "cell_type": "markdown",
   "metadata": {},
   "source": [
    "### UDAF Stations "
   ]
  },
  {
   "cell_type": "markdown",
   "metadata": {},
   "source": [
    "Import Utah Department of Food and Agriculture data from the data file. These data were compiled from <a href=http://ag.utah.gov/conservation-environmental/ground-water.html>reports available of the UDAF website</a>. Once the data are imported, rename the fields to match the above SDWIS and WQP data."
   ]
  },
  {
   "cell_type": "code",
   "execution_count": null,
   "metadata": {
    "collapsed": true
   },
   "outputs": [],
   "source": [
    "AGStat = pd.read_csv(AGStationsFile)\n",
    "AGStat[\"StationType\"] = \"Well\"\n",
    "AGStatFields = {\"SITEID\":\"StationId\",\"FINISHEDDE\":\"Depth\",\"POINT_Y\":\"Lat_Y\",\n",
    "                \"POINT_X\":\"Lon_X\",\"ELEV_FT\":\"Elev\",\"ACCURACY\":\"HorAcc\"}\n",
    "AGStat.rename(columns=AGStatFields,inplace=True)"
   ]
  },
  {
   "cell_type": "markdown",
   "metadata": {},
   "source": [
    "Drop unneeded fields to save memory."
   ]
  },
  {
   "cell_type": "code",
   "execution_count": null,
   "metadata": {
    "collapsed": true
   },
   "outputs": [],
   "source": [
    "AGStat.drop([\"OBJECTID_1\", \"OBJECTID\", \"PUB_YR\", \"SAMPLENO\", \"WLDATE\", \"WLDEPTH\"], inplace=True, axis=1)"
   ]
  },
  {
   "cell_type": "markdown",
   "metadata": {},
   "source": [
    "Add `UDAF` prefix to the station identification field (`StationId`) to make station ids unique."
   ]
  },
  {
   "cell_type": "code",
   "execution_count": null,
   "metadata": {
    "collapsed": false
   },
   "outputs": [],
   "source": [
    "AGStat.StationId = AGStat.StationId.apply(lambda x: \"UDAF-\"+str(int(x)).zfill(5),1)"
   ]
  },
  {
   "cell_type": "markdown",
   "metadata": {},
   "source": [
    "### UDAF Results "
   ]
  },
  {
   "cell_type": "markdown",
   "metadata": {},
   "source": [
    "Import data Utah Department of Food and Agriculture data from the data file. These data were compiled from reports available of the UDAF website. Once the data are imported, rename the fields to match the above SDWIS and WQP data."
   ]
  },
  {
   "cell_type": "code",
   "execution_count": null,
   "metadata": {
    "collapsed": false
   },
   "outputs": [],
   "source": [
    "names = [\"SampleId\",\"ResultValue\", \"ParAbb\", \"Unit\", \"Param\", \"MDL\",\"BelowLim\",\"TestNo\",\n",
    "         \"StationId\",\"SampleDate\",\"SampYear\"]\n",
    "AGRes = pd.read_csv(AGResultsFile, names=names, index_col=10)"
   ]
  },
  {
   "cell_type": "markdown",
   "metadata": {},
   "source": [
    "Create a detection condition field and populate it based on values in the imported data."
   ]
  },
  {
   "cell_type": "code",
   "execution_count": null,
   "metadata": {
    "collapsed": true
   },
   "outputs": [],
   "source": [
    "AGRes[\"DetectCond\"] = AGRes[\"BelowLim\"].apply(lambda x: 'Not Detected' if x=='Y' else np.nan,1)"
   ]
  },
  {
   "cell_type": "markdown",
   "metadata": {},
   "source": [
    "Fill null result values with zeros when data are reported as below detection limit."
   ]
  },
  {
   "cell_type": "code",
   "execution_count": null,
   "metadata": {
    "collapsed": false
   },
   "outputs": [],
   "source": [
    "AGRes.ResultValue = AGRes[[\"BelowLim\",\"ResultValue\"]].apply(lambda x: np.nan if x[0]==\"Y\" or x[1] == 0.0 else x[1], 1)"
   ]
  },
  {
   "cell_type": "markdown",
   "metadata": {},
   "source": [
    "Make data consistent by cleaning up parameter descriptions."
   ]
  },
  {
   "cell_type": "code",
   "execution_count": null,
   "metadata": {
    "collapsed": false
   },
   "outputs": [],
   "source": [
    "def parnormAG(x):\n",
    "    p = str(x[0]).rstrip().lstrip().lower()\n",
    "    u = str(x[2]).rstrip().lstrip().lower()\n",
    "    if p == 'nitrate-n':\n",
    "        return 'Nitrate', x[1]*4.427, 'mg/l'\n",
    "    elif u == 'ug/l':\n",
    "        return x[0], x[1]/1000, 'mg/l'\n",
    "    else:\n",
    "        return x[0], x[1], str(x[2]).rstrip()\n",
    "    \n",
    "AGRes['Param'], AGRes['ResultValue'], AGRes['Unit'] = zip(*AGRes[['Param','ResultValue','Unit']].apply(lambda x: parnormAG(x),1))"
   ]
  },
  {
   "cell_type": "code",
   "execution_count": null,
   "metadata": {
    "collapsed": false
   },
   "outputs": [],
   "source": [
    "AGRes.Unit.unique()"
   ]
  },
  {
   "cell_type": "code",
   "execution_count": null,
   "metadata": {
    "collapsed": false
   },
   "outputs": [],
   "source": [
    "AGRes.dropna(subset=[\"StationId\",\"ResultValue\"], how=\"any\", inplace=True)"
   ]
  },
  {
   "cell_type": "code",
   "execution_count": null,
   "metadata": {
    "collapsed": false
   },
   "outputs": [],
   "source": [
    "AGRes.StationId = AGRes.StationId.apply(lambda x: \"UDAF-\"+str(int(x)).zfill(5),1)"
   ]
  },
  {
   "cell_type": "code",
   "execution_count": null,
   "metadata": {
    "collapsed": false
   },
   "outputs": [],
   "source": [
    "AGStAv = list(AGStat.StationId.values)\n",
    "AGRes = AGRes[AGRes.StationId.isin(AGStAv)]\n",
    "AGRes[\"SampMedia\"] = \"Groundwater\""
   ]
  },
  {
   "cell_type": "code",
   "execution_count": null,
   "metadata": {
    "collapsed": true
   },
   "outputs": [],
   "source": [
    "AGStat['OrgId']='UDAF'"
   ]
  },
  {
   "cell_type": "markdown",
   "metadata": {},
   "source": [
    "## STORET Legacy"
   ]
  },
  {
   "cell_type": "markdown",
   "metadata": {},
   "source": [
    "Legacy EPA data are kept in the <a href=ftp://ftp.epa.gov/storet/exports/>STORET Legacy Database</a>."
   ]
  },
  {
   "cell_type": "code",
   "execution_count": null,
   "metadata": {
    "collapsed": false
   },
   "outputs": [],
   "source": [
    "STORLegSta = pd.read_table(STORLegStatFile, skiprows=[1])\n",
    "STORLegRes = pd.read_table(STORLegResFile, skiprows=[1])\n",
    "STORParam = pd.read_table(STORParamFile)"
   ]
  },
  {
   "cell_type": "markdown",
   "metadata": {},
   "source": [
    "Parse choppy text data from the STORET Legacy database."
   ]
  },
  {
   "cell_type": "code",
   "execution_count": null,
   "metadata": {
    "collapsed": false
   },
   "outputs": [],
   "source": [
    "rescol = list(STORLegRes.columns)\n",
    "j = []\n",
    "for i in rescol:\n",
    "    j.append(i.rstrip(\"\\t\").rstrip().lstrip().replace(\" \",\"\"))\n",
    "resdict = dict(zip(rescol,j))\n",
    "STORLegRes.rename(columns=resdict,inplace=True)\n",
    "\n",
    "statcol = list(STORLegSta.columns)\n",
    "k = []\n",
    "for i in statcol:\n",
    "    k.append(i.rstrip(\"\\t\").rstrip().lstrip().replace(\" \",\"\"))\n",
    "statdict = dict(zip(statcol,k))\n",
    "STORLegSta.rename(columns=statdict,inplace=True)"
   ]
  },
  {
   "cell_type": "code",
   "execution_count": null,
   "metadata": {
    "collapsed": false
   },
   "outputs": [],
   "source": [
    "STORLegRes[\"SampleDate\"] = STORLegRes[[\"StartDate\",\"StartTime\"]].apply(lambda x: datetimefix(x,\"%Y-%m-%d %H:%M\"),1)\n",
    "STORLegRes = STORLegRes[STORLegRes.SecondaryActivityCategory.isin(['Water',np.nan])]\n",
    "STORParamDict = dict(zip(STORParam['Parameter No.'].values, STORParam['Full Name'].values))\n",
    "STORLegRes.Param = STORLegRes.Param.apply(lambda x: STORParamDict.get(x),1)"
   ]
  },
  {
   "cell_type": "code",
   "execution_count": null,
   "metadata": {
    "collapsed": true
   },
   "outputs": [],
   "source": [
    "STORResField = {\"Agency\":\"OrgId\",\"AgencyName\":\"OrgName\",\"Station\":\"StationId\",\"SampleDepth\":\"SampDepth\"}\n",
    "STORLegRes.rename(columns=STORResField,inplace=True)"
   ]
  },
  {
   "cell_type": "code",
   "execution_count": null,
   "metadata": {
    "collapsed": false
   },
   "outputs": [],
   "source": [
    "STORLegRes.drop([\"StateName\", \"CountyName\", \"HUC\", \"EndDate\", \"UMK\", \"CS\", \"ReplicateNumber\",\n",
    "                 \"COMPOSITE_GRAB_NUMBER\",\"CM\",\"PrimaryActivityCategory\",\"PrimaryActivityCategory\",\n",
    "                 \"SecondaryActivityCategory\",\n",
    "                 \"EndTime\", \"StartDate\", \"StartTime\", \"Latitude\", \"Longitude\"],inplace=True,axis=1)"
   ]
  },
  {
   "cell_type": "code",
   "execution_count": null,
   "metadata": {
    "collapsed": false
   },
   "outputs": [],
   "source": [
    "STORLegRes[\"SampleId\"] = STORLegRes[[\"StationId\",\"SampleDate\"]].apply(lambda x: str(x[0]) + \"-\" + str(x[1]),1 )\n",
    "STORLegRes[\"StationId\"] = STORLegRes[\"StationId\"].apply(lambda x: \"EPALeg-\" + x, 1)"
   ]
  },
  {
   "cell_type": "code",
   "execution_count": null,
   "metadata": {
    "collapsed": false
   },
   "outputs": [],
   "source": [
    "STORLegRes.Param = STORLegRes.Param.apply(lambda x: str(x).title(),1)"
   ]
  },
  {
   "cell_type": "code",
   "execution_count": null,
   "metadata": {
    "collapsed": false
   },
   "outputs": [],
   "source": [
    "STORLegRes.columns"
   ]
  },
  {
   "cell_type": "code",
   "execution_count": null,
   "metadata": {
    "collapsed": false
   },
   "outputs": [],
   "source": [
    "def parnormSTOR(x):\n",
    "    p = str(x[0]).rstrip().lstrip().lower()\n",
    "    if p ==  'nitrate nitrogen, total (mg/L as n)' or p== 'nitrate nitrogen, total':\n",
    "        return 'Nitrate', x[1]*4.427, 'mg/l'\n",
    "    elif p == 'nitrite nitrogen, total (mg/l as n)':\n",
    "        return 'Nitrite', x[1]*3.285, 'mg/l'\n",
    "    elif p == 'nitrogen, ammonia, total (mg/l as n)':\n",
    "        return 'Ammonium', x[1]*1.288, 'mg/l'\n",
    "    elif p == 'sulfate (as s) whole     water, mg/L':\n",
    "        return 'Sulfate', x[1]*2.996, 'mg/l'\n",
    "    elif p in ('phosphorus, dissolved orthophosphate (mg/l as p)'):\n",
    "        return 'Phosphate', x[1]*3.066, 'mg/l'\n",
    "    else:\n",
    "        return x[0], x[1], np.nan\n",
    "\n",
    "STORLegRes['Param'], STORLegRes['ResultValue'], STORLegRes['Unit'] = zip(*STORLegRes[['Param','ResultValue']].apply(lambda x: parnormSTOR(x),1))"
   ]
  },
  {
   "cell_type": "code",
   "execution_count": null,
   "metadata": {
    "collapsed": false
   },
   "outputs": [],
   "source": [
    "STORKeepers = ['Temperature, Water (Degrees Centigrade)',\n",
    "               'Temperature, Water (Degrees Fahrenheit)', \n",
    "               'Specific Conductance,Field (Umhos/Cm @ 25C)',\n",
    "               'Specific Conductance (Umhos/Cm @ 25C)', \n",
    "               'Sulfate (As S) Whole     Water, Mg/L',\n",
    "               'Oxygen, Dissolved                             Mg/L',\n",
    "               'Oxygen, Dissolved, Percent Of Saturation         %',\n",
    "               'Bod, 5 Day, 20 Deg C                          Mg/L',\n",
    "               'Ph (Standard Units)', 'Ph, Lab, Standard Units                         Su',\n",
    "               'Carbon Dioxide (Mg/L As Co2)', 'Alkalinity,Total,Low Level Gran Analysis     Ueq/L',\n",
    "               'Alkalinity, Total (Mg/L As Caco3)', 'Bicarbonate Ion (Mg/L As Hco3)', 'Carbonate Ion (Mg/L As Co3)',\n",
    "               'Nitrogen, Ammonia, Total (Mg/L As N)', 'Ammonia, Unionzed                      (Mg/L As N)',\n",
    "               'Nitrite Nitrogen, Total (Mg/L As N)', 'Ammonia, Unionized (Calc Fr Temp-Ph-Nh4)  (Mg/L)',\n",
    "               'Nitrate Nitrogen, Total (Mg/L As N)', 'Nitrogen, Kjeldahl, Total, (Mg/L As N)',\n",
    "               'Nitrite Plus Nitrate, Total 1 Det. (Mg/L As N)', 'Phosphorus (P), Water, Total Recoverable      Ug/L',\n",
    "               'Phosphorus, Total (Mg/L As P)', 'Phosphorus, Dissolved Orthophosphate (Mg/L As P)',\n",
    "               'Carbon, Dissolved Organic (Mg/L As C)',\n",
    "               'Carbon, Dissolved Inorganic (Mg/L As C)',\n",
    "               'Hardness, Total (Mg/L As Caco3)', 'Calcium (Mg/L As Caco3)',\n",
    "               'Calcium, Dissolved (Mg/L As Ca)',\n",
    "               'Magnesium, Dissolved (Mg/L As Mg)',\n",
    "               'Sodium, Dissolved (Mg/L As Na)',\n",
    "               'Potassium, Dissolved (Mg/L As K)',\n",
    "               'Chloride, Dissolved In Water           Mg/L',\n",
    "               'Sulfate, Dissolved (Mg/L As So4)',\n",
    "               'Fluoride, Dissolved (Mg/L As F)',\n",
    "               'Silica, Dissolved (Mg/L As Si02)',\n",
    "               'Arsenic, Dissolved  (Ug/L As As)', 'Arsenic, Total (Ug/L As As)',\n",
    "               'Barium, Dissolved (Ug/L As Ba)', 'Barium, Total (Ug/L As Ba)',\n",
    "               'Beryllium, Total (Ug/L As Be)', 'Boron, Dissolved (Ug/L As B)',\n",
    "               'Boron, Total (Ug/L As B)', 'Cadmium, Dissolved (Ug/L As Cd)',\n",
    "               'Cadmium, Total (Ug/L As Cd)', 'Chromium, Dissolved (Ug/L As Cr)',\n",
    "               'Chromium, Hexavalent (Ug/L As Cr)', 'Chromium, Total (Ug/L As Cr)',\n",
    "               'Copper, Dissolved (Ug/L As Cu)', 'Copper, Total (Ug/L As Cu)',\n",
    "               'Iron, Dissolved (Ug/L As Fe)', 'Lead, Dissolved (Ug/L As Pb)',\n",
    "               'Lead, Total (Ug/L As Pb)', 'Manganese, Total (Ug/L As Mn)',\n",
    "               'Manganese, Dissolved (Ug/L As Mn)', 'Thallium, Total (Ug/L As Tl)',\n",
    "               'Nickel, Dissolved (Ug/L As Ni)', 'Nickel, Total (Ug/L As Ni)',\n",
    "               'Silver, Dissolved (Ug/L As Ag)', 'Silver, Total (Ug/L As Ag)',\n",
    "               'Zinc, Dissolved (Ug/L As Zn)', 'Zinc, Total (Ug/L As Zn)',\n",
    "               'Antimony, Total (Ug/L As Sb)', 'Aluminum, Total (Ug/L As Al)',\n",
    "               'Selenium, Dissolved (Ug/L As Se)', 'Selenium, Total (Ug/L As Se)',\n",
    "               'Tritium (1H3),Total (Picocuries/Liter)',\n",
    "               'Hardness, Ca Mg Calculated (Mg/L As Caco3)',\n",
    "               'Chlorine, Total Residual (Mg/L)',\n",
    "               'Residue,Total Filtrable (Dried At 180C),Mg/L',\n",
    "               'Nitrate Nitrogen, Dissolved (Mg/L As No3)', 'Iron (Ug/L As Fe)',\n",
    "               'Phosphorus, Total, As Po4 - Mg/L', 'Mercury, Total  (Ug/L As Hg)']\n",
    "STORLegRes = STORLegRes[STORLegRes.Param.isin(STORKeepers)]"
   ]
  },
  {
   "cell_type": "code",
   "execution_count": null,
   "metadata": {
    "collapsed": true
   },
   "outputs": [],
   "source": [
    "def parsplit(x,p):\n",
    "    x = str(x).rstrip().lstrip()\n",
    "    if p == \"Un\":\n",
    "        z = -1\n",
    "        x = str(x).replace(\"Mg/L\", \"mg/l\")\n",
    "        x = str(x).replace(\"Ug/L\", \"ug/l\")\n",
    "        x = str(x).replace(\"o\", \"O\")\n",
    "        x = str(x).replace(\"c\", \"C\")\n",
    "        x = str(x).replace(\"TOtal ReCOverable\",\"Total Recoverable\")        \n",
    "        x = str(x).replace(\"UmhOs\", \"umhos\")\n",
    "        x = str(x).replace(\"TOtal\",\"Total\")\n",
    "    elif p== \"Par\":\n",
    "        z = 0\n",
    "        x = str(x).replace(\", Standard Units\",\"\")\n",
    "        x = str(x).replace(\", Unionized\",\"\")\n",
    "        x = str(x).replace(\", Unionzed\",\"\")\n",
    "        x = str(x).replace(\",Low Level Gran Analysis\",\"\")\n",
    "        x = str(x).replace(\" Ion\",\"\")\n",
    "        x = str(x).replace(\",Total\",\", Total\")\n",
    "        if x == \"Ph\" or x == \"Ph, Lab\":\n",
    "            x = str(x).replace(\"Ph\",\"pH\")\n",
    "    if \"(\" in x:\n",
    "        x = str(x).replace(\" As \", \" as \")\n",
    "        return str(x).split(\" (\")[z].rstrip(\")\").rstrip().lstrip()\n",
    "    else:\n",
    "        return str(x).split(\"  \")[z].rstrip().lstrip()\n",
    "\n",
    "def splitmore(x):\n",
    "    if \"NO3\" in x:\n",
    "        return x\n",
    "    elif \" as \" in x:\n",
    "        return x.split(\" as \")[0]\n",
    "    elif x == \"As S) WhOle     Water, mg/l\" or x == \"Dried At 180C),mg/l\" or x==\"PhOsphOrus, Total, As PO4 - mg/l\":\n",
    "        return \"mg/l\"\n",
    "    elif x == \"P), Water, Total Recoverable      ug/l\":\n",
    "        return \"ug/l\"\n",
    "    else:\n",
    "        return x\n",
    "\n",
    "def unitconv(x):\n",
    "    if x[1]==\"ug/l\":\n",
    "        return x[0]/1000\n",
    "    elif x[1]==\"Degrees Fahrenheit\":\n",
    "        return (float(x[0])-32.0)*(5.0/9.0)\n",
    "    else:\n",
    "        return x[0]"
   ]
  },
  {
   "cell_type": "code",
   "execution_count": null,
   "metadata": {
    "collapsed": false
   },
   "outputs": [],
   "source": [
    "STORLegRes[\"Unit\"] = STORLegRes[\"Param\"].apply(lambda x: parsplit(x,\"Un\"), 1)\n",
    "STORLegRes[\"Param\"] = STORLegRes[\"Param\"].apply(lambda x: parsplit(x,\"Par\"), 1)\n",
    "STORLegRes[\"Unit\"] = STORLegRes[\"Unit\"].apply(lambda x: splitmore(x), 1)\n",
    "STORLegRes[\"ResultValue\"] = STORLegRes[[\"ResultValue\",\"Unit\"]].apply(lambda x: unitconv(x), 1)\n",
    "STORLegRes[\"Unit\"] = STORLegRes[\"Unit\"].apply(lambda x: \"mg/l\" if x==\"ug/l\" else x, 1)\n",
    "STORLegRes[\"Unit\"] = STORLegRes[\"Unit\"].apply(lambda x: \"Degrees Centigrade\" if x==\"Degrees Fahrenheit\" else x, 1)"
   ]
  },
  {
   "cell_type": "code",
   "execution_count": null,
   "metadata": {
    "collapsed": false
   },
   "outputs": [],
   "source": [
    "STORStaField = {\"Agency\":\"OrgId\",\"AgencyName\":\"OrgName\",\"Station\":\"StationId\", \"DepthUnits\":\"DepthUnit\",\n",
    "                \"Latitude\":\"Lat_Y\", \"Longitude\":\"Lon_X\", \"HUC\":\"HUC8\", \"StationDepth\":\"Depth\"}\n",
    "STORLegSta.rename(columns=STORStaField,inplace=True)"
   ]
  },
  {
   "cell_type": "code",
   "execution_count": null,
   "metadata": {
    "collapsed": false
   },
   "outputs": [],
   "source": [
    "STORLegSta.columns"
   ]
  },
  {
   "cell_type": "code",
   "execution_count": null,
   "metadata": {
    "collapsed": false
   },
   "outputs": [],
   "source": [
    "STORLegSta.drop([\"RchmileSegment\", \"MilesUpReach\", \"Rchonoff\", \"Description\", \"G\", \"S\", \"StationAlias\",\n",
    "                 \"Rchname\", \"StateName\", \"CountyName\"], inplace=True, axis=1)"
   ]
  },
  {
   "cell_type": "code",
   "execution_count": null,
   "metadata": {
    "collapsed": false
   },
   "outputs": [],
   "source": [
    "STORLegSta.StationType = STORLegSta.StationType.apply(lambda x: str(x).rstrip(\" \").strip(\"/SUPPLY\").split(\"/\")[-1].title(),1)"
   ]
  },
  {
   "cell_type": "code",
   "execution_count": null,
   "metadata": {
    "collapsed": true
   },
   "outputs": [],
   "source": [
    "LegTypeDict = {\"We\":\"Well\"}\n",
    "STORLegSta.StationType = STORLegSta.StationType.apply(lambda x: LegTypeDict.get(x,x),1)"
   ]
  },
  {
   "cell_type": "code",
   "execution_count": null,
   "metadata": {
    "collapsed": false
   },
   "outputs": [],
   "source": [
    "STORLegSta.StationId = STORLegSta[\"StationId\"].apply(lambda x: \"EPALeg-\" + x, 1)"
   ]
  },
  {
   "cell_type": "markdown",
   "metadata": {},
   "source": [
    "## UGS Data"
   ]
  },
  {
   "cell_type": "code",
   "execution_count": null,
   "metadata": {
    "collapsed": false
   },
   "outputs": [],
   "source": [
    "UGSfield = pd.read_excel(fielddata,\"FieldChem\") #Field data\n",
    "UGSNO3 = pd.read_excel(fielddata,\"Nitrate\") #Nitrate data provided by Millville City"
   ]
  },
  {
   "cell_type": "code",
   "execution_count": null,
   "metadata": {
    "collapsed": false
   },
   "outputs": [],
   "source": [
    "UGS = pd.read_csv(UGSFile, engine=\"python\")\n",
    "UGS[\"StationId\"] = UGS[\"SITE\"].apply(lambda x:\"UGS-\"+str(x).zfill(4),1)"
   ]
  },
  {
   "cell_type": "code",
   "execution_count": null,
   "metadata": {
    "collapsed": true
   },
   "outputs": [],
   "source": [
    "UGSSta = UGS.drop([u'OBJECTID_1',u'SITE', u'TDS', u'Temp', u'Cond', u'CO2', u'HCO3', \n",
    "                  u'CO3',u'Na', u'pH', u'Ca', u'SO4', u'NO3', u'As_', u'Cl', u'K',\n",
    "                  u'Mg', u'Hard', u'NH4'], axis=1)"
   ]
  },
  {
   "cell_type": "code",
   "execution_count": null,
   "metadata": {
    "collapsed": false
   },
   "outputs": [],
   "source": [
    "UGSRe = UGS.drop([u'OBJECTID_1',u'SITE',u'StationType', u'Geology', u'Elev', u'Lat_Y', u'Lon_X', u'StationName', \n",
    "                  u'OrgId', u'WRNUM', u'SITE', u'UTM_X', u'UTM_Y', u'Depth_ft'], axis=1)"
   ]
  },
  {
   "cell_type": "code",
   "execution_count": null,
   "metadata": {
    "collapsed": true
   },
   "outputs": [],
   "source": [
    "UGSRe[\"SampleId\"] = UGSRe.index"
   ]
  },
  {
   "cell_type": "code",
   "execution_count": null,
   "metadata": {
    "collapsed": false
   },
   "outputs": [],
   "source": [
    "UGSRe.reset_index(inplace=True)\n",
    "UGSRe.set_index([\"StationId\",\"SampleId\"], inplace=True)"
   ]
  },
  {
   "cell_type": "code",
   "execution_count": null,
   "metadata": {
    "collapsed": false
   },
   "outputs": [],
   "source": [
    "UGSRe.drop(UGSRe.columns[0],inplace=True,axis=1)"
   ]
  },
  {
   "cell_type": "code",
   "execution_count": null,
   "metadata": {
    "collapsed": false
   },
   "outputs": [],
   "source": [
    "UGSStack = UGSRe.stack().to_frame()\n",
    "UGSStack.columns = [\"ResultValue\"]"
   ]
  },
  {
   "cell_type": "code",
   "execution_count": null,
   "metadata": {
    "collapsed": true
   },
   "outputs": [],
   "source": [
    "UGSStack.reset_index(inplace=True)"
   ]
  },
  {
   "cell_type": "code",
   "execution_count": null,
   "metadata": {
    "collapsed": false
   },
   "outputs": [],
   "source": [
    "UGSStack.columns=[\"StationId\",\"SampleId\",\"Param\",\"ResultValue\"]"
   ]
  },
  {
   "cell_type": "code",
   "execution_count": null,
   "metadata": {
    "collapsed": false
   },
   "outputs": [],
   "source": [
    "def unitcon(x):\n",
    "    if x==\"pH\":\n",
    "        return \"\"\n",
    "    elif x==\"Temp\":\n",
    "        return \"C\"\n",
    "    elif x==\"Cond\":\n",
    "        return \"uS/cm\"\n",
    "    else:\n",
    "        return \"mg/l\"\n",
    "    \n",
    "UGSStack[\"Unit\"] = UGSStack[\"Param\"].apply(lambda x: unitcon(x),1)\n",
    "UGSStack[\"ParAbb\"] = UGSStack[\"Param\"]\n",
    "UGSStack[\"OrgId\"] = \"UGS\"\n",
    "UGSStack[\"OrgName\"] = \"Utah Geological Survey\"\n",
    "UGSStack[\"ResultValue\"] = UGSStack[['Param','ResultValue']].apply(lambda x: x[1]*1.288 if x[0]=='Ammonia as N' else x[1],1)\n",
    "UGSStack[\"Param\"] = UGSStack['Param'].apply(lambda x: 'Ammonia' if x=='Ammonia as N' else x, 1)\n",
    "UGSStack[\"ResultValue\"] = UGSStack[['Param','ResultValue']].apply(lambda x: x[1]*3.066 if x[0]=='Phosphate, Tot. Dig. (as P)' else x[1],1)\n",
    "UGSStack[\"Param\"] = UGSStack['Param'].apply(lambda x: 'Phosphate' if x=='Phosphate, Tot. Dig. (as P)' else x, 1)"
   ]
  },
  {
   "cell_type": "markdown",
   "metadata": {},
   "source": [
    "## State Lab"
   ]
  },
  {
   "cell_type": "markdown",
   "metadata": {},
   "source": [
    "These are raw data results sent to the UGS via Tab-delimited tables from the Utah State Health Laboratory.  They make up the bulk of results of data collected for this study. They are supplimented with field data translated to spreadsheets."
   ]
  },
  {
   "cell_type": "code",
   "execution_count": null,
   "metadata": {
    "collapsed": false
   },
   "outputs": [],
   "source": [
    "SLSampMatch = pd.read_excel(fielddata,\"StateLabMatch\")\n",
    "SLStat = pd.read_excel(fielddata,\"Stations\")\n",
    "#SLStat = pd.merge(SLSampMatch, SLStations, on='StationId', how='outer')\n",
    "#SLStat.reset_index(inplace=True)"
   ]
  },
  {
   "cell_type": "code",
   "execution_count": null,
   "metadata": {
    "collapsed": false
   },
   "outputs": [],
   "source": [
    "SLStat"
   ]
  },
  {
   "cell_type": "code",
   "execution_count": null,
   "metadata": {
    "collapsed": false
   },
   "outputs": [],
   "source": [
    "SL0 = pd.read_table(statelabresults0, sep=\"\\t\", lineterminator=\"\\n\", error_bad_lines=False)\n",
    "SL0 = SL0[SL0['Collector']=='PI']\n",
    "SL1 = pd.read_table(statelabresults1, sep=\"\\t\", lineterminator=\"\\n\", error_bad_lines=False)\n",
    "SL1 = SL1[SL1['Collector']=='PI']\n",
    "SL2 = pd.read_table(statelabresults2, sep=\"\\t\", lineterminator=\"\\n\", error_bad_lines=False)\n",
    "SL2 = SL2[SL2['Collector']=='PI']"
   ]
  },
  {
   "cell_type": "code",
   "execution_count": null,
   "metadata": {
    "collapsed": true
   },
   "outputs": [],
   "source": [
    "SL = pd.concat([SL0,SL1,SL2])"
   ]
  },
  {
   "cell_type": "code",
   "execution_count": null,
   "metadata": {
    "collapsed": false
   },
   "outputs": [],
   "source": [
    "SL[\"OrgId\"] = \"UGS\"\n",
    "SL[\"OrgName\"] = \"Utah Geological Survey\"\n",
    "SL['DetectCond'] = SL['Problem#Identifier'].apply(lambda x: 'Not Detected' if str(x).rstrip()=='<' else np.nan,1)\n",
    "SL['SampleDate'] = SL[['Sample#Date','Sample#Time']].apply(lambda x: datetimefix(x,\"%m/%d/%y %H:%M\"),1)\n",
    "\n",
    "SLHead = {'Sample#Number':'SampleId', 'Param#Description':'Param', 'Result#Value':'ResultValue','Units':'Unit', \n",
    "          'Lower#Report#Limit':'MDL','Method#ID':'SampMeth','Analysis#Date':'AnalysisDate'}\n",
    "SL.rename(columns=SLHead,inplace=True)"
   ]
  },
  {
   "cell_type": "code",
   "execution_count": null,
   "metadata": {
    "collapsed": false
   },
   "outputs": [],
   "source": [
    "SL['Sample#Description'].unique()"
   ]
  },
  {
   "cell_type": "code",
   "execution_count": null,
   "metadata": {
    "collapsed": false
   },
   "outputs": [],
   "source": [
    "SL.drop([u'Lab#Code', u'Station#ID', u'Source#Code', u'Sample#Date',\n",
    "       u'Sample#Time', u'Sample#Type', u'Cost#Code', u'Billing#Code',\n",
    "       u'Agency#Bill#Code', u'Trip#ID', u'Sample#Description', u'Collector',\n",
    "       u'Sample#Recieved#Date', u'Chain#of#Custody#Ind.', u'Replicate#Number',\n",
    "       u'Sample#Comment', u'Method#Number', u'Method#Agency',\n",
    "       u'Method#Description', u'Param#Number', u'CAS#Number',\n",
    "       u'Matrix#Number', u'Matrix#Description', u'Preparation#Date',\n",
    "       u'Problem#Identifier', u'Result#Code', \n",
    "       u'Upper#Quant#Limit', u'Method#Detect#Limit',\n",
    "       u'Confidence#Limit', u'%#Confidence#Limit',u'Dilution#Factor',\n",
    "       u'Batch#Number',u'Comment#Number', u'Comment#Text'], inplace=True, axis=1)"
   ]
  },
  {
   "cell_type": "code",
   "execution_count": null,
   "metadata": {
    "collapsed": false
   },
   "outputs": [],
   "source": [
    "SL.columns"
   ]
  },
  {
   "cell_type": "code",
   "execution_count": null,
   "metadata": {
    "collapsed": false
   },
   "outputs": [],
   "source": [
    "SLRes = pd.merge(SL, SLSampMatch, on='SampleId', how='left')"
   ]
  },
  {
   "cell_type": "code",
   "execution_count": null,
   "metadata": {
    "collapsed": false
   },
   "outputs": [],
   "source": [
    "SLStat.drop_duplicates(inplace=True)"
   ]
  },
  {
   "cell_type": "code",
   "execution_count": null,
   "metadata": {
    "collapsed": false
   },
   "outputs": [],
   "source": [
    "def SLparnorm(x):\n",
    "    p = str(x[0]).rstrip().lstrip().lower()\n",
    "    u = str(x[2]).rstrip().lstrip().lower()\n",
    "    if p == 'nitrate nitrogen, total (mg/l as n)':\n",
    "        return 'Nitrate', x[1]*4.427, 'mg/l'\n",
    "    elif p == 'nitrite nitrogen, total (mg/l as n)':\n",
    "        return 'Nitrite', x[1]*3.285, 'mg/l'\n",
    "    elif p == 'ammonia as n':\n",
    "        return 'Ammonium', x[1]*1.288, 'mg/l'\n",
    "    elif p == 'sulfate (as s) whole     water, mg/L':\n",
    "        return 'Sulfate', x[1]*2.996, 'mg/l'\n",
    "    elif p in ('phosphate, tot. dig. (as p)', 'phosphate-phosphorus as p','orthophosphate as p'):\n",
    "        return 'Phosphate', x[1]*3.066, 'mg/l'\n",
    "    elif u == 'ug/l':\n",
    "        return x[0], x[1]/1000, 'mg/l'\n",
    "    else:\n",
    "        return x[0], x[1], str(x[2]).rstrip()\n",
    "\n",
    "def MDLfix(x):\n",
    "    u = str(x[1]).rstrip().lstrip().lower()\n",
    "    if np.isfinite(x[2]):\n",
    "        return x[0]\n",
    "    elif u=='ug/l':\n",
    "        return x[0]/1000\n",
    "    else:\n",
    "        return x[0]\n",
    "\n",
    "SLRes['MDL'] = SLRes[['MDL','Unit','ResultValue']].apply(lambda x: MDLfix(x),1)\n",
    "SLRes['Param'], SLRes['ResultValue'], SLRes['Unit'] = zip(*SLRes[['Param','ResultValue','Unit']].apply(lambda x: parnorm(x),1))"
   ]
  },
  {
   "cell_type": "code",
   "execution_count": null,
   "metadata": {
    "collapsed": false
   },
   "outputs": [],
   "source": [
    "SLRes.StationId.unique()"
   ]
  },
  {
   "cell_type": "markdown",
   "metadata": {},
   "source": [
    "# Combine Data"
   ]
  },
  {
   "cell_type": "code",
   "execution_count": null,
   "metadata": {
    "collapsed": false
   },
   "outputs": [],
   "source": [
    "Res = pd.concat([STORLegRes,AGRes,SDWISRes,WQP,UGSStack,SLRes,UGSfield,UGSNO3])"
   ]
  },
  {
   "cell_type": "code",
   "execution_count": null,
   "metadata": {
    "collapsed": false
   },
   "outputs": [],
   "source": [
    "Res = Res[~Res[\"Unit\"].isin(['ueq/L','Ueq/L','ueq/l','tons/ac ft','tons/day','meq/L'])]\n",
    "Res = Res[~Res[\"Param\"].isin([\"Heptachlorobiphenyl\", \"Hydrocarbons\", \"Hydroxide\", \"Ionic strength\",\n",
    "                              \"Floating debris, severity\", \"Carbon Tetrachloride\", \"Trichlorobiphenyl\",\n",
    "                              \"Vinyl Chloride\", \"True color\", \"Color\", \"Trash, Debris, Floatables\",\n",
    "                              \"Total volatile solids\", \"Temperature, air\", \"Residue, Total Filtrable\",\n",
    "                              \"Pentachlorobiphenyl\", \"Odor threshold number\", \"Odor, atmospheric\",\n",
    "                              \"Instream features, est. stream width\", \"Hydroxide\", \n",
    "                              \"Light, transmissivity\",\"Algae, floating mats (severity)\"])]\n",
    "len(Res)"
   ]
  },
  {
   "cell_type": "code",
   "execution_count": null,
   "metadata": {
    "collapsed": false
   },
   "outputs": [],
   "source": [
    "Res[[\"Param\",\"Unit\",\"USGSPCode\"]].drop_duplicates(subset=[\"Param\",\"Unit\"]).sort_values(by=[\"Param\"]).to_clipboard()"
   ]
  },
  {
   "cell_type": "code",
   "execution_count": null,
   "metadata": {
    "collapsed": true
   },
   "outputs": [],
   "source": [
    "Stat = pd.concat([STORLegSta, AGStat, SDWISSta, WQPStat, SLStat, UGSSta])"
   ]
  },
  {
   "cell_type": "code",
   "execution_count": null,
   "metadata": {
    "collapsed": false
   },
   "outputs": [],
   "source": [
    "parmatch = pd.read_excel(rootname + \"Aquachem.xlsx\")"
   ]
  },
  {
   "cell_type": "code",
   "execution_count": null,
   "metadata": {
    "collapsed": false
   },
   "outputs": [],
   "source": [
    "parmatchdict = dict(zip(parmatch.Param.values, parmatch.ParrAbb.values))\n",
    "Res[\"ParAbb\"] = Res[[\"ParAbb\",\"Param\"]].apply(lambda x: parmatchdict.get(x[1],x[0]),1)"
   ]
  },
  {
   "cell_type": "code",
   "execution_count": null,
   "metadata": {
    "collapsed": false
   },
   "outputs": [],
   "source": [
    "results = Res.dropna(subset=[\"StationId\",\"Param\",\"SampleId\"], how=\"any\")"
   ]
  },
  {
   "cell_type": "code",
   "execution_count": null,
   "metadata": {
    "collapsed": true
   },
   "outputs": [],
   "source": [
    "Stat.loc[:,\"StationName\"] = Stat[\"StationName\"].apply(lambda x: str(x).strip().lstrip().rstrip(),1)\n",
    "Stat.loc[:,\"StationId\"] = Stat[\"StationId\"].apply(lambda x: str(x).strip().lstrip().rstrip(),1)\n",
    "Res.loc[:,\"StationId\"] = Res[\"StationId\"].apply(lambda x: str(x).strip().lstrip().rstrip(),1)"
   ]
  },
  {
   "cell_type": "code",
   "execution_count": null,
   "metadata": {
    "collapsed": false
   },
   "outputs": [],
   "source": [
    "results.loc[:,\"Unit\"] = results[[\"ParAbb\",\"Unit\"]].apply(lambda x: \"C\" if x[0]==\"Temp\" else x[1],1)\n",
    "results.loc[:,\"Unit\"] = results[[\"ParAbb\",\"Unit\"]].apply(lambda x: \"umhos/cm\" if x[0]==\"Cond\" else x[1],1)\n",
    "results.loc[:,\"Unit\"] = results[[\"ParAbb\",\"Unit\"]].apply(lambda x: \"\" if x[0]==\"pH\" else x[1],1)"
   ]
  },
  {
   "cell_type": "code",
   "execution_count": null,
   "metadata": {
    "collapsed": false
   },
   "outputs": [],
   "source": [
    "results.drop([\"AnalysisDate\",\"AnalytMeth\",\"SampType\",\"AnalytMethId\", \"BelowLim\", \"StationName\",\n",
    "              \"MethodDescript\", \"LabComments\", \"LabName\", \"LimitType\", \"ProjectId\", \"QualCode\",\n",
    "              \"OrgName\",\"R\", \"ResultComment\",\"ResultStatus\",\"SampComment\", \"SampEquip\", \n",
    "              \"SampDepthRef\", \"SampDepthU\",\"SampDepth\",\"SampType\", \"USGSPCode\",\n",
    "              \"SampMeth\", \"SampMethName\",\"SampYear\",\"TestNo\"],inplace=True,axis=1)"
   ]
  },
  {
   "cell_type": "markdown",
   "metadata": {},
   "source": [
    "## Clean Up Non Detects"
   ]
  },
  {
   "cell_type": "code",
   "execution_count": null,
   "metadata": {
    "collapsed": false
   },
   "outputs": [],
   "source": [
    "NDs = {'Not Detected':'<', 'Present Above Quantification Limit':'<', 'ND             ':'<', '*Present >QL   ':'>',\n",
    "       'Present Below Quantification Limit':'<', '*Non-detect    ':'<', 'Detected Not Quantified':'<', \n",
    "       'Systematic Contamination':'<'}\n",
    "results.DetectCond = results.DetectCond.apply(lambda x: NDs.get(x,np.nan),1)"
   ]
  },
  {
   "cell_type": "code",
   "execution_count": null,
   "metadata": {
    "collapsed": false
   },
   "outputs": [],
   "source": [
    "def is_nan(x): \n",
    "    '''\n",
    "    this function identifies nan values\n",
    "    Source: http://stackoverflow.com/questions/944700/how-to-check-for-nan-in-python\n",
    "    '''\n",
    "    try: \n",
    "        return math.isnan(x) \n",
    "    except: \n",
    "        return False \n",
    "\n",
    "def detected(x):\n",
    "    '''\n",
    "    Finds nondetects and fixes units and values\n",
    "    '''\n",
    "    if x[1]=='<' and np.isfinite(x[0]):\n",
    "        return x[1]+str(x[0])       \n",
    "    elif x[1]=='<' and np.isfinite(x[2]):\n",
    "        if str(x[3]).rstrip().lower() == 'ug/l':\n",
    "            return x[1]+str(x[2]/1000)\n",
    "        else:\n",
    "            return x[1]+str(x[2])\n",
    "    else:\n",
    "        return x[0]\n",
    "\n",
    "results.ResultValue = results[['ResultValue','DetectCond','MDL','MDLUnit']].apply(lambda x: detected(x),1)"
   ]
  },
  {
   "cell_type": "code",
   "execution_count": null,
   "metadata": {
    "collapsed": false
   },
   "outputs": [],
   "source": [
    "def MDLfill(x):\n",
    "    if x[0] <= 0 and x[1]>0:\n",
    "        return 0\n",
    "    elif x[2] == '<':\n",
    "        return 0\n",
    "    elif x[0] < x[1]:\n",
    "        return 0\n",
    "    else:\n",
    "        return 1\n",
    "results.loc[:,'ResValue'] = pd.to_numeric(results['ResultValue'], errors='coerce')    \n",
    "results.loc[:,'Censored'] = results[['ResValue','MDL','DetectCond']].apply(lambda x: MDLfill(x),1)"
   ]
  },
  {
   "cell_type": "code",
   "execution_count": null,
   "metadata": {
    "collapsed": false
   },
   "outputs": [],
   "source": [
    "matchDict = {'414143111495501':'USGS-414143111495501','414115111490301':'USGS-414115111490301',\n",
    "             'SDWIS3117.0WS004':'USGS-414115111490301', \n",
    "             'EPALeg-0301203':'414029111483501','SDWIS3116.0WS003':'414029111483501',\n",
    "             'EPALeg-0301201':'USGS-414024111481101','SDWIS5435.0WS001':'USGS-414024111481101',\n",
    "             '414024111481101':'USGS-414024111481101','EPALeg-0300101':'SDWIS5411.0WS001',\n",
    "             'EPALeg-0300102':'SDWIS5412.0WS002', 'EPALeg-0300103':'SDWIS5413.0WS003', \n",
    "             'UGS-107.5':'SDWIS3143.0WS001','UDAF-01492':'UGS-0412', 'UDAF-03165':'UGS-106.5',\n",
    "             'SDWIS3126.0WS002':'USGS-414216111485201', 'EPALeg-0301702':'USGS-414216111485201',\n",
    "             'EPALeg-0301901':'USGS-414328111493001', 'SDWIS3131.0WS001':'USGS-414328111493001', \n",
    "             'EPALeg-0301005':'SDWIS3112.0WS005', 'EPALeg-0301002':'USGS-414417111484301', \n",
    "             'SDWIS3109.0WS002':'USGS-414417111484301', 'SDWIS3113.0WS006':'USGS-414459111493601', \n",
    "             'SDWIS3127.0WS003':'414213111493101', 'SDWIS3159.0WS003':'SDWIS3157.0WS001','UDAF-01500':'UGS-63.5',\n",
    "             'SDWIS3111.0WS004':'USGS-414441111490701', 'EPALeg-0301904':'SDWIS3133.0WS004',\n",
    "            'EPALeg-0301004':'USGS-414441111490701','EPALeg-0301502':'SDWIS3118.0WS002',\n",
    "             'UDAF-01589':'UDAF-01568','UDAF-01586':'UDAF-01566','UGS-0050':'UDAF-01566',\n",
    "            'EPALeg-0300104':'SDWIS3088.0WS004', 'UDAF-01585':'UGS-0032', 'UDAF-01565':'UGS-0032',\n",
    "            'EPALeg-0300201':'SDWIS3091.0WS001', 'EPALeg-0300204':'SDWIS3094.0WS004',\n",
    "            'EPALeg-0301803':'SDWIS3129.0WS003','EPALeg-0300405':'SDWIS5418.0WS005',\n",
    "            'EPALeg-0300404':'SDWIS5417.0WS004', 'EPALeg-0300403':'SDWIS5416.0WS003',\n",
    "            'SDWIS5439.0WS003':'SDWIS5416.0WS003', 'SDWIS5460.0WS003':'SDWIS5416.0WS003',\n",
    "            'SDWIS5414.0WS001':'SDWIS5458.0WS001', 'SDWIS5437.0WS001':'SDWIS5458.0WS001',\n",
    "            'EPALeg-0308601':'USGS-415828111460001', 'SDWIS5487.0WS001':'USGS-415828111460001',\n",
    "            'SDWIS5430.0WS002':'USGS-415828111460001', 'SDWIS5423.0WS003':'USGS-415828111460001',\n",
    "            'SDWIS5421.0WS001':'USGS-415836111464701', 'EPALeg-0304901':'SDWIS5479.0WS001', \n",
    "            'EPALeg-0303201':'SDWIS5470.0WS001', 'SDWIS5432.0WS001':'USGS-414535111423001',\n",
    "            'EPALeg-0303001':'SDWIS5469.0WS001','EPALeg-0307701':'SDWIS5485.0WS001',\n",
    "            'EPALeg-0308301':'SDWIS5486.0WS001', 'EPALeg-0301501':'SDWIS5445.0WS001',\n",
    "            'EPALeg-0300701':'USGS-415120111440001', 'SDWIS5424.0WS001':'USGS-415120111440001',\n",
    "            'EPALeg-0302001':'SDWIS5455.0WS001', 'EPALeg-0301101':'SDWIS5433.0WS001', \n",
    "            'EPALeg-0301102':'SDWIS5434.0WS002'}\n",
    "\n",
    "\n",
    "Stat.loc[:,'StationId'] = Stat['StationId'].apply(lambda x: matchDict.get(x,x),1)\n",
    "results.loc[:,'StationId'] = results['StationId'].apply(lambda x: matchDict.get(x,x),1)             \n",
    "results.loc[:,'SampleDate'] = pd.to_datetime(results.SampleDate)"
   ]
  },
  {
   "cell_type": "code",
   "execution_count": null,
   "metadata": {
    "collapsed": false
   },
   "outputs": [],
   "source": [
    "def depthFill(x):\n",
    "    if x > 0:\n",
    "        return x\n",
    "    \n",
    "def depthUnitFill(x):\n",
    "    if x > 0:\n",
    "        return 'ft'\n",
    "\n",
    "Stat.Depth = Stat['Depth_ft'].apply(lambda x: depthFill(x),1)\n",
    "Stat.DepthUnit = Stat['Depth_ft'].apply(lambda x: depthUnitFill(x),1)"
   ]
  },
  {
   "cell_type": "code",
   "execution_count": null,
   "metadata": {
    "collapsed": true
   },
   "outputs": [],
   "source": [
    "WINdict = {'SDWIS3180.0WS001':435116, 'UGS-47.5':32700, 'UDAF-01566':30211, 'UGS-46.5':12420, \n",
    "           'USGS-414525111503705':427268, 'UDAF-01569':28327, 'SDWIS3112.0WS005':2694,\n",
    "           'UDAF-03162':434818, 'USGS-414328111493001':2823, 'USGS-414332111491001':2836,\n",
    "           'SDWIS3133.0WS004':2848, 'UGS-91.5':28647, 'UGS-95.5':35814, 'SDWIS3128.0WS004':18590,\n",
    "           'UGS-0102':426853, 'USGS-414115111490301':2722, 'UT4140521114843201':32975, '414029111483501':2721,\n",
    "           'SDWIS3088.0WS004':2741,'UGS-63.5':7126, 'UGS-0084':9639, 'USGS-414134111544701':434098, 'UGS-0070':35061,\n",
    "           'UGS-0029':32851,'UGS-0030':26663,'UGS-0034':29110, 'UGS-0055':3728, 'UGS-61.5':9280, \n",
    "           'SDWIS3129.0WS003':2816, 'UGS-0043':29329, 'UGS-0889':24493, 'UGS-44.5':28333}\n",
    " \n",
    "Stat.WIN = Stat['StationId'].apply(lambda x: WINdict.get(x,x),1)"
   ]
  },
  {
   "cell_type": "code",
   "execution_count": null,
   "metadata": {
    "collapsed": false
   },
   "outputs": [],
   "source": [
    "results.SampleID = results.SampleId.apply(lambda x: str(x).replace(' ',''),1)\n",
    "results.StationId = results.StationId.apply(lambda x: str(x).replace(' ',''),1)\n",
    "Stat.StationId = Stat.StationId.apply(lambda x: str(x).replace(' ',''),1)"
   ]
  },
  {
   "cell_type": "code",
   "execution_count": null,
   "metadata": {
    "collapsed": false
   },
   "outputs": [],
   "source": [
    "results.drop_duplicates(subset = ['SampleId','ParAbb'],inplace=True)\n",
    "Stat.drop_duplicates(subset = ['StationId'],inplace=True)"
   ]
  },
  {
   "cell_type": "code",
   "execution_count": null,
   "metadata": {
    "collapsed": false
   },
   "outputs": [],
   "source": [
    "resultsNoND = results[(~results['DetectCond'].isin(['<','>']))]"
   ]
  },
  {
   "cell_type": "markdown",
   "metadata": {
    "collapsed": true
   },
   "source": [
    "# Pivot Data"
   ]
  },
  {
   "cell_type": "code",
   "execution_count": null,
   "metadata": {
    "collapsed": false
   },
   "outputs": [],
   "source": [
    "datap = resultsNoND.pivot(index='SampleId', columns='ParAbb', values='ResValue')"
   ]
  },
  {
   "cell_type": "code",
   "execution_count": null,
   "metadata": {
    "collapsed": false
   },
   "outputs": [],
   "source": [
    "datap.dropna(subset=['SO4','Cond','Temp','TDS','pH_field'],how='all',inplace=True)\n",
    "datap.drop(datap.columns[[0]], axis=1, inplace=True)"
   ]
  },
  {
   "cell_type": "code",
   "execution_count": null,
   "metadata": {
    "collapsed": false
   },
   "outputs": [],
   "source": [
    "results.columns"
   ]
  },
  {
   "cell_type": "code",
   "execution_count": null,
   "metadata": {
    "collapsed": false
   },
   "outputs": [],
   "source": [
    "resdrop = [ 'DetectCond', u'Comment#Number.1',   u'Comment#Text.1', 'ResultValue', 'ResValue',\n",
    "             'MDL', 'MDLUnit', 'OrgId', 'Param', 'ResultValue', 'SampFrac',\n",
    "             'SampMedia', 'Unit', 'ParAbb']\n",
    "resPivot = results.drop(resdrop, axis=1)"
   ]
  },
  {
   "cell_type": "code",
   "execution_count": null,
   "metadata": {
    "collapsed": true
   },
   "outputs": [],
   "source": [
    "datapiv = pd.merge(datap, resPivot, left_index=True, right_on='SampleId',how='left')\n",
    "datapiv.drop_duplicates(subset=['SampleId'],inplace=True)"
   ]
  },
  {
   "cell_type": "markdown",
   "metadata": {},
   "source": [
    "# Add GIS Information"
   ]
  },
  {
   "cell_type": "code",
   "execution_count": null,
   "metadata": {
    "collapsed": false
   },
   "outputs": [],
   "source": [
    "def projy(x):\n",
    "    inProj = Proj(init='epsg:4326') #WGS84\n",
    "    outProj = Proj(init='epsg:2152') #NAD83(CSRS98) / UTM zone 12N\n",
    "    x2,y2 = transform(inProj,outProj,x[0],x[1])\n",
    "    return y2\n",
    "\n",
    "def projx(x):\n",
    "    inProj = Proj(init='epsg:4326') #WGS84\n",
    "    outProj = Proj(init='epsg:2152') #NAD83(CSRS98) / UTM zone 12N\n",
    "    x2,y2 = transform(inProj,outProj,x[0],x[1])\n",
    "    return x2\n",
    "\n",
    "def getelev(x):\n",
    "    elev = \"http://ned.usgs.gov/epqs/pqs.php?x=\"+str(x[0])+\"&y=\"+str(x[1])+\"&units=Meters&output=xml\"\n",
    "    response = urllib2.urlopen(elev)\n",
    "    html = response.read()\n",
    "    d = xmltodict.parse(html)\n",
    "    return float(d['USGS_Elevation_Point_Query_Service']['Elevation_Query']['Elevation'])\n",
    "\n",
    "Stat.loc[:,'UTM_X'] = Stat[['Lon_X','Lat_Y']].apply(lambda x: projx(x),1)\n",
    "Stat.loc[:,'UTM_Y'] = Stat[['Lon_X','Lat_Y']].apply(lambda x: projy(x),1)\n",
    "Stat.loc[:,'Elev'] = Stat[['Lon_X','Lat_Y']].apply(lambda x: getelev(x),1)"
   ]
  },
  {
   "cell_type": "code",
   "execution_count": null,
   "metadata": {
    "collapsed": false
   },
   "outputs": [],
   "source": [
    "pivStats = Stat.drop(['Aquifer', 'ConstDate', 'Depth', 'DepthUnit','AquiferType', 'HorCollMeth', 'Geology',\n",
    "                         'HoleDUnit', 'HoleDepth', 'HUC8', 'HorAccUnit', 'HoleDUnit', 'SCREENDEPT',\n",
    "                         'ElevUnit', 'ElevRef', 'ElevAcc', 'ElevMeth','CountyCode', 'ElevAccUnit',\n",
    "                         'HorAcc', 'StateCode', 'HorRef',\n",
    "                         'OrgId', 'StationComment'], axis=1)"
   ]
  },
  {
   "cell_type": "code",
   "execution_count": null,
   "metadata": {
    "collapsed": true
   },
   "outputs": [],
   "source": [
    "pivStats.reset_index(inplace=True)\n",
    "pivStats.set_index(\"StationId\",inplace=True)"
   ]
  },
  {
   "cell_type": "code",
   "execution_count": null,
   "metadata": {
    "collapsed": false
   },
   "outputs": [],
   "source": [
    "pivdata = pd.merge(datapiv, pivStats, left_on=\"StationId\", right_index=True, how='left')"
   ]
  },
  {
   "cell_type": "code",
   "execution_count": null,
   "metadata": {
    "collapsed": false
   },
   "outputs": [],
   "source": [
    "pivdata.drop_duplicates(subset=['SampleId'],inplace=True)"
   ]
  },
  {
   "cell_type": "markdown",
   "metadata": {},
   "source": [
    "# Convert and Balance Samples"
   ]
  },
  {
   "cell_type": "code",
   "execution_count": null,
   "metadata": {
    "collapsed": false
   },
   "outputs": [],
   "source": [
    "alkmatch = pivdata[(pivdata['Meas_Alk']>0)&(pivdata['HCO3']>0)]\n",
    "\n",
    "x = [np.float64(i) for i in alkmatch['Meas_Alk'].values]\n",
    "y = [np.float64(i) for i in alkmatch['HCO3'].values]\n",
    "\n",
    "X = sm.add_constant(x)\n",
    "res = sm.RLM(y,X).fit()\n",
    "b = res.params[0]\n",
    "m = res.params[1]\n",
    "print m\n",
    "print b\n",
    "\n",
    "plt.figure()\n",
    "plt.scatter(x,y)\n",
    "plt.plot(x, res.fittedvalues, color='red')"
   ]
  },
  {
   "cell_type": "code",
   "execution_count": null,
   "metadata": {
    "collapsed": true
   },
   "outputs": [],
   "source": [
    "def HCO3fix(x):\n",
    "    if x[0]>0:\n",
    "        return x[0]\n",
    "    elif x[1]>0:\n",
    "        return x[1]*m+b\n",
    "    else:\n",
    "        pass\n",
    "\n",
    "pivdata['HCO3'] = pivdata[['HCO3','Meas_Alk']].apply(lambda x: HCO3fix(x),1)"
   ]
  },
  {
   "cell_type": "code",
   "execution_count": null,
   "metadata": {
    "collapsed": false
   },
   "outputs": [],
   "source": [
    "parlist = ['Ca','Mg','Na','K','Cl','HCO3','CO3','SO4','NO3','NO2','CO2','TDS','Si','Zn_tot','As_tot']\n",
    "\n",
    "def removeInf(x):\n",
    "    if x <= 0:\n",
    "        return np.nan\n",
    "    else:\n",
    "        return np.log(x)\n",
    "\n",
    "for i in parlist:\n",
    "    if i in pivdata.columns:\n",
    "        pivdata[i+'Ln'] = pivdata[i].apply(lambda x: removeInf(x),1)\n",
    "\n",
    "d = {'Ca':0.04990269, 'Mg':0.082287595, 'Na':0.043497608, 'K':0.02557656, 'Cl':0.028206596, 'HCO3':0.016388838, 'CO3':0.033328223, 'SO4':0.020833333, 'NO2':0.021736513, 'NO3':0.016129032}\n",
    "chemlist = ['Ca','Mg','Na','K','Cl','HCO3','CO3','SO4','NO3','NO2']\n",
    "\n",
    "for i in chemlist:\n",
    "    if i in pivdata.columns:\n",
    "        pivdata[i+'Meq'] = pivdata.loc[:,i] * d[i]\n",
    "\n",
    "pivdata.drop_duplicates(subset = ['StationId','SampleDate'], inplace=True)"
   ]
  },
  {
   "cell_type": "code",
   "execution_count": null,
   "metadata": {
    "collapsed": false
   },
   "outputs": [],
   "source": [
    "def sumIons(x):\n",
    "    b = 0\n",
    "    for i in x:\n",
    "        if i>0:\n",
    "            b = i + b\n",
    "        else:\n",
    "            b = b\n",
    "    return b\n",
    "\n",
    "pivdata['Anions'] = pivdata[['ClMeq','HCO3Meq','SO4Meq','CO3Meq']].apply(lambda x: sumIons(x),1)\n",
    "pivdata['Cations'] = pivdata[['KMeq','MgMeq','NaMeq','CaMeq']].apply(lambda x: sumIons(x),1)\n",
    "pivdata['EC'] = pivdata['Anions'] - pivdata['Cations'] \n",
    "pivdata['CBE'] = ((pivdata['Cations']-np.abs(pivdata['Anions']))/(pivdata['Cations']+np.abs(pivdata['Anions'])))*100"
   ]
  },
  {
   "cell_type": "markdown",
   "metadata": {},
   "source": [
    "# Subset Data"
   ]
  },
  {
   "cell_type": "code",
   "execution_count": null,
   "metadata": {
    "collapsed": false
   },
   "outputs": [],
   "source": [
    "#piperdata = pivdata.dropna(subset = ['Ca','Na','Cl','Mg','SO4','HCO3'], how='any')\n",
    "#piperdata.drop_duplicates(subset=['SampleId'], inplace=True)"
   ]
  },
  {
   "cell_type": "code",
   "execution_count": null,
   "metadata": {
    "collapsed": false
   },
   "outputs": [],
   "source": [
    "print(len(pivdata))"
   ]
  },
  {
   "cell_type": "code",
   "execution_count": null,
   "metadata": {
    "collapsed": false
   },
   "outputs": [],
   "source": [
    "pivgrps = pivdata.groupby(['StationId']).median()\n",
    "pivGoodData = pivdata[abs(pivdata.CBE)<=5]\n",
    "pipergrps = pivGoodData.groupby(['StationId']).median()\n",
    "pipergrps['sampCount'] = pivGoodData.groupby(['StationId'])['CBE'].agg({'cnt':(lambda x: np.count_nonzero(~np.isnan(x)))}).reset_index#squeeze=True"
   ]
  },
  {
   "cell_type": "code",
   "execution_count": null,
   "metadata": {
    "collapsed": false
   },
   "outputs": [],
   "source": [
    "pivgrp = pd.merge(pivgrps, pivStats, left_index=True, right_index=True, how='left')\n",
    "pipergrp = pd.merge(pipergrps, pivStats, left_index=True, right_index=True, how='left')\n",
    "pipergrp.drop_duplicates(inplace=True)\n",
    "pivgrp = pivgrp.reset_index().drop_duplicates(subset=['StationId']).set_index('StationId')"
   ]
  },
  {
   "cell_type": "code",
   "execution_count": null,
   "metadata": {
    "collapsed": false
   },
   "outputs": [],
   "source": [
    "princpiv = pivGoodData[(pivGoodData.SampleDate < datetime.datetime(2014,3,10))&(pivGoodData.UTM_X < 435000) & (pivGoodData.UTM_X > 422000) \\\n",
    "                   & (pivGoodData.UTM_Y > 4608000) & (pivGoodData.UTM_Y < 4634000) & (pivGoodData.StationType=='Well')]\n",
    "princpiv.drop_duplicates(subset = ['SampleId'],inplace=True)"
   ]
  },
  {
   "cell_type": "code",
   "execution_count": null,
   "metadata": {
    "collapsed": false
   },
   "outputs": [],
   "source": [
    "ResOldPrinc = resultsNoND[(resultsNoND.SampleId.isin(princpiv.SampleId))]"
   ]
  },
  {
   "cell_type": "code",
   "execution_count": null,
   "metadata": {
    "collapsed": true
   },
   "outputs": [],
   "source": [
    "GWStat = Stat[Stat.StationType.isin(['Well','Spring'])]\n",
    "GWRes = results[results.StationId.isin(list(GWStat.StationId))]"
   ]
  },
  {
   "cell_type": "code",
   "execution_count": null,
   "metadata": {
    "collapsed": true
   },
   "outputs": [],
   "source": [
    "Nitrate = GWRes[GWRes['ParAbb'].isin(['N','NO2','NO3','NH4'])]\n",
    "NitrateStat = GWStat[GWStat.StationId.isin(list(Nitrate.StationId))]"
   ]
  },
  {
   "cell_type": "markdown",
   "metadata": {},
   "source": [
    "# Summarize & Plot Data"
   ]
  },
  {
   "cell_type": "code",
   "execution_count": null,
   "metadata": {
    "collapsed": false
   },
   "outputs": [],
   "source": [
    "ParrAbbSummary = ResOldPrinc.groupby('ParAbb')['ResValue'].agg({'min':np.min, 'mean':np.mean,\n",
    "                                                                'qrt5':(lambda x: np.percentile(x,q=5)),\n",
    "                                                                'qrt95':(lambda x: np.percentile(x,q=95)),\n",
    "                                                                'range':(lambda x: np.max(x)-np.min(x)),   \n",
    "                                                                'lqrt':(lambda x: np.percentile(x,q=25)),\n",
    "                                                                   'median':np.median, \n",
    "                                                                   'uqrt':(lambda x: np.percentile(x,q=75)), \n",
    "                                                                   'max':np.max, 'std':np.std, \n",
    "                                                                   'cnt':(lambda x: np.count_nonzero(~np.isnan(x)))}).reset_index()"
   ]
  },
  {
   "cell_type": "code",
   "execution_count": null,
   "metadata": {
    "collapsed": false
   },
   "outputs": [],
   "source": [
    "ParrAbbSummary"
   ]
  },
  {
   "cell_type": "code",
   "execution_count": null,
   "metadata": {
    "collapsed": false
   },
   "outputs": [],
   "source": [
    "manyPars = list(ParrAbbSummary[ParrAbbSummary['cnt'] >= 30]['ParAbb'])"
   ]
  },
  {
   "cell_type": "code",
   "execution_count": null,
   "metadata": {
    "collapsed": true
   },
   "outputs": [],
   "source": [
    "ResOldPrinc = ResOldPrinc[ResOldPrinc['ParAbb'].isin(manyPars)] \n",
    "summaryStats = ParrAbbSummary[ParrAbbSummary['ParAbb'].isin(manyPars)]"
   ]
  },
  {
   "cell_type": "code",
   "execution_count": null,
   "metadata": {
    "collapsed": false
   },
   "outputs": [],
   "source": [
    "summaryStats"
   ]
  },
  {
   "cell_type": "code",
   "execution_count": null,
   "metadata": {
    "collapsed": false
   },
   "outputs": [],
   "source": [
    "from pylab import rcParams\n",
    "rcParams['figure.figsize'] = 15, 10\n",
    "\n",
    "\n",
    "parLabCounts = ParrAbbSummary.reset_index()\n",
    "parLabCounts = parLabCounts.set_index(['ParAbb'])\n",
    "plt.figure()\n",
    "boxres= ResOldPrinc[ResOldPrinc['ParAbb'].isin(['pH_lab','pH_field'])] \n",
    "boxres.boxplot(column='ResValue', by='ParAbb',vert=False)\n",
    "\n",
    "plt.title('Boxplot of Principal Aquifer pH')\n",
    "plt.yticks([1,2],['Field pH (n = %s)'%(parLabCounts.loc['pH_field','cnt']),'Lab pH (n = %s)'%(parLabCounts.loc['pH_lab','cnt'])])\n",
    "plt.xlim(6,9)\n",
    "plt.xticks(np.arange(6,9.25,0.25))\n",
    "plt.xlabel('pH')\n",
    "plt.savefig(rootname+\"pHBoxplot.svg\")\n",
    "plt.savefig(rootname+\"pHBoxplot.pdf\")"
   ]
  },
  {
   "cell_type": "code",
   "execution_count": null,
   "metadata": {
    "collapsed": false
   },
   "outputs": [],
   "source": [
    "plt.figure()\n",
    "boxres= ResOldPrinc[ResOldPrinc['ParAbb'].isin(['Temp'])] \n",
    "boxres.boxplot(column='ResValue', by='ParAbb',vert=False)\n",
    "\n",
    "plt.title('Boxplot of Principal Aquifer Temperature')\n",
    "plt.yticks([1],['Temperature (deg. C) (n = %s)'%(parLabCounts.loc['Temp','cnt'])])\n",
    "plt.xticks(np.arange(5,30,1))\n",
    "plt.xlabel('Temp. (deg. C)')\n",
    "plt.savefig(rootname+\"pHBoxplot.pdf\")"
   ]
  },
  {
   "cell_type": "code",
   "execution_count": null,
   "metadata": {
    "collapsed": false
   },
   "outputs": [],
   "source": [
    "import seaborn as sns\n",
    "import matplotlib.pyplot as plt\n",
    "sns.set(style=\"whitegrid\")\n",
    "rcParams['figure.figsize'] = 15, 20\n",
    "\n",
    "\n",
    "parLabCounts = ParrAbbSummary.reset_index()\n",
    "parLabCounts = parLabCounts.set_index(['ParAbb'])\n",
    "\n",
    "parlist = ['Mg','Ca','Na','Cl','SO4','HCO3','Si','K','NO3','TDS','N']\n",
    "boxres = ResOldPrinc[ResOldPrinc['ParAbb'].isin(parlist)] \n",
    "plt.figure()\n",
    "sns.violinplot(x=\"ResValue\", y='ParAbb', data=boxres, palette=\"Set3\", scale='width', cut=0)\n",
    "plt.xlabel('mg/L')\n",
    "plt.xlim(0,1200)\n",
    "plt.ylabel('Chemical Constituent')\n",
    "plt.savefig(rootname+'violinMajor.pdf')"
   ]
  },
  {
   "cell_type": "code",
   "execution_count": null,
   "metadata": {
    "collapsed": false
   },
   "outputs": [],
   "source": [
    "parLabCounts = ParrAbbSummary.reset_index()\n",
    "parLabCounts = parLabCounts.set_index(['ParAbb'])\n",
    "\n",
    "\n",
    "def parboxplot(parlist):\n",
    "    plt.figure()\n",
    "    boxres= ResOldPrinc[ResOldPrinc['ParAbb'].isin(parlist)] \n",
    "    boxres.boxplot(column='ResValue', by='ParAbb',vert=False)\n",
    "    #labs = [str(parlist[i]) + \" (n= %s)\"%(parLabCounts.loc[parlist[i],'cnt']) for i in range(len(parlist))]\n",
    "    #tickloc = [b+1 for b in range(len(parlist))]\n",
    "    #plt.yticks(tickloc,labs)\n",
    "    \n",
    "\n",
    "parlist = ['pH_lab','pH_field']\n",
    "parboxplot(parlist)\n",
    "plt.xlabel('pH')\n",
    "plt.savefig(rootname+'pHBoxplot')\n",
    "\n",
    "parlist = ['Mg','Ca','Na','Cl','SO4','HCO3','Si','K','NO3','TDS','N']\n",
    "parboxplot(parlist)\n",
    "plt.title('Major Ions')\n",
    "plt.xlabel('mg/L')\n",
    "plt.grid(which='both',axis='both')\n",
    "plt.xscale('log')\n",
    "plt.xlim(0.1,1000)\n",
    "\n",
    "plt.savefig(rootname+'MajorIonsBoxplot.pdf')\n",
    "\n",
    "#plt.xlim(0.00001,1000)\n",
    "#plt.xscale('log')"
   ]
  },
  {
   "cell_type": "markdown",
   "metadata": {},
   "source": [
    "# Export data "
   ]
  },
  {
   "cell_type": "code",
   "execution_count": null,
   "metadata": {
    "collapsed": false
   },
   "outputs": [],
   "source": [
    "pipergrps.to_csv(rootname+'avgpiper.csv',index_label='StationId')\n",
    "pivdata.to_csv(rootname+'pivotdata.csv',index_label='OBJECTID')\n",
    "princpiv.to_csv(rootname+'PrincAquiferData.csv',index_label='OBJECTID')\n",
    "pivgrp.to_csv(rootname+'pivgrps.csv',index_label='StationId')"
   ]
  },
  {
   "cell_type": "code",
   "execution_count": null,
   "metadata": {
    "collapsed": true
   },
   "outputs": [],
   "source": [
    "Nitrate.to_csv(rootname+'NitrateResults.csv')\n",
    "NitrateStat.to_csv(rootname+'NitrateStations.csv')"
   ]
  },
  {
   "cell_type": "code",
   "execution_count": null,
   "metadata": {
    "collapsed": true
   },
   "outputs": [],
   "source": [
    "summaryStats.to_csv(rootname+'PrincAquifStats.csv')"
   ]
  },
  {
   "cell_type": "code",
   "execution_count": null,
   "metadata": {
    "collapsed": true
   },
   "outputs": [],
   "source": [
    "summaryStats.to_clipboard()"
   ]
  },
  {
   "cell_type": "code",
   "execution_count": null,
   "metadata": {
    "collapsed": false
   },
   "outputs": [],
   "source": [
    "GWStat.to_csv(rootname+'GWStations.csv',index_label='ObjectID')\n",
    "GWRes.to_csv(rootname+'GWResults.csv',index_label='ObjectID')"
   ]
  },
  {
   "cell_type": "code",
   "execution_count": null,
   "metadata": {
    "collapsed": false,
    "scrolled": true
   },
   "outputs": [],
   "source": [
    "writer = pd.ExcelWriter(rootname + \"combined_out.xlsx\", engine=\"xlsxwriter\")\n",
    "Stat.to_excel(writer, \"stations\", index=False)\n",
    "results.to_excel(writer, \"results\", index=False)\n",
    "GWStat.to_excel(writer, 'GWStations',index=False)\n",
    "GWRes.to_excel(writer, 'GWResults',index=False)\n",
    "pipergrps.to_excel(writer,'avgpiper')\n",
    "pivdata.to_excel(writer,'pivotdata')\n",
    "summaryStats.to_excel(writer,'princaquifstats')\n",
    "writer.save()"
   ]
  },
  {
   "cell_type": "code",
   "execution_count": null,
   "metadata": {
    "collapsed": true
   },
   "outputs": [],
   "source": [
    ""
   ]
  }
 ],
 "metadata": {
  "kernelspec": {
   "display_name": "Python 2",
   "language": "python",
   "name": "python2"
  },
  "language_info": {
   "codemirror_mode": {
    "name": "ipython",
    "version": 2
   },
   "file_extension": ".py",
   "mimetype": "text/x-python",
   "name": "python",
   "nbconvert_exporter": "python",
   "pygments_lexer": "ipython2",
   "version": "2.7.8"
  }
 },
 "nbformat": 4,
 "nbformat_minor": 0
}
